{
 "cells": [
  {
   "cell_type": "markdown",
   "id": "31fdebff",
   "metadata": {},
   "source": [
    "# Correr experimentos\n",
    "En este archivo está el código para correr los experimentos"
   ]
  },
  {
   "cell_type": "code",
   "execution_count": 2,
   "id": "5d2ebace",
   "metadata": {
    "vscode": {
     "languageId": "python"
    }
   },
   "outputs": [],
   "source": [
    "import math, subprocess\n",
    "import numpy as np\n",
    "import pandas as pd\n",
    "import matplotlib.pyplot as plt\n",
    "import time, os, path"
   ]
  },
  {
   "cell_type": "code",
   "execution_count": null,
   "id": "850e15df",
   "metadata": {
    "vscode": {
     "languageId": "python"
    }
   },
   "outputs": [],
   "source": [
    "def almost_equals(a, b, tolerance = 1e-4):\n",
    "    return abs(a - b) < tolerance"
   ]
  },
  {
   "cell_type": "code",
   "execution_count": null,
   "id": "3dc8245c",
   "metadata": {
    "vscode": {
     "languageId": "python"
    }
   },
   "outputs": [],
   "source": [
    "ruta_del_ejecutable = \"../src/tp3.exe\"\n",
    "np.random.seed(10)"
   ]
  },
  {
   "cell_type": "markdown",
   "id": "7b70de46",
   "metadata": {},
   "source": [
    "### Ejecutar algoritmo"
   ]
  },
  {
   "cell_type": "code",
   "execution_count": null,
   "id": "448c32e3",
   "metadata": {
    "vscode": {
     "languageId": "python"
    }
   },
   "outputs": [],
   "source": [
    "def correr_experimento(archivo_instancia, p, algoritmo):\n",
    "    start = time.time()\n",
    "    \n",
    "    # Crear proceso para ejecutar el codigo.\n",
    "    output_dir = path.join(os.getcwd(), 'resultados')\n",
    "    \n",
    "    process = subprocess.Popen([ruta_del_ejecutable, archivo_instancia, str(p), algoritmo], cwd=output_dir)\n",
    "\n",
    "    # Correr experimento.\n",
    "    exit_code = process.wait()\n",
    "\n",
    "    # Verificar que el proceso no fallo.\n",
    "    if exit_code != 0: raise(Exception(f'Hubo un error en la experimentacion para el algoritmo con la instancia {archivo_instancia}.'))\n",
    "    \n",
    "    end = time.time()\n",
    "    \n",
    "    tiempo_ejecucion = end-start;\n",
    "    \n",
    "    # Leemos los archivos de salida\n",
    "    f = open(f'{archivo_instancia}.out', 'r')\n",
    "    respuestas = []\n",
    "    for line in f:\n",
    "        respuestas.append(float(line))\n",
    "    iteraciones = []\n",
    "    iteracion = 0\n",
    "    while path.isfile(f'iteraciones.{iteracion}.out'):\n",
    "        resultado_iteracion_actual = []\n",
    "        f2 = open(f'iteraciones.{iteracion}.out', 'r')\n",
    "        for line in f2:\n",
    "            resultado_iteracion_actual.append(float(line))\n",
    "        iteraciones.append(resultado_iteracion_actual)\n",
    "        iteracion += 1\n",
    "    return tiempo_ejecucion, respuestas, iteraciones"
   ]
  },
  {
   "cell_type": "markdown",
   "id": "892ec0bb",
   "metadata": {},
   "source": [
    "### Experimento complejidad con instancias aleatorias"
   ]
  },
  {
   "cell_type": "code",
   "execution_count": null,
   "id": "ddd5c475",
   "metadata": {
    "vscode": {
     "languageId": "python"
    }
   },
   "outputs": [],
   "source": []
  },
  {
   "cell_type": "markdown",
   "id": "612c5a04",
   "metadata": {},
   "source": [
    "### Experimento complejidad instancias 3 principales"
   ]
  },
  {
   "cell_type": "code",
   "execution_count": null,
   "id": "23fd0e4d",
   "metadata": {
    "vscode": {
     "languageId": "python"
    }
   },
   "outputs": [],
   "source": []
  },
  {
   "cell_type": "markdown",
   "id": "d6cb2718",
   "metadata": {},
   "source": [
    "### Experimento complejidad instancias 3 principales y un anillo"
   ]
  },
  {
   "cell_type": "code",
   "execution_count": null,
   "id": "ee831736",
   "metadata": {
    "vscode": {
     "languageId": "python"
    }
   },
   "outputs": [],
   "source": []
  },
  {
   "cell_type": "markdown",
   "id": "7f452c86",
   "metadata": {},
   "source": [
    "### Experimento complejidad instancias árbol"
   ]
  },
  {
   "cell_type": "code",
   "execution_count": null,
   "id": "cf8b5727",
   "metadata": {
    "vscode": {
     "languageId": "python"
    }
   },
   "outputs": [],
   "source": []
  },
  {
   "cell_type": "markdown",
   "id": "e18ec226",
   "metadata": {},
   "source": [
    "### Experimento cualitativo"
   ]
  },
  {
   "cell_type": "code",
   "execution_count": null,
   "id": "1c0f5769",
   "metadata": {
    "vscode": {
     "languageId": "python"
    }
   },
   "outputs": [],
   "source": []
  },
  {
   "cell_type": "markdown",
   "id": "0de6b448",
   "metadata": {},
   "source": [
    "### Experimento análisis de convergencia"
   ]
  },
  {
   "cell_type": "code",
   "execution_count": null,
   "id": "b4e02b52",
   "metadata": {
    "vscode": {
     "languageId": "python"
    }
   },
   "outputs": [],
   "source": []
  }
 ],
 "metadata": {
  "kernelspec": {
   "display_name": "Python 3 (ipykernel)",
   "language": "python",
   "name": "python3"
  },
  "vscode": {
   "interpreter": {
    "hash": "81794d4967e6c3204c66dcd87b604927b115b27c00565d3d43f05ba2f3a2cb0d"
   }
  }
 },
 "nbformat": 4,
 "nbformat_minor": 5
}
