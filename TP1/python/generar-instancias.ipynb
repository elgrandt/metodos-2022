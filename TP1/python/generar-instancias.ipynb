{
 "cells": [
  {
   "cell_type": "markdown",
   "metadata": {},
   "source": [
    "# Generador de instancias\n",
    "En este notebook está el código para generar los sets de instancias que se usan para experimentar.\n",
    "- Estas instancias van a ser guardadas en la carpeta __instancias__.\n",
    "- Cada set estará en su propia carpeta y tendrá un archivo _indice.csv_ que contendrá información sobre las instancias."
   ]
  },
  {
   "cell_type": "code",
   "execution_count": 2,
   "metadata": {},
   "outputs": [],
   "source": [
    "import random, math\n",
    "import pandas as pd\n",
    "#from IPython.core.debugger import set_trace"
   ]
  },
  {
   "cell_type": "code",
   "execution_count": 25,
   "metadata": {},
   "outputs": [],
   "source": [
    "def imprimirEncabezadoInstancias(Dataset, cantidadTotalDePaginas, cantidadTotalDeLinks):\n",
    "    with open(F\"instancias/\"+Dataset+\"/\"+str(cantidadTotalDePaginas)+\"_paginas_\"+str(cantidadTotalDeLinks)+\"_links.txt\", \"w\") as f:\n",
    "        f.write(str(cantidadTotalDePaginas)+\"\\n\")\n",
    "        f.write(str(cantidadTotalDeLinks)+\"\\n\")\n",
    "\n",
    "def imprimirArista(Dataset, cantidadTotalDePaginas, cantidadTotalDeLinks,desde,hasta):\n",
    "    with open(F\"instancias/\"+DataSet+\"/\"+str(cantidadTotalDePaginas)+\"_paginas_\"+str(cantidadTotalDeLinks)+\"_links.txt\", \"r+\") as f:\n",
    "        f.seek(0, 2)\n",
    "        f.write(str(desde)+\" \"+str(hasta)+\"\\n\")"
   ]
  },
  {
   "cell_type": "markdown",
   "metadata": {},
   "source": [
    "## Dataset 1\n",
    "Instancias que modelan el una web con 3 paginas principales.\n"
   ]
  },
  {
   "cell_type": "markdown",
   "metadata": {},
   "source": [
    "### Defino la funcion que va a generar la instancia"
   ]
  },
  {
   "cell_type": "code",
   "execution_count": 18,
   "metadata": {},
   "outputs": [],
   "source": [
    "def generarInstancia3Principales(DataSet,cantidadTotalDePaginas,cantidadTotalDeLinks,Cant1,Cant2,Cant3,NombreInstancia=\"\"):\n",
    "    SetPaginasPosibles=set(range(cantidadTotalDePaginas))\n",
    "    blacklist=[1,2,3]\n",
    "    #set_trace()\n",
    "    #genero los que apuntan a la pagina 1\n",
    "    for i in range(1, Cant1):\n",
    "        PaginasPosibles=list(SetPaginasPosibles.difference(blacklist))\n",
    "        PaginaElegida = random.choice(PaginasPosibles)\n",
    "        blacklist.append(PaginaElegida)\n",
    "        if(len(NombreInstancia)==0):\n",
    "        #    set_trace()\n",
    "            imprimirArista(DataSet, cantidadTotalDePaginas, cantidadTotalDeLinks,PaginaElegida,1)\n",
    "        else:    \n",
    "            imprimirArista(DataSet, NombreInstancia, cantidadTotalDeLinks,PaginaElegida,1)\n",
    "    #genero los que apuntan a la pagina 2\n",
    "    blacklist=[1,2,3]\n",
    "    for i in range(1, Cant2):\n",
    "        PaginasPosibles=list(SetPaginasPosibles.difference(blacklist))\n",
    "        PaginaElegida = random.choice(PaginasPosibles)\n",
    "        blacklist.append(PaginaElegida)\n",
    "        if(len(NombreInstancia)==0):\n",
    "            imprimirArista(DataSet, cantidadTotalDePaginas, cantidadTotalDeLinks,PaginaElegida,2)\n",
    "        else:\n",
    "            imprimirArista(DataSet, NombreInstancia, cantidadTotalDeLinks,PaginaElegida,2)\n",
    "\n",
    "    #genero los que apuntan a la pagina 3\n",
    "    blacklist=[1,2,3]\n",
    "    for i in range(1, Cant3):\n",
    "        PaginasPosibles=list(SetPaginasPosibles.difference(blacklist))\n",
    "        PaginaElegida = random.choice(PaginasPosibles)\n",
    "        blacklist.append(PaginaElegida)\n",
    "        if(len(NombreInstancia)==0):\n",
    "            imprimirArista(DataSet, cantidadTotalDePaginas, cantidadTotalDeLinks,PaginaElegida,3)\n",
    "        else:\n",
    "            imprimirArista(DataSet, NombreInstancia, cantidadTotalDeLinks,PaginaElegida,3)\n",
    "\n",
    "    blacklist=[1,2,3]\n",
    "    #set_trace()\n",
    "    #genero las aristas restantes\n",
    "    for i in range(1, (cantidadTotalDeLinks-Cant3-Cant2-Cant1)):\n",
    "     #   set_trace()\n",
    "        PaginasPosibles=list(SetPaginasPosibles.difference(blacklist))\n",
    "        Desde = random.choice(PaginasPosibles)\n",
    "      #  set_trace()\n",
    "        blacklist.append(Desde)\n",
    "        Hasta = random.choice(PaginasPosibles)\n",
    "       # set_trace()\n",
    "        if(len(NombreInstancia)==0):\n",
    "            imprimirArista(DataSet, cantidadTotalDePaginas, cantidadTotalDeLinks,Desde,Hasta)\n",
    "        else:\n",
    "            imprimirArista(DataSet, NombreInstancia, cantidadTotalDeLinks,Desde,Hasta)"
   ]
  },
  {
   "cell_type": "markdown",
   "metadata": {},
   "source": [
    "### invoco la funcion"
   ]
  },
  {
   "cell_type": "code",
   "execution_count": 19,
   "metadata": {},
   "outputs": [
    {
     "name": "stdout",
     "output_type": "stream",
     "text": [
      "Archivo:\n",
      "instancias/3 Principales/3000_paginas_1000_links.txt \n",
      "Creado con exito\n"
     ]
    }
   ],
   "source": [
    "DataSet=\"3 Principales\"\n",
    "cantidadTotalDePaginas=3000\n",
    "cantidadTotalDeLinks=1000\n",
    "cant1=500\n",
    "cant2=200\n",
    "cant3=100\n",
    "imprimirEncabezadoInstancias(DataSet,cantidadTotalDePaginas,cantidadTotalDeLinks)\n",
    "generarInstancia3Principales(DataSet,cantidadTotalDePaginas,cantidadTotalDeLinks,cant1,cant2,cant3)\n",
    "print(\"Archivo:\\n\"+F\"instancias/\"+str(DataSet)+\"/\"+str(cantidadTotalDePaginas)+\"_paginas_\"+str(cantidadTotalDeLinks)+\"_links.txt \\n\"+\"Creado con exito\")"
   ]
  },
  {
   "cell_type": "markdown",
   "metadata": {},
   "source": [
    "## Dataset 2\n",
    "Instancias en donde hay 3 claros principales pero tambien hay un anillo aislado de paginas que se apuntan entre si y todas a una pagina central\n",
    "\n",
    "```es nescesario correr el bloque que define generarInstancia3Principales() ya que se usa\n",
    "```\n",
    "\n",
    "Por practicidad la pagina central del anillo es la ultima y las que integran el anillo son las ultimas N-1 (siendo N la cantidad de paginas del anillo)"
   ]
  },
  {
   "cell_type": "markdown",
   "metadata": {},
   "source": [
    "### Defino la funcion que va a generar la instancia"
   ]
  },
  {
   "cell_type": "code",
   "execution_count": 20,
   "metadata": {},
   "outputs": [],
   "source": [
    "def generarIntanciaConAnillo(DataSet,cantidadTotalDePaginas,cantidadTotalDeLinks,Cant1,Cant2,Cant3,PrimeroDelAnillo):\n",
    "    imprimirEncabezadoInstancias(DataSet,cantidadTotalDePaginas,cantidadTotalDeLinks)\n",
    "    UltimoDelAnillo=cantidadTotalDePaginas-1\n",
    "    CantAnillo=UltimoDelAnillo-PrimeroDelAnillo+1\n",
    "    CantLegales=cantidadTotalDePaginas-CantAnillo-1\n",
    "    CentralDelAnillo=cantidadTotalDePaginas\n",
    "    generarInstancia3Principales(DataSet,CantLegales,cantidadTotalDeLinks,Cant1,Cant2,Cant3,str(cantidadTotalDePaginas))\n",
    "\n",
    "    #agrego links apuntando a derecha\n",
    "    for i in range(PrimeroDelAnillo, cantidadTotalDePaginas-1):\n",
    "        if((i-CantLegales)==CantAnillo):\n",
    "            siguiente=PrimeroDelAnillo\n",
    "        else:\n",
    "            siguiente= i+1\n",
    "        imprimirArista(DataSet, cantidadTotalDePaginas, cantidadTotalDeLinks,i,siguiente)\n",
    "    #agrego links apuntando a izquiera\n",
    "    for i in range(UltimoDelAnillo, PrimeroDelAnillo,-1):\n",
    "        if(i==PrimeroDelAnillo):\n",
    "            siguiente=UltimoAnillo\n",
    "        else:\n",
    "            siguiente= i-1\n",
    "        imprimirArista(DataSet, cantidadTotalDePaginas, cantidadTotalDeLinks,i,siguiente)\n",
    "    #agrego links de todas la paginas del anillo apuntando al centro\n",
    "    for i in range(PrimeroDelAnillo,UltimoDelAnillo):        \n",
    "        imprimirArista(DataSet, cantidadTotalDePaginas, cantidadTotalDeLinks,i,CentralDelAnillo)"
   ]
  },
  {
   "cell_type": "markdown",
   "metadata": {},
   "source": [
    "### invoco la funcion"
   ]
  },
  {
   "cell_type": "code",
   "execution_count": 21,
   "metadata": {},
   "outputs": [
    {
     "name": "stdout",
     "output_type": "stream",
     "text": [
      "Archivo:\n",
      "instancias/3 Principales y Anillo/10000_paginas_1000_links.txt \n",
      "Creado con exito\n"
     ]
    }
   ],
   "source": [
    "DataSet=\"3 Principales y Anillo\"\n",
    "cantidadTotalDePaginas=10000\n",
    "cantidadTotalDeLinks=1000\n",
    "Cant1=500\n",
    "Cant2=200\n",
    "Cant3=100\n",
    "PrimeroDelAnillo=7001\n",
    "generarIntanciaConAnillo(DataSet,cantidadTotalDePaginas,cantidadTotalDeLinks,Cant1,Cant2,Cant3,PrimeroDelAnillo)\n",
    "print(\"Archivo:\\n\"+F\"instancias/\"+str(DataSet)+\"/\"+str(cantidadTotalDePaginas)+\"_paginas_\"+str(cantidadTotalDeLinks)+\"_links.txt \\n\"+\"Creado con exito\")"
   ]
  },
  {
   "cell_type": "markdown",
   "metadata": {},
   "source": [
    "## Dataset 3\n",
    "Instancias que modelan el caso particular donde las paginas principales apuntan a otra no tan principal"
   ]
  },
  {
   "cell_type": "markdown",
   "metadata": {},
   "source": [
    "### Defino la funcion que va a generar la instancia"
   ]
  },
  {
   "cell_type": "code",
   "execution_count": 30,
   "metadata": {},
   "outputs": [],
   "source": [
    "def generarInstanciaPaginaApuntada(Carpeta,cantidadTotalDePaginas,cantidadTotalDeLinks,Cant1,Cant2,Cant3):\n",
    "    imprimirEncabezadoInstancias(Carpeta,cantidadTotalDePaginas,cantidadTotalDeLinks)\n",
    "    generarInstancia3PrincipalesVersion2(Carpeta,cantidadTotalDePaginas,cantidadTotalDeLinks,Cant1,Cant2,Cant3)\n",
    "    blacklist=[1,2,3]\n",
    "    PaginasPosibles=list(set(range(cantidadTotalDePaginas)).difference(blacklist))\n",
    "    PaginaElegida = random.choice(PaginasPosibles)\n",
    "    imprimirAristaVersion2(Carpeta, cantidadTotalDePaginas, cantidadTotalDeLinks,1,PaginaElegida)\n",
    "    imprimirAristaVersion2(Carpeta, cantidadTotalDePaginas, cantidadTotalDeLinks,2,PaginaElegida)\n",
    "    imprimirAristaVersion2(Carpeta, cantidadTotalDePaginas, cantidadTotalDeLinks,3,PaginaElegida)\n"
   ]
  },
  {
   "cell_type": "code",
   "execution_count": 31,
   "metadata": {},
   "outputs": [],
   "source": [
    "def generarInstancia3PrincipalesVersion2(Carpeta,cantidadTotalDePaginas,cantidadTotalDeLinks,Cant1,Cant2,Cant3):\n",
    "    SetPaginasPosibles=set(range(cantidadTotalDePaginas))\n",
    "    blacklist=[1,2,3]\n",
    "    #genero los que apuntan a la pagina 1\n",
    "    for i in range(1, Cant1):\n",
    "        PaginasPosibles=list(SetPaginasPosibles.difference(blacklist))\n",
    "        PaginaElegida = random.choice(PaginasPosibles)\n",
    "        blacklist.append(PaginaElegida)\n",
    "        imprimirAristaVersion2(Carpeta, cantidadTotalDePaginas, cantidadTotalDeLinks,PaginaElegida,1)\n",
    "    #genero los que apuntan a la pagina 2\n",
    "    blacklist=[1,2,3]\n",
    "    for i in range(1, Cant2):\n",
    "        PaginasPosibles=list(SetPaginasPosibles.difference(blacklist))\n",
    "        PaginaElegida = random.choice(PaginasPosibles)\n",
    "        blacklist.append(PaginaElegida)\n",
    "        imprimirAristaVersion2(Carpeta, cantidadTotalDePaginas, cantidadTotalDeLinks,PaginaElegida,2)\n",
    "    #genero los que apuntan a la pagina 3\n",
    "    blacklist=[1,2,3]\n",
    "    for i in range(1, Cant3):\n",
    "        PaginasPosibles=list(SetPaginasPosibles.difference(blacklist))\n",
    "        PaginaElegida = random.choice(PaginasPosibles)\n",
    "        blacklist.append(PaginaElegida)\n",
    "        imprimirAristaVersion2(Carpeta, cantidadTotalDePaginas, cantidadTotalDeLinks,PaginaElegida,3)\n",
    "        \n",
    "    blacklist=[1,2,3]\n",
    "    #genero las aristas restantes\n",
    "    for i in range(1, (cantidadTotalDeLinks-Cant3-Cant2-Cant1)):\n",
    "        PaginasPosibles=list(SetPaginasPosibles.difference(blacklist))\n",
    "        Desde = random.choice(PaginasPosibles)\n",
    "        blacklist.append(Desde)\n",
    "        Hasta = random.choice(PaginasPosibles)\n",
    "        imprimirAristaVersion2(Carpeta, cantidadTotalDePaginas, cantidadTotalDeLinks,Desde,Hasta)"
   ]
  },
  {
   "cell_type": "code",
   "execution_count": 32,
   "metadata": {},
   "outputs": [],
   "source": [
    "\n",
    "def imprimirAristaVersion2(Carpeta, cantidadTotalDePaginas, cantidadTotalDeLinks,desde,hasta):\n",
    "    with open(F\"instancias/\"+Carpeta+\"/\"+str(cantidadTotalDePaginas)+\"_paginas_\"+str(cantidadTotalDeLinks)+\"_links.txt\", \"r+\") as f:\n",
    "        f.seek(0, 2)\n",
    "        f.write(str(desde)+\" \"+str(hasta)+\"\\n\")"
   ]
  },
  {
   "cell_type": "markdown",
   "metadata": {},
   "source": [
    "### invoco la funcion"
   ]
  },
  {
   "cell_type": "code",
   "execution_count": 33,
   "metadata": {},
   "outputs": [
    {
     "name": "stdout",
     "output_type": "stream",
     "text": [
      "Archivo:\n",
      "instancias/3 Principales Apuntando a otra/Apuntadas_1000_links.txt \n",
      "Creado con exito\n"
     ]
    }
   ],
   "source": [
    "Carpeta=\"3 Principales Apuntando a otra\"\n",
    "cantidadTotalDePaginas=10000\n",
    "cantidadTotalDeLinks=1000\n",
    "Cant1=500\n",
    "Cant2=200\n",
    "Cant3=100\n",
    "generarInstanciaPaginaApuntada(Carpeta,cantidadTotalDePaginas,cantidadTotalDeLinks,Cant1,Cant2,Cant3)\n",
    "print(\"Archivo:\\n\"+F\"instancias/\"+Carpeta+\"/Apuntadas_\"+str(cantidadTotalDeLinks)+\"_links.txt \\n\"+\"Creado con exito\")"
   ]
  },
  {
   "cell_type": "code",
   "execution_count": null,
   "metadata": {},
   "outputs": [],
   "source": []
  }
 ],
 "metadata": {
  "kernelspec": {
   "display_name": "Python 3",
   "language": "python",
   "name": "python3"
  },
  "language_info": {
   "codemirror_mode": {
    "name": "ipython",
    "version": 3
   },
   "file_extension": ".py",
   "mimetype": "text/x-python",
   "name": "python",
   "nbconvert_exporter": "python",
   "pygments_lexer": "ipython3",
   "version": "3.8.10"
  }
 },
 "nbformat": 4,
 "nbformat_minor": 4
}
