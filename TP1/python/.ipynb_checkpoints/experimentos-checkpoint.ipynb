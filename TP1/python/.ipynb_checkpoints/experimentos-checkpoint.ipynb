{
 "cells": [
  {
   "cell_type": "markdown",
   "metadata": {},
   "source": [
    "# Correr experimentos\n",
    "En este archivo está el código para correr los experimentos y escribir los resultados en archivos CSV.\n",
    "> Los archivos se guardan en la carpeta _resultados_."
   ]
  },
  {
   "cell_type": "code",
   "execution_count": 101,
   "metadata": {},
   "outputs": [],
   "source": [
    "import math, subprocess\n",
    "import pandas as pd\n",
    "import time\n",
    "import filecmp\n",
    "\n",
    "from os import listdir, getcwd\n",
    "from os.path import isfile, join"
   ]
  },
  {
   "cell_type": "markdown",
   "metadata": {},
   "source": [
    "La siguiente función sirve para correr el código sobre una instancia particular.\n",
    "- TA: Test aleatorio"
   ]
  },
  {
   "cell_type": "code",
   "execution_count": 102,
   "metadata": {},
   "outputs": [],
   "source": [
    "def correr_experimento(archivo_instancia, p):\n",
    "    start = time.time()\n",
    "    \n",
    "    # Crear proceso para ejecutar el codigo.\n",
    "    output_dir = join(getcwd(), 'resultados')\n",
    "    process = subprocess.Popen([\"../src/tp1.exe\", archivo_instancia, str(p)], cwd=output_dir)\n",
    "\n",
    "    # Correr experimento.\n",
    "    exit_code = process.wait()\n",
    "\n",
    "    # Verificar que el proceso no fallo.\n",
    "    if exit_code != 0: raise(F\"Hubo un error en la experimentacion para el algoritmo con la instancia {archivo_instancia}.\")\n",
    "    \n",
    "    end = time.time()\n",
    "    return end-start;"
   ]
  },
  {
   "cell_type": "markdown",
   "metadata": {},
   "source": [
    "## Agregamos los experimentos\n",
    "el codigo de por si guarda el resultado de las ejecuciones en un txt."
   ]
  },
  {
   "cell_type": "code",
   "execution_count": 103,
   "metadata": {},
   "outputs": [],
   "source": [
    "experimentos = [];"
   ]
  },
  {
   "cell_type": "markdown",
   "metadata": {},
   "source": [
    "### Experimento 1"
   ]
  },
  {
   "cell_type": "code",
   "execution_count": 104,
   "metadata": {},
   "outputs": [],
   "source": [
    "experimentos.append((\"..\\\\..\\\\tests\\\\test_15_segundos.txt\", 0.9));\n",
    "experimentos.append((\"..\\\\..\\\\tests\\\\test_30_segundos.txt\", 0.8));\n",
    "experimentos.append((\"..\\\\..\\\\tests\\\\test_aleatorio_desordenado.txt\", 0.76));\n",
    "experimentos.append((\"..\\\\..\\\\tests\\\\test_completo.txt\", 0.5));\n",
    "experimentos.append((\"..\\\\..\\\\tests\\\\test_sin_links.txt\", 0.64));\n",
    "experimentos.append((\"..\\\\..\\\\tests\\\\test_trivial.txt\", 0.3));"
   ]
  },
  {
   "cell_type": "markdown",
   "metadata": {},
   "source": [
    "## Ejecutar los experimentos.\n",
    "Este paso puede tardar unos minutos hasta terminar de ejecutarse."
   ]
  },
  {
   "cell_type": "code",
   "execution_count": null,
   "metadata": {},
   "outputs": [
    {
     "name": "stdout",
     "output_type": "stream",
     "text": [
      "Corriendo experimento: 1/6\n"
     ]
    }
   ],
   "source": [
    "numero_de_experimento = 1\n",
    "numero_de_repeticiones = 1 # Aumentar para mayor precisión con los tiempos\n",
    "for (archivo, p) in experimentos:\n",
    "    \n",
    "    # Voy mostrando que experimento se esta ejecutando.\n",
    "    print('Corriendo experimento: ' + str(numero_de_experimento) + \"/\" + str(len(experimentos)))\n",
    "    \n",
    "    tiempos = []\n",
    "    for repeticion in range(numero_de_repeticiones):\n",
    "        tiempo_de_ejecucion = correr_experimento(archivo, p);\n",
    "        tiempos.append(tiempo_de_ejecucion)\n",
    "    \n",
    "    print('Estadísticas de los tiempos de ejecución:')\n",
    "    print(pd.Series(tiempos).describe())\n",
    "    \n",
    "    numero_de_experimento += 1"
   ]
  },
  {
   "cell_type": "markdown",
   "metadata": {},
   "source": [
    "## Comparamos resultados\n",
    "Comparamos la carpeta \"resultados\" con la carpeta \"resultados esperados\"."
   ]
  },
  {
   "cell_type": "code",
   "execution_count": null,
   "metadata": {},
   "outputs": [],
   "source": [
    "resultados = [f for f in listdir(\"resultados\") if isfile(join(\"resultados\", f))]\n",
    "esperados = [f for f in listdir(\"resultados_esperados\") if isfile(join(\"resultados_esperados\", f))]\n",
    "common_elements = list(set(resultados).intersection(set(esperados)))\n",
    "for name in common_elements:\n",
    "    print(\">>>>>> Comparado el archivo %s\" % (name))\n",
    "    resultado = open(join(\"resultados\", name))\n",
    "    esperado = open(join(\"resultados_esperados\", name))\n",
    "    lineas_resultado = resultado.readlines()\n",
    "    lineas_esperado = esperado.readlines()\n",
    "    if len(lineas_resultado) != len(lineas_esperado):\n",
    "        print(\"No contienen la misma cantidad de lineas.\")\n",
    "        continue\n",
    "    if len(lineas_resultado) == 0:\n",
    "        print(\"Los archivos están vacíos.\")\n",
    "        continue\n",
    "    if lineas_resultado[0] != lineas_esperado[0]:\n",
    "        print(\"Los P utilizados son distintos por lo que no tiene sentido comparar.\")\n",
    "        continue\n",
    "    for i in range(len(lineas_resultado)):\n",
    "        if lineas_resultado[i] != lineas_esperado[i]:\n",
    "            print(\"En la linea %i el valor %s del resultado es distinto al valor %s del esperado.\" % (i, lineas_resultado[i], lineas_esperado[i]))\n",
    "print(\">>>>>> Terminado de comparar todos los archivos\")"
   ]
  },
  {
   "cell_type": "code",
   "execution_count": null,
   "metadata": {},
   "outputs": [],
   "source": []
  }
 ],
 "metadata": {
  "kernelspec": {
   "display_name": "Python 3 (ipykernel)",
   "language": "python",
   "name": "python3"
  },
  "language_info": {
   "codemirror_mode": {
    "name": "ipython",
    "version": 3
   },
   "file_extension": ".py",
   "mimetype": "text/x-python",
   "name": "python",
   "nbconvert_exporter": "python",
   "pygments_lexer": "ipython3",
   "version": "3.9.5"
  }
 },
 "nbformat": 4,
 "nbformat_minor": 4
}
