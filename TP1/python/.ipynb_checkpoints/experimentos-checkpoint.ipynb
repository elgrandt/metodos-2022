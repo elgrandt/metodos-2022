{
 "cells": [
  {
   "cell_type": "markdown",
   "metadata": {},
   "source": [
    "# Correr experimentos\n",
    "En este archivo está el código para correr los experimentos y escribir los resultados en archivos CSV.\n",
    "> Los archivos se guardan en la carpeta _resultados_."
   ]
  },
  {
   "cell_type": "code",
   "execution_count": 6,
   "metadata": {},
   "outputs": [],
   "source": [
    "import math, subprocess\n",
    "import pandas as pd\n",
    "import time\n",
    "import filecmp\n",
    "#from IPython.core.debugger import set_trace\n",
    "#set_trace()\n",
    "from os import listdir, getcwd\n",
    "from os.path import isfile, join"
   ]
  },
  {
   "cell_type": "markdown",
   "metadata": {},
   "source": [
    "La siguiente función sirve para correr el código sobre una instancia particular.\n",
    "- TA: Test aleatorio"
   ]
  },
  {
   "cell_type": "code",
   "execution_count": 7,
   "metadata": {},
   "outputs": [],
   "source": [
    "def correr_experimento(archivo_instancia, p):\n",
    "    start = time.time()\n",
    "    \n",
    "    # Crear proceso para ejecutar el codigo.\n",
    "    output_dir = join(getcwd(), 'resultados')\n",
    "    process = subprocess.Popen([\"../src/tp1.exe\", archivo_instancia, str(p)], cwd=output_dir)\n",
    "\n",
    "    # Correr experimento.\n",
    "    exit_code = process.wait()\n",
    "    print(process.stdout)\n",
    "\n",
    "    # Verificar que el proceso no fallo.\n",
    "    if exit_code != 0: raise(F\"Hubo un error en la experimentacion para el algoritmo con la instancia {archivo_instancia}.\")\n",
    "    \n",
    "    end = time.time()\n",
    "    return end-start;"
   ]
  },
  {
   "cell_type": "markdown",
   "metadata": {},
   "source": [
    "## Agregamos los experimentos\n",
    "el codigo de por si guarda el resultado de las ejecuciones en un txt."
   ]
  },
  {
   "cell_type": "code",
   "execution_count": 8,
   "metadata": {},
   "outputs": [],
   "source": [
    "experimentos = [];"
   ]
  },
  {
   "cell_type": "markdown",
   "metadata": {},
   "source": [
    "### Experimento 1"
   ]
  },
  {
   "cell_type": "code",
   "execution_count": 9,
   "metadata": {},
   "outputs": [],
   "source": [
    "# experimentos.append((\"..\\\\..\\\\tests\\\\test_15_segundos.txt\", 0.9))\n",
    "# experimentos.append((\"..\\\\..\\\\tests\\\\test_30_segundos.txt\", 0.8))\n",
    "# experimentos.append((\"..\\\\..\\\\tests\\\\test_aleatorio_desordenado.txt\", 0.76))\n",
    "# experimentos.append((\"..\\\\..\\\\tests\\\\test_completo.txt\", 0.5))\n",
    "# experimentos.append((\"..\\\\..\\\\tests\\\\test_sin_links.txt\", 0.64))\n",
    "# experimentos.append((\"..\\\\..\\\\tests\\\\test_trivial.txt\", 0.3))\n",
    "#######################################\n",
    "experimentos.append((\"instancias\\\\3 Principales\\\\1000_paginas_200_links_P_0.7.txt\", 0.7))\n",
    "experimentos.append((\"instancias\\\\3 Principales\\\\1000_paginas_400_links_P_0.7.txt\", 0.7))\n",
    "experimentos.append((\"instancias\\\\3 Principales\\\\1000_paginas_600_links_P_0.7.txt\", 0.7))\n",
    "experimentos.append((\"instancias\\\\3 Principales\\\\1000_paginas_800_links_P_0.7.txt\", 0.7))\n",
    "experimentos.append((\"instancias\\\\3 Principales\\\\1000_paginas_1000_links_P_0.7.txt\", 0.7))"
   ]
  },
  {
   "cell_type": "markdown",
   "metadata": {},
   "source": [
    "## Ejecutar los experimentos.\n",
    "Este paso puede tardar unos minutos hasta terminar de ejecutarse."
   ]
  },
  {
   "cell_type": "code",
   "execution_count": 14,
   "metadata": {},
   "outputs": [],
   "source": [
    "numero_de_experimento = 1\n",
    "numero_de_repeticiones = 5 # Aumentar para mayor precisión con los tiempos\n",
    "for (archivo, p) in experimentos:\n",
    "    \n",
    "    # Voy mostrando que experimento se esta ejecutando.\n",
    "    print('Corriendo experimento: %i/%i (%s)' % (numero_de_experimento, len(experimentos), archivo))\n",
    "    \n",
    "    tiempos = []\n",
    "    for repeticion in range(numero_de_repeticiones):\n",
    "        tiempo_de_ejecucion = correr_experimento(archivo, p);\n",
    "        tiempos.append(tiempo_de_ejecucion)\n",
    "    \n",
    "    print('Estadísticas de los tiempos de ejecución:')\n",
    "    print(pd.Series(tiempos).describe())\n",
    "    \n",
    "    numero_de_experimento += 1"
   ]
  },
  {
   "cell_type": "markdown",
   "metadata": {},
   "source": [
    "## Comparamos resultados\n",
    "Comparamos la carpeta \"resultados\" con la carpeta \"resultados esperados\"."
   ]
  },
  {
   "cell_type": "code",
   "execution_count": 11,
   "metadata": {},
   "outputs": [
    {
     "name": "stdout",
     "output_type": "stream",
     "text": [
      ">>>>>> Comparado el archivo test_aleatorio_desordenado.txt.out\n",
      "No contienen la misma cantidad de lineas.\n",
      ">>>>>> Comparado el archivo test_trivial.txt.out\n",
      "No contienen la misma cantidad de lineas.\n",
      ">>>>>> Comparado el archivo test_30_segundos.txt.out\n",
      "No contienen la misma cantidad de lineas.\n",
      ">>>>>> Comparado el archivo test_completo.txt.out\n",
      "No contienen la misma cantidad de lineas.\n",
      ">>>>>> Comparado el archivo test_sin_links.txt.out\n",
      "No contienen la misma cantidad de lineas.\n",
      ">>>>>> Comparado el archivo test_15_segundos.txt.out\n",
      "No contienen la misma cantidad de lineas.\n",
      ">>>>>> Terminado de comparar todos los archivos\n"
     ]
    }
   ],
   "source": [
    "resultados = [f for f in listdir(\"resultados\") if isfile(join(\"resultados\", f))]\n",
    "esperados = [f for f in listdir(\"resultados_esperados\") if isfile(join(\"resultados_esperados\", f))]\n",
    "common_elements = list(set(resultados).intersection(set(esperados)))\n",
    "for name in common_elements:\n",
    "    print(\">>>>>> Comparado el archivo %s\" % (name))\n",
    "    resultado = open(join(\"resultados\", name))\n",
    "    esperado = open(join(\"resultados_esperados\", name))\n",
    "    lineas_resultado = resultado.readlines()\n",
    "    lineas_esperado = esperado.readlines()\n",
    "    if len(lineas_resultado) != len(lineas_esperado):\n",
    "        print(\"No contienen la misma cantidad de lineas.\")\n",
    "        continue\n",
    "    if len(lineas_resultado) == 0:\n",
    "        print(\"Los archivos están vacíos.\")\n",
    "        continue\n",
    "    if lineas_resultado[0] != lineas_esperado[0]:\n",
    "        print(\"Los P utilizados son distintos por lo que no tiene sentido comparar.\")\n",
    "        continue\n",
    "    diferencias = []\n",
    "    for i in range(len(lineas_resultado)):\n",
    "        if abs(float(lineas_resultado[i]) - float(lineas_esperado[i])) > 10e-4:\n",
    "            print(\"En la linea %i el valor %s del resultado es distinto al valor %s del esperado.\" % (i, lineas_resultado[i], lineas_esperado[i]))\n",
    "        diferencias.append(abs(float(lineas_resultado[i]) - float(lineas_esperado[i])))\n",
    "    print(\"Estadísticas de las diferencias:\")\n",
    "    print(pd.Series(diferencias).describe())\n",
    "print(\">>>>>> Terminado de comparar todos los archivos\")"
   ]
  },
  {
   "cell_type": "code",
   "execution_count": 12,
   "metadata": {},
   "outputs": [],
   "source": [
    "experimentos = [];"
   ]
  },
  {
   "cell_type": "code",
   "execution_count": null,
   "metadata": {},
   "outputs": [],
   "source": []
  },
  {
   "cell_type": "code",
   "execution_count": 13,
   "metadata": {},
   "outputs": [
    {
     "ename": "FileNotFoundError",
     "evalue": "[Errno 2] No such file or directory: 'archivo'",
     "output_type": "error",
     "traceback": [
      "\u001b[1;31m---------------------------------------------------------------------------\u001b[0m",
      "\u001b[1;31mFileNotFoundError\u001b[0m                         Traceback (most recent call last)",
      "Input \u001b[1;32mIn [13]\u001b[0m, in \u001b[0;36m<cell line: 1>\u001b[1;34m()\u001b[0m\n\u001b[1;32m----> 1\u001b[0m archivo \u001b[38;5;241m=\u001b[39m \u001b[38;5;28;43mopen\u001b[39;49m\u001b[43m(\u001b[49m\u001b[38;5;124;43m\"\u001b[39;49m\u001b[38;5;124;43marchivo\u001b[39;49m\u001b[38;5;124;43m\"\u001b[39;49m\u001b[43m)\u001b[49m\n\u001b[0;32m      2\u001b[0m lineas \u001b[38;5;241m=\u001b[39m archivo\u001b[38;5;241m.\u001b[39mreadlines()\n\u001b[0;32m      3\u001b[0m p \u001b[38;5;241m=\u001b[39m lineas[\u001b[38;5;241m0\u001b[39m]\n",
      "\u001b[1;31mFileNotFoundError\u001b[0m: [Errno 2] No such file or directory: 'archivo'"
     ]
    }
   ],
   "source": [
    "archivo = open(\"archivo\")\n",
    "lineas = archivo.readlines()\n",
    "p = lineas[0]\n",
    "resultado = lineas[1:]\n",
    "resultado[5]\n",
    "pd.Series(resultado)"
   ]
  }
 ],
 "metadata": {
  "kernelspec": {
   "display_name": "Python 3 (ipykernel)",
   "language": "python",
   "name": "python3"
  },
  "language_info": {
   "codemirror_mode": {
    "name": "ipython",
    "version": 3
   },
   "file_extension": ".py",
   "mimetype": "text/x-python",
   "name": "python",
   "nbconvert_exporter": "python",
   "pygments_lexer": "ipython3",
   "version": "3.9.5"
  }
 },
 "nbformat": 4,
 "nbformat_minor": 4
}
