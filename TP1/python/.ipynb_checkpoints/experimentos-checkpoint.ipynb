{
 "cells": [
  {
   "cell_type": "markdown",
   "metadata": {},
   "source": [
    "# Correr experimentos\n",
    "En este archivo está el código para correr los experimentos y escribir los resultados en archivos CSV.\n",
    "> Los archivos se guardan en la carpeta _resultados_."
   ]
  },
  {
   "cell_type": "code",
   "execution_count": 1,
   "metadata": {},
   "outputs": [],
   "source": [
    "import math, subprocess\n",
    "import pandas as pd\n",
    "import time\n",
    "import filecmp\n",
    "#from IPython.core.debugger import set_trace\n",
    "#set_trace()\n",
    "from os import listdir, getcwd\n",
    "from os.path import isfile, join"
   ]
  },
  {
   "cell_type": "markdown",
   "metadata": {},
   "source": [
    "La siguiente función sirve para correr el código sobre una instancia particular.\n",
    "- TA: Test aleatorio"
   ]
  },
  {
   "cell_type": "code",
   "execution_count": 6,
   "metadata": {},
   "outputs": [],
   "source": [
    "def correr_experimento(archivo_instancia, p):\n",
    "    start = time.time()\n",
    "    \n",
    "    # Crear proceso para ejecutar el codigo.\n",
    "    output_dir = join(getcwd(), 'resultados')\n",
    "    process = subprocess.Popen([\"../../src/tp1\", archivo_instancia, str(p)], cwd=output_dir)\n",
    "\n",
    "    # Correr experimento.\n",
    "    exit_code = process.wait()\n",
    "\n",
    "    # Verificar que el proceso no fallo.\n",
    "    if exit_code != 0: raise(Exception(F\"Hubo un error en la experimentacion para el algoritmo con la instancia {archivo_instancia}.\"))\n",
    "    \n",
    "    end = time.time()\n",
    "    return end-start;"
   ]
  },
  {
   "cell_type": "markdown",
   "metadata": {},
   "source": [
    "## Agregamos los experimentos\n",
    "el codigo de por si guarda el resultado de las ejecuciones en un txt."
   ]
  },
  {
   "cell_type": "markdown",
   "metadata": {},
   "source": [
    "### Experimento 1"
   ]
  },
  {
   "cell_type": "code",
   "execution_count": 23,
   "metadata": {},
   "outputs": [],
   "source": [
    "experimentos = [];\n",
    "#experimentos.append((\"../../tests/test_15_segundos.txt\", 0.9))\n",
    "#experimentos.append((\"../../tests/test_30_segundos.txt\", 0.8))\n",
    "#experimentos.append((\"../../tests/test_aleatorio_desordenado.txt\", 0.76))\n",
    "#experimentos.append((\"../../tests/test_completo.txt\", 0.5))\n",
    "#experimentos.append((\"../../tests/test_sin_links.txt\", 0.64))\n",
    "#experimentos.append((\"../../tests/test_trivial.txt\", 0.3))\n",
    "#######################################\n",
    "experimentos.append((\"../instancias/3 Principales/1000_paginas_200_links_P_0.7.txt\", 0.7))\n",
    "experimentos.append((\"../instancias/3 Principales/1000_paginas_400_links_P_0.7.txt\", 0.7))\n",
    "experimentos.append((\"../instancias/3 Principales/1000_paginas_600_links_P_0.7.txt\", 0.7))\n",
    "experimentos.append((\"../instancias/3 Principales/1000_paginas_800_links_P_0.7.txt\", 0.7))\n",
    "experimentos.append((\"../instancias/3 Principales/1000_paginas_1000_links_P_0.7.txt\", 0.7))\n",
    "#######################################\n",
    "experimentos.append((\"../instancias/3 Principales/1000_paginas_500_links_P_0.txt\", 0.0))\n",
    "experimentos.append((\"../instancias/3 Principales/1000_paginas_500_links_P_0.2.txt\", 0.2))\n",
    "experimentos.append((\"../instancias/3 Principales/1000_paginas_500_links_P_0.4.txt\", 0.4))\n",
    "experimentos.append((\"../instancias/3 Principales/1000_paginas_500_links_P_0.6.txt\", 0.6))\n",
    "experimentos.append((\"../instancias/3 Principales/1000_paginas_500_links_P_0.8.txt\", 0.8))\n",
    "experimentos.append((\"../instancias/3 Principales/1000_paginas_500_links_P_1.txt\", 1.0))\n",
    "#######################################\n",
    "experimentos.append((\"../instancias/3 Principales y Anillo/832_Inicio_1000_paginas_P_0.7.txt\", 0.7))\n",
    "experimentos.append((\"../instancias/3 Principales y Anillo/899_Inicio_1000_paginas_P_0.7.txt\", 0.7))\n",
    "experimentos.append((\"../instancias/3 Principales y Anillo/959_Inicio_1000_paginas_P_0.7.txt\", 0.7))\n",
    "experimentos.append((\"../instancias/3 Principales y Anillo/994_Inicio_1000_paginas_P_0.7.txt\", 0.7))\n",
    "#######################################\n",
    "experimentos.append((\"../instancias/3 Principales Apuntando a otra/1_apuntando_1000_paginas_500_links_P_0.7.txt\", 0.7))\n",
    "experimentos.append((\"../instancias/3 Principales Apuntando a otra/2_apuntando_1000_paginas_500_links_P_0.7.txt\", 0.7))\n",
    "experimentos.append((\"../instancias/3 Principales Apuntando a otra/3_apuntando_1000_paginas_500_links_P_0.7.txt\", 0.7))"
   ]
  },
  {
   "cell_type": "markdown",
   "metadata": {},
   "source": [
    "## Ejecutar los experimentos.\n",
    "Este paso puede tardar unos minutos hasta terminar de ejecutarse."
   ]
  },
  {
   "cell_type": "code",
   "execution_count": 21,
   "metadata": {},
   "outputs": [
    {
     "name": "stdout",
     "output_type": "stream",
     "text": [
      "Corriendo experimento: 1/5 (../instancias/3 Principales/1000_paginas_200_links_P_0.7.txt)\n",
      "Estadísticas de los tiempos de ejecución:\n",
      "count    5.000000\n",
      "mean     0.168817\n",
      "std      0.012565\n",
      "min      0.158535\n",
      "25%      0.160025\n",
      "50%      0.160557\n",
      "75%      0.180657\n",
      "max      0.184311\n",
      "dtype: float64\n",
      "Corriendo experimento: 2/5 (../instancias/3 Principales/1000_paginas_400_links_P_0.7.txt)\n",
      "Estadísticas de los tiempos de ejecución:\n",
      "count    5.000000\n",
      "mean     0.175174\n",
      "std      0.008433\n",
      "min      0.162781\n",
      "25%      0.173732\n",
      "50%      0.176468\n",
      "75%      0.176523\n",
      "max      0.186368\n",
      "dtype: float64\n",
      "Corriendo experimento: 3/5 (../instancias/3 Principales/1000_paginas_600_links_P_0.7.txt)\n",
      "Estadísticas de los tiempos de ejecución:\n",
      "count    5.000000\n",
      "mean     0.175849\n",
      "std      0.003756\n",
      "min      0.171361\n",
      "25%      0.173456\n",
      "50%      0.175064\n",
      "75%      0.179161\n",
      "max      0.180204\n",
      "dtype: float64\n",
      "Corriendo experimento: 4/5 (../instancias/3 Principales/1000_paginas_800_links_P_0.7.txt)\n",
      "Estadísticas de los tiempos de ejecución:\n",
      "count    5.000000\n",
      "mean     0.170639\n",
      "std      0.007880\n",
      "min      0.159295\n",
      "25%      0.168577\n",
      "50%      0.169192\n",
      "75%      0.176830\n",
      "max      0.179300\n",
      "dtype: float64\n",
      "Corriendo experimento: 5/5 (../instancias/3 Principales/1000_paginas_1000_links_P_0.7.txt)\n",
      "Estadísticas de los tiempos de ejecución:\n",
      "count    5.000000\n",
      "mean     0.203125\n",
      "std      0.016266\n",
      "min      0.185351\n",
      "25%      0.187268\n",
      "50%      0.206202\n",
      "75%      0.215685\n",
      "max      0.221118\n",
      "dtype: float64\n"
     ]
    }
   ],
   "source": [
    "numero_de_experimento = 1\n",
    "numero_de_repeticiones = 5 # Aumentar para mayor precisión con los tiempos\n",
    "for (archivo, p) in experimentos:\n",
    "    \n",
    "    # Voy mostrando que experimento se esta ejecutando.\n",
    "    print('Corriendo experimento: %i/%i (%s)' % (numero_de_experimento, len(experimentos), archivo))\n",
    "    \n",
    "    tiempos = []\n",
    "    for repeticion in range(numero_de_repeticiones):\n",
    "        tiempo_de_ejecucion = correr_experimento(archivo, p);\n",
    "        tiempos.append(tiempo_de_ejecucion)\n",
    "    \n",
    "    print('Estadísticas de los tiempos de ejecución:')\n",
    "    print(pd.Series(tiempos).describe())\n",
    "    \n",
    "    numero_de_experimento += 1"
   ]
  },
  {
   "cell_type": "markdown",
   "metadata": {},
   "source": [
    "## Comparamos resultados\n",
    "Comparamos la carpeta \"resultados\" con la carpeta \"resultados esperados\"."
   ]
  },
  {
   "cell_type": "code",
   "execution_count": null,
   "metadata": {},
   "outputs": [],
   "source": [
    "resultados = [f for f in listdir(\"resultados\") if isfile(join(\"resultados\", f))]\n",
    "esperados = [f for f in listdir(\"resultados_esperados\") if isfile(join(\"resultados_esperados\", f))]\n",
    "common_elements = list(set(resultados).intersection(set(esperados)))\n",
    "for name in common_elements:\n",
    "    print(\">>>>>> Comparado el archivo %s\" % (name))\n",
    "    resultado = open(join(\"resultados\", name))\n",
    "    esperado = open(join(\"resultados_esperados\", name))\n",
    "    lineas_resultado = resultado.readlines()\n",
    "    lineas_esperado = esperado.readlines()\n",
    "    if len(lineas_resultado) != len(lineas_esperado):\n",
    "        print(\"No contienen la misma cantidad de lineas.\")\n",
    "        continue\n",
    "    if len(lineas_resultado) == 0:\n",
    "        print(\"Los archivos están vacíos.\")\n",
    "        continue\n",
    "    if lineas_resultado[0] != lineas_esperado[0]:\n",
    "        print(\"Los P utilizados son distintos por lo que no tiene sentido comparar.\")\n",
    "        continue\n",
    "    diferencias = []\n",
    "    for i in range(len(lineas_resultado)):\n",
    "        if abs(float(lineas_resultado[i]) - float(lineas_esperado[i])) > 10e-4:\n",
    "            print(\"En la linea %i el valor %s del resultado es distinto al valor %s del esperado.\" % (i, lineas_resultado[i], lineas_esperado[i]))\n",
    "        diferencias.append(abs(float(lineas_resultado[i]) - float(lineas_esperado[i])))\n",
    "    print(\"Estadísticas de las diferencias:\")\n",
    "    print(pd.Series(diferencias).describe())\n",
    "print(\">>>>>> Terminado de comparar todos los archivos\")"
   ]
  },
  {
   "cell_type": "code",
   "execution_count": null,
   "metadata": {},
   "outputs": [],
   "source": [
    "experimentos = [];"
   ]
  },
  {
   "cell_type": "code",
   "execution_count": null,
   "metadata": {},
   "outputs": [],
   "source": []
  },
  {
   "cell_type": "code",
   "execution_count": null,
   "metadata": {},
   "outputs": [],
   "source": [
    "archivo = open(\"archivo\")\n",
    "lineas = archivo.readlines()\n",
    "p = lineas[0]\n",
    "resultado = lineas[1:]\n",
    "resultado[5]\n",
    "pd.Series(resultado)"
   ]
  }
 ],
 "metadata": {
  "kernelspec": {
   "display_name": "Python 3",
   "language": "python",
   "name": "python3"
  },
  "language_info": {
   "codemirror_mode": {
    "name": "ipython",
    "version": 3
   },
   "file_extension": ".py",
   "mimetype": "text/x-python",
   "name": "python",
   "nbconvert_exporter": "python",
   "pygments_lexer": "ipython3",
   "version": "3.8.10"
  }
 },
 "nbformat": 4,
 "nbformat_minor": 4
}
