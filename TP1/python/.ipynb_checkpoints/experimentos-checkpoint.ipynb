{
 "cells": [
  {
   "cell_type": "markdown",
   "metadata": {},
   "source": [
    "# Correr experimentos\n",
    "En este archivo está el código para correr los experimentos y escribir los resultados en archivos CSV.\n",
    "> Los archivos se guardan en la carpeta _resultados_."
   ]
  },
  {
   "cell_type": "code",
   "execution_count": 1,
   "metadata": {},
   "outputs": [],
   "source": [
    "import math, subprocess\n",
    "import pandas as pd\n",
    "import time\n",
    "import filecmp\n",
    "\n",
    "from os import listdir, getcwd\n",
    "from os.path import isfile, join"
   ]
  },
  {
   "cell_type": "markdown",
   "metadata": {},
   "source": [
    "La siguiente función sirve para correr el código sobre una instancia particular.\n",
    "- TA: Test aleatorio"
   ]
  },
  {
   "cell_type": "code",
   "execution_count": 7,
   "metadata": {},
   "outputs": [],
   "source": [
    "def correr_experimento(archivo_instancia, p):\n",
    "    start = time.time()\n",
    "    \n",
    "    # Crear proceso para ejecutar el codigo.\n",
    "    output_dir = join(getcwd(), 'resultados')\n",
    "    process = subprocess.Popen([\"../src/tp1\", archivo_instancia, str(p)], cwd=output_dir)\n",
    "\n",
    "    # Correr experimento.\n",
    "    exit_code = process.wait()\n",
    "\n",
    "    # Verificar que el proceso no fallo.\n",
    "    if exit_code != 0: raise(F\"Hubo un error en la experimentacion para el algoritmo con la instancia {archivo_instancia}.\")\n",
    "    \n",
    "    end = time.time()\n",
    "    return end-start;"
   ]
  },
  {
   "cell_type": "markdown",
   "metadata": {},
   "source": [
    "## Agregamos los experimentos\n",
    "el codigo de por si guarda el resultado de las ejecuciones en un txt."
   ]
  },
  {
   "cell_type": "code",
   "execution_count": 8,
   "metadata": {},
   "outputs": [],
   "source": [
    "experimentos = [];"
   ]
  },
  {
   "cell_type": "markdown",
   "metadata": {},
   "source": [
    "### Experimento 1"
   ]
  },
  {
   "cell_type": "code",
   "execution_count": 9,
   "metadata": {},
   "outputs": [],
   "source": [
    "experimentos.append((\"..\\\\..\\\\tests\\\\test_15_segundos.txt\", 0.9))\n",
    "experimentos.append((\"..\\\\..\\\\tests\\\\test_30_segundos.txt\", 0.8))\n",
    "experimentos.append((\"..\\\\..\\\\tests\\\\test_aleatorio_desordenado.txt\", 0.76))\n",
    "experimentos.append((\"..\\\\..\\\\tests\\\\test_completo.txt\", 0.5))\n",
    "experimentos.append((\"..\\\\..\\\\tests\\\\test_sin_links.txt\", 0.64))\n",
    "experimentos.append((\"..\\\\..\\\\tests\\\\test_trivial.txt\", 0.3))\n",
    "#######################################\n",
    "experimentos.append((\"..\\\\..\\\\python\\\\instancias\\\\3 Principales\\\\1000_paginas_200_links_P:0.7.txt\", 0.7))\n",
    "experimentos.append((\"..\\\\..\\\\python\\\\instancias\\\\3 Principales\\\\1000_paginas_400_links_P:0.7.txt\", 0.7))\n",
    "experimentos.append((\"..\\\\..\\\\python\\\\instancias\\\\3 Principales\\\\1000_paginas_600_links_P:0.7.txt\", 0.7))\n",
    "experimentos.append((\"..\\\\..\\\\python\\\\instancias\\\\3 Principales\\\\1000_paginas_800_links_P:0.7.txt\", 0.7))\n",
    "experimentos.append((\"..\\\\..\\\\python\\\\instancias\\\\3 Principales\\\\1000_paginas_1000_links_P:0.7.txt\", 0.7))"
   ]
  },
  {
   "cell_type": "markdown",
   "metadata": {},
   "source": [
    "## Ejecutar los experimentos.\n",
    "Este paso puede tardar unos minutos hasta terminar de ejecutarse."
   ]
  },
  {
   "cell_type": "code",
   "execution_count": 10,
   "metadata": {},
   "outputs": [
    {
     "name": "stdout",
     "output_type": "stream",
     "text": [
      "Corriendo experimento: 1/11 (..\\..\\tests\\test_15_segundos.txt)\n"
     ]
    },
    {
     "ename": "FileNotFoundError",
     "evalue": "[Errno 2] No such file or directory: '../src/tp1'",
     "output_type": "error",
     "traceback": [
      "\u001b[0;31m---------------------------------------------------------------------------\u001b[0m",
      "\u001b[0;31mFileNotFoundError\u001b[0m                         Traceback (most recent call last)",
      "\u001b[0;32m<ipython-input-10-1daad1d99809>\u001b[0m in \u001b[0;36m<module>\u001b[0;34m\u001b[0m\n\u001b[1;32m      8\u001b[0m     \u001b[0mtiempos\u001b[0m \u001b[0;34m=\u001b[0m \u001b[0;34m[\u001b[0m\u001b[0;34m]\u001b[0m\u001b[0;34m\u001b[0m\u001b[0;34m\u001b[0m\u001b[0m\n\u001b[1;32m      9\u001b[0m     \u001b[0;32mfor\u001b[0m \u001b[0mrepeticion\u001b[0m \u001b[0;32min\u001b[0m \u001b[0mrange\u001b[0m\u001b[0;34m(\u001b[0m\u001b[0mnumero_de_repeticiones\u001b[0m\u001b[0;34m)\u001b[0m\u001b[0;34m:\u001b[0m\u001b[0;34m\u001b[0m\u001b[0;34m\u001b[0m\u001b[0m\n\u001b[0;32m---> 10\u001b[0;31m         \u001b[0mtiempo_de_ejecucion\u001b[0m \u001b[0;34m=\u001b[0m \u001b[0mcorrer_experimento\u001b[0m\u001b[0;34m(\u001b[0m\u001b[0marchivo\u001b[0m\u001b[0;34m,\u001b[0m \u001b[0mp\u001b[0m\u001b[0;34m)\u001b[0m\u001b[0;34m;\u001b[0m\u001b[0;34m\u001b[0m\u001b[0;34m\u001b[0m\u001b[0m\n\u001b[0m\u001b[1;32m     11\u001b[0m         \u001b[0mtiempos\u001b[0m\u001b[0;34m.\u001b[0m\u001b[0mappend\u001b[0m\u001b[0;34m(\u001b[0m\u001b[0mtiempo_de_ejecucion\u001b[0m\u001b[0;34m)\u001b[0m\u001b[0;34m\u001b[0m\u001b[0;34m\u001b[0m\u001b[0m\n\u001b[1;32m     12\u001b[0m \u001b[0;34m\u001b[0m\u001b[0m\n",
      "\u001b[0;32m<ipython-input-7-70d052fc5afd>\u001b[0m in \u001b[0;36mcorrer_experimento\u001b[0;34m(archivo_instancia, p)\u001b[0m\n\u001b[1;32m      4\u001b[0m     \u001b[0;31m# Crear proceso para ejecutar el codigo.\u001b[0m\u001b[0;34m\u001b[0m\u001b[0;34m\u001b[0m\u001b[0;34m\u001b[0m\u001b[0m\n\u001b[1;32m      5\u001b[0m     \u001b[0moutput_dir\u001b[0m \u001b[0;34m=\u001b[0m \u001b[0mjoin\u001b[0m\u001b[0;34m(\u001b[0m\u001b[0mgetcwd\u001b[0m\u001b[0;34m(\u001b[0m\u001b[0;34m)\u001b[0m\u001b[0;34m,\u001b[0m \u001b[0;34m'resultados'\u001b[0m\u001b[0;34m)\u001b[0m\u001b[0;34m\u001b[0m\u001b[0;34m\u001b[0m\u001b[0m\n\u001b[0;32m----> 6\u001b[0;31m     \u001b[0mprocess\u001b[0m \u001b[0;34m=\u001b[0m \u001b[0msubprocess\u001b[0m\u001b[0;34m.\u001b[0m\u001b[0mPopen\u001b[0m\u001b[0;34m(\u001b[0m\u001b[0;34m[\u001b[0m\u001b[0;34m\"../src/tp1\"\u001b[0m\u001b[0;34m,\u001b[0m \u001b[0marchivo_instancia\u001b[0m\u001b[0;34m,\u001b[0m \u001b[0mstr\u001b[0m\u001b[0;34m(\u001b[0m\u001b[0mp\u001b[0m\u001b[0;34m)\u001b[0m\u001b[0;34m]\u001b[0m\u001b[0;34m,\u001b[0m \u001b[0mcwd\u001b[0m\u001b[0;34m=\u001b[0m\u001b[0moutput_dir\u001b[0m\u001b[0;34m)\u001b[0m\u001b[0;34m\u001b[0m\u001b[0;34m\u001b[0m\u001b[0m\n\u001b[0m\u001b[1;32m      7\u001b[0m \u001b[0;34m\u001b[0m\u001b[0m\n\u001b[1;32m      8\u001b[0m     \u001b[0;31m# Correr experimento.\u001b[0m\u001b[0;34m\u001b[0m\u001b[0;34m\u001b[0m\u001b[0;34m\u001b[0m\u001b[0m\n",
      "\u001b[0;32m/usr/lib/python3.8/subprocess.py\u001b[0m in \u001b[0;36m__init__\u001b[0;34m(self, args, bufsize, executable, stdin, stdout, stderr, preexec_fn, close_fds, shell, cwd, env, universal_newlines, startupinfo, creationflags, restore_signals, start_new_session, pass_fds, encoding, errors, text)\u001b[0m\n\u001b[1;32m    856\u001b[0m                             encoding=encoding, errors=errors)\n\u001b[1;32m    857\u001b[0m \u001b[0;34m\u001b[0m\u001b[0m\n\u001b[0;32m--> 858\u001b[0;31m             self._execute_child(args, executable, preexec_fn, close_fds,\n\u001b[0m\u001b[1;32m    859\u001b[0m                                 \u001b[0mpass_fds\u001b[0m\u001b[0;34m,\u001b[0m \u001b[0mcwd\u001b[0m\u001b[0;34m,\u001b[0m \u001b[0menv\u001b[0m\u001b[0;34m,\u001b[0m\u001b[0;34m\u001b[0m\u001b[0;34m\u001b[0m\u001b[0m\n\u001b[1;32m    860\u001b[0m                                 \u001b[0mstartupinfo\u001b[0m\u001b[0;34m,\u001b[0m \u001b[0mcreationflags\u001b[0m\u001b[0;34m,\u001b[0m \u001b[0mshell\u001b[0m\u001b[0;34m,\u001b[0m\u001b[0;34m\u001b[0m\u001b[0;34m\u001b[0m\u001b[0m\n",
      "\u001b[0;32m/usr/lib/python3.8/subprocess.py\u001b[0m in \u001b[0;36m_execute_child\u001b[0;34m(self, args, executable, preexec_fn, close_fds, pass_fds, cwd, env, startupinfo, creationflags, shell, p2cread, p2cwrite, c2pread, c2pwrite, errread, errwrite, restore_signals, start_new_session)\u001b[0m\n\u001b[1;32m   1702\u001b[0m                     \u001b[0;32mif\u001b[0m \u001b[0merrno_num\u001b[0m \u001b[0;34m!=\u001b[0m \u001b[0;36m0\u001b[0m\u001b[0;34m:\u001b[0m\u001b[0;34m\u001b[0m\u001b[0;34m\u001b[0m\u001b[0m\n\u001b[1;32m   1703\u001b[0m                         \u001b[0merr_msg\u001b[0m \u001b[0;34m=\u001b[0m \u001b[0mos\u001b[0m\u001b[0;34m.\u001b[0m\u001b[0mstrerror\u001b[0m\u001b[0;34m(\u001b[0m\u001b[0merrno_num\u001b[0m\u001b[0;34m)\u001b[0m\u001b[0;34m\u001b[0m\u001b[0;34m\u001b[0m\u001b[0m\n\u001b[0;32m-> 1704\u001b[0;31m                     \u001b[0;32mraise\u001b[0m \u001b[0mchild_exception_type\u001b[0m\u001b[0;34m(\u001b[0m\u001b[0merrno_num\u001b[0m\u001b[0;34m,\u001b[0m \u001b[0merr_msg\u001b[0m\u001b[0;34m,\u001b[0m \u001b[0merr_filename\u001b[0m\u001b[0;34m)\u001b[0m\u001b[0;34m\u001b[0m\u001b[0;34m\u001b[0m\u001b[0m\n\u001b[0m\u001b[1;32m   1705\u001b[0m                 \u001b[0;32mraise\u001b[0m \u001b[0mchild_exception_type\u001b[0m\u001b[0;34m(\u001b[0m\u001b[0merr_msg\u001b[0m\u001b[0;34m)\u001b[0m\u001b[0;34m\u001b[0m\u001b[0;34m\u001b[0m\u001b[0m\n\u001b[1;32m   1706\u001b[0m \u001b[0;34m\u001b[0m\u001b[0m\n",
      "\u001b[0;31mFileNotFoundError\u001b[0m: [Errno 2] No such file or directory: '../src/tp1'"
     ]
    }
   ],
   "source": [
    "numero_de_experimento = 1\n",
    "numero_de_repeticiones = 5 # Aumentar para mayor precisión con los tiempos\n",
    "for (archivo, p) in experimentos:\n",
    "    \n",
    "    # Voy mostrando que experimento se esta ejecutando.\n",
    "    print('Corriendo experimento: %i/%i (%s)' % (numero_de_experimento, len(experimentos), archivo))\n",
    "    \n",
    "    tiempos = []\n",
    "    for repeticion in range(numero_de_repeticiones):\n",
    "        tiempo_de_ejecucion = correr_experimento(archivo, p);\n",
    "        tiempos.append(tiempo_de_ejecucion)\n",
    "    \n",
    "    print('Estadísticas de los tiempos de ejecución:')\n",
    "    print(pd.Series(tiempos).describe())\n",
    "    \n",
    "    numero_de_experimento += 1"
   ]
  },
  {
   "cell_type": "markdown",
   "metadata": {},
   "source": [
    "## Comparamos resultados\n",
    "Comparamos la carpeta \"resultados\" con la carpeta \"resultados esperados\"."
   ]
  },
  {
   "cell_type": "code",
   "execution_count": 115,
   "metadata": {},
   "outputs": [
    {
     "name": "stdout",
     "output_type": "stream",
     "text": [
      ">>>>>> Comparado el archivo test_sin_links.txt.out\n",
      "Estadísticas de las diferencias:\n",
      "count    6.0\n",
      "mean     0.0\n",
      "std      0.0\n",
      "min      0.0\n",
      "25%      0.0\n",
      "50%      0.0\n",
      "75%      0.0\n",
      "max      0.0\n",
      "dtype: float64\n",
      ">>>>>> Comparado el archivo test_15_segundos.txt.out\n",
      "Estadísticas de las diferencias:\n",
      "count    2001.000000\n",
      "mean        0.000034\n",
      "std         0.000028\n",
      "min         0.000000\n",
      "25%         0.000016\n",
      "50%         0.000029\n",
      "75%         0.000043\n",
      "max         0.000206\n",
      "dtype: float64\n",
      ">>>>>> Comparado el archivo test_aleatorio_desordenado.txt.out\n",
      "Estadísticas de las diferencias:\n",
      "count    6.0\n",
      "mean     0.0\n",
      "std      0.0\n",
      "min      0.0\n",
      "25%      0.0\n",
      "50%      0.0\n",
      "75%      0.0\n",
      "max      0.0\n",
      "dtype: float64\n",
      ">>>>>> Comparado el archivo test_30_segundos.txt.out\n",
      "Estadísticas de las diferencias:\n",
      "count    3001.000000\n",
      "mean        0.000015\n",
      "std         0.000012\n",
      "min         0.000000\n",
      "25%         0.000007\n",
      "50%         0.000013\n",
      "75%         0.000019\n",
      "max         0.000102\n",
      "dtype: float64\n",
      ">>>>>> Comparado el archivo test_trivial.txt.out\n",
      "Estadísticas de las diferencias:\n",
      "count    2.0\n",
      "mean     0.0\n",
      "std      0.0\n",
      "min      0.0\n",
      "25%      0.0\n",
      "50%      0.0\n",
      "75%      0.0\n",
      "max      0.0\n",
      "dtype: float64\n",
      ">>>>>> Comparado el archivo test_completo.txt.out\n",
      "Estadísticas de las diferencias:\n",
      "count    6.0\n",
      "mean     0.0\n",
      "std      0.0\n",
      "min      0.0\n",
      "25%      0.0\n",
      "50%      0.0\n",
      "75%      0.0\n",
      "max      0.0\n",
      "dtype: float64\n",
      ">>>>>> Terminado de comparar todos los archivos\n"
     ]
    }
   ],
   "source": [
    "resultados = [f for f in listdir(\"resultados\") if isfile(join(\"resultados\", f))]\n",
    "esperados = [f for f in listdir(\"resultados_esperados\") if isfile(join(\"resultados_esperados\", f))]\n",
    "common_elements = list(set(resultados).intersection(set(esperados)))\n",
    "for name in common_elements:\n",
    "    print(\">>>>>> Comparado el archivo %s\" % (name))\n",
    "    resultado = open(join(\"resultados\", name))\n",
    "    esperado = open(join(\"resultados_esperados\", name))\n",
    "    lineas_resultado = resultado.readlines()\n",
    "    lineas_esperado = esperado.readlines()\n",
    "    if len(lineas_resultado) != len(lineas_esperado):\n",
    "        print(\"No contienen la misma cantidad de lineas.\")\n",
    "        continue\n",
    "    if len(lineas_resultado) == 0:\n",
    "        print(\"Los archivos están vacíos.\")\n",
    "        continue\n",
    "    if lineas_resultado[0] != lineas_esperado[0]:\n",
    "        print(\"Los P utilizados son distintos por lo que no tiene sentido comparar.\")\n",
    "        continue\n",
    "    diferencias = []\n",
    "    for i in range(len(lineas_resultado)):\n",
    "        if abs(float(lineas_resultado[i]) - float(lineas_esperado[i])) > 10e-4:\n",
    "            print(\"En la linea %i el valor %s del resultado es distinto al valor %s del esperado.\" % (i, lineas_resultado[i], lineas_esperado[i]))\n",
    "        diferencias.append(abs(float(lineas_resultado[i]) - float(lineas_esperado[i])))\n",
    "    print(\"Estadísticas de las diferencias:\")\n",
    "    print(pd.Series(diferencias).describe())\n",
    "print(\">>>>>> Terminado de comparar todos los archivos\")"
   ]
  },
  {
   "cell_type": "code",
   "execution_count": null,
   "metadata": {},
   "outputs": [],
   "source": [
    "experimentos = [];"
   ]
  },
  {
   "cell_type": "code",
   "execution_count": null,
   "metadata": {},
   "outputs": [],
   "source": []
  },
  {
   "cell_type": "code",
   "execution_count": null,
   "metadata": {},
   "outputs": [],
   "source": [
    "archivo = open(\"archivo\")\n",
    "lineas = archivo.readlines()\n",
    "p = lineas[0]\n",
    "resultado = lineas[1:]\n",
    "resultado[5]\n",
    "pd.Series(resultado)"
   ]
  }
 ],
 "metadata": {
  "kernelspec": {
   "display_name": "Python 3",
   "language": "python",
   "name": "python3"
  },
  "language_info": {
   "codemirror_mode": {
    "name": "ipython",
    "version": 3
   },
   "file_extension": ".py",
   "mimetype": "text/x-python",
   "name": "python",
   "nbconvert_exporter": "python",
   "pygments_lexer": "ipython3",
   "version": "3.8.10"
  }
 },
 "nbformat": 4,
 "nbformat_minor": 4
}
