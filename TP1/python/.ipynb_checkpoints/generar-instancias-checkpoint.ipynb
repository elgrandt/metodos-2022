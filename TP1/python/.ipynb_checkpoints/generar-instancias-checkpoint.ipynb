{
 "cells": [
  {
   "cell_type": "markdown",
   "metadata": {},
   "source": [
    "# Generador de instancias\n",
    "En este notebook está el código para generar los sets de instancias que se usan para experimentar.\n",
    "- Estas instancias van a ser guardadas en la carpeta __instancias__.\n",
    "- Cada set estará en su propia carpeta y tendrá un archivo _indice.csv_ que contendrá información sobre las instancias."
   ]
  },
  {
   "cell_type": "code",
   "execution_count": 41,
   "metadata": {},
   "outputs": [],
   "source": [
    "import random, math\n",
    "import pandas as pd"
   ]
  },
  {
   "cell_type": "code",
   "execution_count": 42,
   "metadata": {},
   "outputs": [],
   "source": [
    "def imprimirEncabezadoInstancias(dataset, cantidadTotalDePaginas, cantidadTotalDeLinks):\n",
    "    with open(F\"instancias/\"+dataset+\"/\"+str(cantidadTotalDePaginas)+\"_paginas_\"+str(cantidadTotalDeLinks)+\"_links.txt\", \"w\") as f:\n",
    "        f.write(str(cantidadTotalDePaginas)+\"\\n\")\n",
    "        f.write(str(cantidadTotalDeLinks)+\"\\n\")\n",
    "\n",
    "def imprimirArista(Dataset, cantidadTotalDePaginas, cantidadTotalDeLinks,desde,hasta):\n",
    "    with open(F\"instancias/\"+str(DataSet)+\"/\"+str(cantidadTotalDePaginas)+\"_paginas_\"+str(cantidadTotalDeLinks)+\"_links.txt\", \"r+\") as f:\n",
    "        f.seek(0, 2)\n",
    "        f.write(str(desde)+\" \"+str(hasta)+\"\\n\")"
   ]
  },
  {
   "cell_type": "markdown",
   "metadata": {},
   "source": [
    "## Dataset 1\n",
    "Instancias que modelan el una web con 3 paginas principales.\n"
   ]
  },
  {
   "cell_type": "code",
   "execution_count": 43,
   "metadata": {},
   "outputs": [
    {
     "name": "stdout",
     "output_type": "stream",
     "text": [
      "Archivo:\n",
      "instancias/3 Principales/3000_paginas_1000_links.txt \n",
      "Creado con exito\n"
     ]
    }
   ],
   "source": [
    "DataSet=\"3 Principales\"\n",
    "cantidadTotalDePaginas=3000\n",
    "cantidadTotalDeLinks=1000\n",
    "i=1\n",
    "Cant1=500\n",
    "Cant2=300\n",
    "Cant3=100\n",
    "SetPaginasPosibles=set(range(cantidadTotalDePaginas))\n",
    "blacklist=[1,2,3]\n",
    "imprimirEncabezadoInstancias(DataSet,cantidadTotalDePaginas,cantidadTotalDeLinks)\n",
    "\n",
    "#genero los que apuntan a la pagina 1\n",
    "for i in range(1, Cant1):\n",
    "    PaginasPosibles=list(SetPaginasPosibles.difference(blacklist))\n",
    "    PaginaElegida = random.choice(PaginasPosibles)\n",
    "    blacklist.append(PaginaElegida)\n",
    "    imprimirArista(DataSet, cantidadTotalDePaginas, cantidadTotalDeLinks,PaginaElegida,1)\n",
    "\n",
    "#genero los que apuntan a la pagina 2\n",
    "blacklist=[1,2,3]\n",
    "for i in range(1, Cant2):\n",
    "    PaginasPosibles=list(SetPaginasPosibles.difference(blacklist))\n",
    "    PaginaElegida = random.choice(PaginasPosibles)\n",
    "    blacklist.append(PaginaElegida)\n",
    "    imprimirArista(DataSet, cantidadTotalDePaginas, cantidadTotalDeLinks,PaginaElegida,2)\n",
    "\n",
    "#genero los que apuntan a la pagina 3\n",
    "blacklist=[1,2,3]\n",
    "for i in range(1, Cant3):\n",
    "    PaginasPosibles=list(SetPaginasPosibles.difference(blacklist))\n",
    "    PaginaElegida = random.choice(PaginasPosibles)\n",
    "    blacklist.append(PaginaElegida)\n",
    "    imprimirArista(DataSet, cantidadTotalDePaginas, cantidadTotalDeLinks,PaginaElegida,3)\n",
    "\n",
    "blacklist=[1,2,3]\n",
    "#genero las aristas restantes\n",
    "for i in range(1, (cantidadTotalDeLinks-Cant3-Cant2-Cant1)):\n",
    "    PaginasPosibles=list(SetPaginasPosibles.difference(blacklist))\n",
    "    Desde = random.choice(PaginasPosibles)\n",
    "    blacklist.append(Desde)\n",
    "    Hasta = random.choice(PaginasPosibles)\n",
    "    imprimirArista(DataSet, cantidadTotalDePaginas, cantidadTotalDeLinks,Desde,Hasta)\n",
    "\n",
    "    \n",
    "f.close\n",
    "print(\"Archivo:\\n\"+F\"instancias/\"+str(DataSet)+\"/\"+str(cantidadTotalDePaginas)+\"_paginas_\"+str(cantidadTotalDeLinks)+\"_links.txt \\n\"+\"Creado con exito\")"
   ]
  },
  {
   "cell_type": "markdown",
   "metadata": {},
   "source": [
    "## Dataset 2\n",
    "Instancias de peor caso de backtracking, están descriptas en el informe en más detalle.\n",
    "```\n",
    "S = {1, ..., 1, 1} con W = n\n",
    "```"
   ]
  },
  {
   "cell_type": "code",
   "execution_count": 39,
   "metadata": {},
   "outputs": [],
   "source": [
    "filas_indice = []\n",
    "for n in range(1, 201):\n",
    "    J = [(0,0) for i in range(0, n)]\n",
    "    for i in range(0, n): J[i] = (i+1, ((i+1)*n*n))\n",
    "    R = math.floor(n*n*n)\n",
    "    #random.shuffle(J)\n",
    "    save_instance(\"peor-caso-bt\", F\"BT-PC-{n}\", J, R)\n",
    "    filas_indice.append([\"peor-caso-bt\", F\"BT-PC-{n}\", n, R, F\"instancias/peor-caso-bt/BT-PC-{n}.txt\"])\n",
    "pd.DataFrame(filas_indice, columns=[\"dataset\", \"instancia\", \"n\", \"R\", \"archivo\"]).to_csv(\"instancias/peor-caso-bt/indice.csv\", index=False, header=True)"
   ]
  },
  {
   "cell_type": "markdown",
   "metadata": {},
   "source": [
    "## Dataset 3\n",
    "Instancias con densidad alta:\n",
    "```\n",
    "S = { 1, ..., n } con W = n/2\n",
    "```"
   ]
  },
  {
   "cell_type": "code",
   "execution_count": 40,
   "metadata": {},
   "outputs": [],
   "source": [
    "filas_indice = []\n",
    "for n in range(1, 201):\n",
    "    J = [(0,0) for i in range(0, n)]\n",
    "    for i in range(0, n): J[i] = (i+1,(i+1)*3)\n",
    "    R = math.floor(J[n-1][1]*2)\n",
    "    random.shuffle(J)\n",
    "    save_instance(\"densidad-alta\", F\"ALTA-{n}\", J, R)\n",
    "    filas_indice.append([\"densidad-alta\", F\"ALTA-{n}\", n, R, F\"instancias/densidad-alta/ALTA-{n}.txt\"])\n",
    "pd.DataFrame(filas_indice, columns=[\"dataset\", \"instancia\", \"n\", \"R\", \"archivo\"]).to_csv(\"instancias/densidad-alta/indice.csv\", index=False, header=True)"
   ]
  },
  {
   "cell_type": "markdown",
   "metadata": {},
   "source": [
    "## Dataset 4\n",
    "Instancias con densidad baja:\n",
    "```\n",
    "S = { 1, ..., n } con W = n/2  \n",
    "```"
   ]
  },
  {
   "cell_type": "code",
   "execution_count": 41,
   "metadata": {},
   "outputs": [],
   "source": [
    "filas_indice = []\n",
    "for n in range(1, 201):\n",
    "    J = [(0,0) for i in range(0, n)]\n",
    "    for i in range(0, n): J[i] = (i+3, int((i+1)/3))\n",
    "    R = math.floor(int(J[n-1][1]/2))\n",
    "    random.shuffle(J)\n",
    "    save_instance(\"densidad-baja\", F\"BAJA-{n}\", J, R)\n",
    "    filas_indice.append([\"densidad-baja\", F\"BAJA-{n}\", n, R, F\"instancias/densidad-baja/BAJA-{n}.txt\"])\n",
    "pd.DataFrame(filas_indice, columns=[\"dataset\", \"instancia\", \"n\", \"R\", \"archivo\"]).to_csv(\"instancias/densidad-baja/indice.csv\", index=False, header=True)"
   ]
  },
  {
   "cell_type": "markdown",
   "metadata": {},
   "source": [
    "# Dataset 5\n",
    "Instancias con densidad media"
   ]
  },
  {
   "cell_type": "code",
   "execution_count": 45,
   "metadata": {},
   "outputs": [],
   "source": [
    "for n in range(1, 201):\n",
    "    J = [(0,0) for i in range(0, n)]\n",
    "    for i in range(0, n): J[i] = (i+1, i+1)\n",
    "    R = math.floor(n*(n+1)/2)\n",
    "    random.shuffle(J)\n",
    "    save_instance(\"dinamica\", F\"DP-{n}\", J, R)\n",
    "    filas_indice.append([\"dinamica\", F\"DP-{n}\", n, R, F\"instancias/dinamica/DP-{n}.txt\"])\n",
    "pd.DataFrame(filas_indice, columns=[\"dataset\", \"instancia\", \"n\", \"R\", \"archivo\"]).to_csv(\"instancias/dinamica/indice.csv\", index=False, header=True)"
   ]
  },
  {
   "cell_type": "markdown",
   "metadata": {},
   "source": [
    "# Dataset 6\n",
    "Instancias mezclando densidades densidades bajas y altas."
   ]
  },
  {
   "cell_type": "code",
   "execution_count": 43,
   "metadata": {},
   "outputs": [],
   "source": [
    "filas_indice = []\n",
    "for n in range(1, 201):\n",
    "\n",
    "    #baja densidad\n",
    "    J1 = [(0,0) for i in range(0, n)]\n",
    "    for i in range(0, n): J1[i] = (i+3, int((i+1)/3))\n",
    "    R1 = math.floor(int(J1[n-1][1]/2))\n",
    "    random.shuffle(J1)\n",
    "    \n",
    "    \n",
    "    #densidad media\n",
    "    J2 = [(0,0) for i in range(0, n)]\n",
    "    for i in range(0, n): J2[i] = (i+1, i+1)\n",
    "    R2 = math.floor(n*(n+1)/2)\n",
    "    random.shuffle(J)\n",
    "    \n",
    "    # alta densidad\n",
    "    J = [(0,0) for i in range(0, n)]\n",
    "    for i in range(0, n): J[i] = (i+1,(i+1)*3)\n",
    "    R = math.floor(J[n-1][1]*2)\n",
    "    random.shuffle(J)\n",
    "    \n",
    "    #mezclo\n",
    "    for i in range(0, int(n/3)): J[i] = J1[i]\n",
    "    for i in range(int(n/3)+1, 2*int(n/3)): J[i] = J1[i]\n",
    "    random.shuffle(J)\n",
    "    R=int((R+R1+R2)/3)\n",
    "    save_instance(\"densidad-mezclada\", F\"MEZCLA-{n}\", J, R)\n",
    "    filas_indice.append([\"densidad-mezclada\", F\"MEZCLA-{n}\", n, R, F\"instancias/densidad-mezclada/MEZCLA-{n}.txt\"])\n",
    "pd.DataFrame(filas_indice, columns=[\"dataset\", \"instancia\", \"n\", \"R\", \"archivo\"]).to_csv(\"instancias/densidad-mezclada/indice.csv\", index=False, header=True)"
   ]
  }
 ],
 "metadata": {
  "kernelspec": {
   "display_name": "Python 3",
   "language": "python",
   "name": "python3"
  },
  "language_info": {
   "codemirror_mode": {
    "name": "ipython",
    "version": 3
   },
   "file_extension": ".py",
   "mimetype": "text/x-python",
   "name": "python",
   "nbconvert_exporter": "python",
   "pygments_lexer": "ipython3",
   "version": "3.8.10"
  }
 },
 "nbformat": 4,
 "nbformat_minor": 4
}
