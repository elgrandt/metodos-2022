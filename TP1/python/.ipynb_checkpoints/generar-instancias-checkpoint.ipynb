{
 "cells": [
  {
   "cell_type": "markdown",
   "metadata": {},
   "source": [
    "# Generador de instancias\n",
    "En este notebook está el código para generar los sets de instancias que se usan para experimentar.\n",
    "- Estas instancias van a ser guardadas en la carpeta __instancias__.\n",
    "- Cada set estará en su propia carpeta y tendrá un archivo _indice.csv_ que contendrá información sobre las instancias."
   ]
  },
  {
   "cell_type": "code",
   "execution_count": 13,
   "metadata": {},
   "outputs": [],
   "source": [
    "import random, math\n",
    "import pandas as pd"
   ]
  },
  {
   "cell_type": "code",
   "execution_count": 14,
   "metadata": {},
   "outputs": [],
   "source": [
    "def imprimirEncabezadoInstancias(dataset, cantidadTotalDePaginas, cantidadTotalDeLinks):\n",
    "    with open(F\"instancias/\"+dataset+\"/\"+str(cantidadTotalDePaginas)+\"_paginas_\"+str(cantidadTotalDeLinks)+\"_links.txt\", \"w\") as f:\n",
    "        f.write(str(cantidadTotalDePaginas)+\"\\n\")\n",
    "        f.write(str(cantidadTotalDeLinks)+\"\\n\")\n",
    "\n",
    "def imprimirArista(Dataset, cantidadTotalDePaginas, cantidadTotalDeLinks,desde,hasta):\n",
    "    with open(F\"instancias/\"+str(DataSet)+\"/\"+str(cantidadTotalDePaginas)+\"_paginas_\"+str(cantidadTotalDeLinks)+\"_links.txt\", \"r+\") as f:\n",
    "        f.seek(0, 2)\n",
    "        f.write(str(desde)+\" \"+str(hasta)+\"\\n\")"
   ]
  },
  {
   "cell_type": "markdown",
   "metadata": {},
   "source": [
    "## Dataset 1\n",
    "Instancias que modelan el una web con 3 paginas principales.\n"
   ]
  },
  {
   "cell_type": "code",
   "execution_count": 15,
   "metadata": {},
   "outputs": [
    {
     "name": "stdout",
     "output_type": "stream",
     "text": [
      "Archivo:\n",
      "instancias/3 Principales/3000_paginas_600_links.txt \n",
      "Creado con exito\n"
     ]
    }
   ],
   "source": [
    "def generarInstancia3Principales(DataSet,cantidadTotalDePaginas,cantidadTotalDeLinks,Cant1,Cant2,Cant3,NombreInstancia=\"\"):\n",
    "    SetPaginasPosibles=set(range(cantidadTotalDePaginas))\n",
    "    blacklist=[1,2,3]\n",
    "\n",
    "    #genero los que apuntan a la pagina 1\n",
    "    for i in range(1, Cant1):\n",
    "        PaginasPosibles=list(SetPaginasPosibles.difference(blacklist))\n",
    "        PaginaElegida = random.choice(PaginasPosibles)\n",
    "        blacklist.append(PaginaElegida)\n",
    "        if(len(NombreInstancia)==0):\n",
    "            imprimirArista(DataSet, cantidadTotalDePaginas, cantidadTotalDeLinks,PaginaElegida,1)\n",
    "        else:    \n",
    "            imprimirArista(DataSet, NombreInstancia, cantidadTotalDeLinks,PaginaElegida,1)\n",
    "    #genero los que apuntan a la pagina 2\n",
    "    blacklist=[1,2,3]\n",
    "    for i in range(1, Cant2):\n",
    "        PaginasPosibles=list(SetPaginasPosibles.difference(blacklist))\n",
    "        PaginaElegida = random.choice(PaginasPosibles)\n",
    "        blacklist.append(PaginaElegida)\n",
    "        if(len(NombreInstancia)==0):\n",
    "            imprimirArista(DataSet, cantidadTotalDePaginas, cantidadTotalDeLinks,PaginaElegida,2)\n",
    "        else:\n",
    "            imprimirArista(DataSet, NombreInstancia, cantidadTotalDeLinks,PaginaElegida,2)\n",
    "\n",
    "    #genero los que apuntan a la pagina 3\n",
    "    blacklist=[1,2,3]\n",
    "    for i in range(1, Cant3):\n",
    "        PaginasPosibles=list(SetPaginasPosibles.difference(blacklist))\n",
    "        PaginaElegida = random.choice(PaginasPosibles)\n",
    "        blacklist.append(PaginaElegida)\n",
    "        if(len(NombreInstancia)==0):\n",
    "            imprimirArista(DataSet, cantidadTotalDePaginas, cantidadTotalDeLinks,PaginaElegida,3)\n",
    "        else:\n",
    "            imprimirArista(DataSet, NombreInstancia, cantidadTotalDeLinks,PaginaElegida,3)\n",
    "\n",
    "    blacklist=[1,2,3]\n",
    "    #genero las aristas restantes\n",
    "    for i in range(1, (cantidadTotalDeLinks-Cant3-Cant2-Cant1)):\n",
    "        PaginasPosibles=list(SetPaginasPosibles.difference(blacklist))\n",
    "        Desde = random.choice(PaginasPosibles)\n",
    "        blacklist.append(Desde)\n",
    "        Hasta = random.choice(PaginasPosibles)\n",
    "        if(len(NombreInstancia)==0):\n",
    "            imprimirArista(DataSet, cantidadTotalDePaginas, cantidadTotalDeLinks,Desde,Hasta)\n",
    "        else:\n",
    "            imprimirArista(DataSet, NombreInstancia, cantidadTotalDeLinks,Desde,Hasta)\n",
    "\n",
    "DataSet=\"3 Principales\"\n",
    "cantidadTotalDePaginas=3000\n",
    "cantidadTotalDeLinks=600\n",
    "cant1=500\n",
    "cant2=200\n",
    "cant3=100\n",
    "imprimirEncabezadoInstancias(DataSet,cantidadTotalDePaginas,cantidadTotalDeLinks)\n",
    "generarInstancia3Principales(\"3 Principales\",cantidadTotalDePaginas,cantidadTotalDeLinks,cant1,cant2,cant3)\n",
    "print(\"Archivo:\\n\"+F\"instancias/\"+str(DataSet)+\"/\"+str(cantidadTotalDePaginas)+\"_paginas_\"+str(cantidadTotalDeLinks)+\"_links.txt \\n\"+\"Creado con exito\")"
   ]
  },
  {
   "cell_type": "markdown",
   "metadata": {},
   "source": [
    "## Dataset 2\n",
    "Instancias en donde hay 3 claros principales pero tambien hay un anillo aislado de paginas que se apuntan entre si y todas a una pagina central\n",
    "\n",
    "```es nescesario correr el bloque que define generarInstancia3Principales() ya que se usa\n",
    "```\n",
    "\n",
    "Por practicidad la pagina central del anillo es la ultima y las que integran el anillo son las ultimas N-1 (siendo N la cantidad de paginas del anillo)"
   ]
  },
  {
   "cell_type": "code",
   "execution_count": null,
   "metadata": {},
   "outputs": [],
   "source": [
    "def generarIntanciaConAnillo():\n",
    "    imprimirEncabezadoInstancias(DataSet,cantidadTotalDePaginas,cantidadTotalDeLinks)\n",
    "    UltimoDelAnillo=cantidadTotalDePaginas-1\n",
    "    CantAnillo=UltimoDelAnillo-PrimeroDelAnillo+1\n",
    "    CantLegales=cantidadTotalDePaginas-CantAnillo-1\n",
    "    CentralDelAnillo=cantidadTotalDePaginas\n",
    "    generarInstancia3Principales(DataSet,CantLegales,cantidadTotalDeLinks,Cant1,Cant2,Cant3,str(cantidadTotalDePaginas))\n",
    "\n",
    "    #agrego links apuntando a derecha\n",
    "    for i in range(PrimeroDelAnillo, cantidadTotalDePaginas-1):\n",
    "        if((i-CantLegales)==CantAnillo):\n",
    "            siguiente=PrimeroDelAnillo\n",
    "        else:\n",
    "            siguiente= i+1\n",
    "        imprimirArista(DataSet, cantidadTotalDePaginas, cantidadTotalDeLinks,i,siguiente)\n",
    "    #agrego links apuntando a izquiera\n",
    "    for i in range(UltimoDelAnillo, PrimeroDelAnillo,-1):\n",
    "        if(i==PrimeroDelAnillo):\n",
    "            siguiente=UltimoAnillo\n",
    "        else:\n",
    "            siguiente= i-1\n",
    "        imprimirArista(DataSet, cantidadTotalDePaginas, cantidadTotalDeLinks,i,siguiente)\n",
    "    #agrego links de todas la paginas del anillo apuntando al centro\n",
    "    for i in range(PrimeroDelAnillo,UltimoDelAnillo):        \n",
    "        imprimirArista(DataSet, cantidadTotalDePaginas, cantidadTotalDeLinks,i,CentralDelAnillo)"
   ]
  },
  {
   "cell_type": "code",
   "execution_count": 19,
   "metadata": {},
   "outputs": [
    {
     "name": "stdout",
     "output_type": "stream",
     "text": [
      "Archivo:\n",
      "instancias/3 Principales y Anillo/10000_paginas_1000_links.txt \n",
      "Creado con exito\n"
     ]
    }
   ],
   "source": [
    "DataSet=\"3 Principales y Anillo\"\n",
    "cantidadTotalDePaginas=10000\n",
    "cantidadTotalDeLinks=1000\n",
    "Cant1=500\n",
    "Cant2=200\n",
    "Cant3=100\n",
    "PrimeroDelAnillo=7001\n",
    "print(\"Archivo:\\n\"+F\"instancias/\"+str(DataSet)+\"/\"+str(cantidadTotalDePaginas)+\"_paginas_\"+str(cantidadTotalDeLinks)+\"_links.txt \\n\"+\"Creado con exito\")"
   ]
  },
  {
   "cell_type": "markdown",
   "metadata": {},
   "source": [
    "## Dataset 3\n",
    "Instancias con densidad alta:\n",
    "```\n",
    "S = { 1, ..., n } con W = n/2\n",
    "```"
   ]
  },
  {
   "cell_type": "code",
   "execution_count": 10,
   "metadata": {},
   "outputs": [
    {
     "ename": "NameError",
     "evalue": "name 'save_instance' is not defined",
     "output_type": "error",
     "traceback": [
      "\u001b[0;31m---------------------------------------------------------------------------\u001b[0m",
      "\u001b[0;31mNameError\u001b[0m                                 Traceback (most recent call last)",
      "\u001b[0;32m<ipython-input-10-cef4fff38fcb>\u001b[0m in \u001b[0;36m<module>\u001b[0;34m\u001b[0m\n\u001b[1;32m      5\u001b[0m     \u001b[0mR\u001b[0m \u001b[0;34m=\u001b[0m \u001b[0mmath\u001b[0m\u001b[0;34m.\u001b[0m\u001b[0mfloor\u001b[0m\u001b[0;34m(\u001b[0m\u001b[0mJ\u001b[0m\u001b[0;34m[\u001b[0m\u001b[0mn\u001b[0m\u001b[0;34m-\u001b[0m\u001b[0;36m1\u001b[0m\u001b[0;34m]\u001b[0m\u001b[0;34m[\u001b[0m\u001b[0;36m1\u001b[0m\u001b[0;34m]\u001b[0m\u001b[0;34m*\u001b[0m\u001b[0;36m2\u001b[0m\u001b[0;34m)\u001b[0m\u001b[0;34m\u001b[0m\u001b[0;34m\u001b[0m\u001b[0m\n\u001b[1;32m      6\u001b[0m     \u001b[0mrandom\u001b[0m\u001b[0;34m.\u001b[0m\u001b[0mshuffle\u001b[0m\u001b[0;34m(\u001b[0m\u001b[0mJ\u001b[0m\u001b[0;34m)\u001b[0m\u001b[0;34m\u001b[0m\u001b[0;34m\u001b[0m\u001b[0m\n\u001b[0;32m----> 7\u001b[0;31m     \u001b[0msave_instance\u001b[0m\u001b[0;34m(\u001b[0m\u001b[0;34m\"densidad-alta\"\u001b[0m\u001b[0;34m,\u001b[0m \u001b[0;34mF\"ALTA-{n}\"\u001b[0m\u001b[0;34m,\u001b[0m \u001b[0mJ\u001b[0m\u001b[0;34m,\u001b[0m \u001b[0mR\u001b[0m\u001b[0;34m)\u001b[0m\u001b[0;34m\u001b[0m\u001b[0;34m\u001b[0m\u001b[0m\n\u001b[0m\u001b[1;32m      8\u001b[0m     \u001b[0mfilas_indice\u001b[0m\u001b[0;34m.\u001b[0m\u001b[0mappend\u001b[0m\u001b[0;34m(\u001b[0m\u001b[0;34m[\u001b[0m\u001b[0;34m\"densidad-alta\"\u001b[0m\u001b[0;34m,\u001b[0m \u001b[0;34mF\"ALTA-{n}\"\u001b[0m\u001b[0;34m,\u001b[0m \u001b[0mn\u001b[0m\u001b[0;34m,\u001b[0m \u001b[0mR\u001b[0m\u001b[0;34m,\u001b[0m \u001b[0;34mF\"instancias/densidad-alta/ALTA-{n}.txt\"\u001b[0m\u001b[0;34m]\u001b[0m\u001b[0;34m)\u001b[0m\u001b[0;34m\u001b[0m\u001b[0;34m\u001b[0m\u001b[0m\n\u001b[1;32m      9\u001b[0m \u001b[0mpd\u001b[0m\u001b[0;34m.\u001b[0m\u001b[0mDataFrame\u001b[0m\u001b[0;34m(\u001b[0m\u001b[0mfilas_indice\u001b[0m\u001b[0;34m,\u001b[0m \u001b[0mcolumns\u001b[0m\u001b[0;34m=\u001b[0m\u001b[0;34m[\u001b[0m\u001b[0;34m\"dataset\"\u001b[0m\u001b[0;34m,\u001b[0m \u001b[0;34m\"instancia\"\u001b[0m\u001b[0;34m,\u001b[0m \u001b[0;34m\"n\"\u001b[0m\u001b[0;34m,\u001b[0m \u001b[0;34m\"R\"\u001b[0m\u001b[0;34m,\u001b[0m \u001b[0;34m\"archivo\"\u001b[0m\u001b[0;34m]\u001b[0m\u001b[0;34m)\u001b[0m\u001b[0;34m.\u001b[0m\u001b[0mto_csv\u001b[0m\u001b[0;34m(\u001b[0m\u001b[0;34m\"instancias/densidad-alta/indice.csv\"\u001b[0m\u001b[0;34m,\u001b[0m \u001b[0mindex\u001b[0m\u001b[0;34m=\u001b[0m\u001b[0;32mFalse\u001b[0m\u001b[0;34m,\u001b[0m \u001b[0mheader\u001b[0m\u001b[0;34m=\u001b[0m\u001b[0;32mTrue\u001b[0m\u001b[0;34m)\u001b[0m\u001b[0;34m\u001b[0m\u001b[0;34m\u001b[0m\u001b[0m\n",
      "\u001b[0;31mNameError\u001b[0m: name 'save_instance' is not defined"
     ]
    }
   ],
   "source": [
    "filas_indice = []\n",
    "for n in range(1, 201):\n",
    "    J = [(0,0) for i in range(0, n)]\n",
    "    for i in range(0, n): J[i] = (i+1,(i+1)*3)\n",
    "    R = math.floor(J[n-1][1]*2)\n",
    "    random.shuffle(J)\n",
    "    save_instance(\"densidad-alta\", F\"ALTA-{n}\", J, R)\n",
    "    filas_indice.append([\"densidad-alta\", F\"ALTA-{n}\", n, R, F\"instancias/densidad-alta/ALTA-{n}.txt\"])\n",
    "pd.DataFrame(filas_indice, columns=[\"dataset\", \"instancia\", \"n\", \"R\", \"archivo\"]).to_csv(\"instancias/densidad-alta/indice.csv\", index=False, header=True)"
   ]
  },
  {
   "cell_type": "markdown",
   "metadata": {},
   "source": [
    "## Dataset 4\n",
    "Instancias con densidad baja:\n",
    "```\n",
    "S = { 1, ..., n } con W = n/2  \n",
    "```"
   ]
  },
  {
   "cell_type": "code",
   "execution_count": 41,
   "metadata": {},
   "outputs": [],
   "source": [
    "filas_indice = []\n",
    "for n in range(1, 201):\n",
    "    J = [(0,0) for i in range(0, n)]\n",
    "    for i in range(0, n): J[i] = (i+3, int((i+1)/3))\n",
    "    R = math.floor(int(J[n-1][1]/2))\n",
    "    random.shuffle(J)\n",
    "    save_instance(\"densidad-baja\", F\"BAJA-{n}\", J, R)\n",
    "    filas_indice.append([\"densidad-baja\", F\"BAJA-{n}\", n, R, F\"instancias/densidad-baja/BAJA-{n}.txt\"])\n",
    "pd.DataFrame(filas_indice, columns=[\"dataset\", \"instancia\", \"n\", \"R\", \"archivo\"]).to_csv(\"instancias/densidad-baja/indice.csv\", index=False, header=True)"
   ]
  },
  {
   "cell_type": "markdown",
   "metadata": {},
   "source": [
    "# Dataset 5\n",
    "Instancias con densidad media"
   ]
  },
  {
   "cell_type": "code",
   "execution_count": 45,
   "metadata": {},
   "outputs": [],
   "source": [
    "for n in range(1, 201):\n",
    "    J = [(0,0) for i in range(0, n)]\n",
    "    for i in range(0, n): J[i] = (i+1, i+1)\n",
    "    R = math.floor(n*(n+1)/2)\n",
    "    random.shuffle(J)\n",
    "    save_instance(\"dinamica\", F\"DP-{n}\", J, R)\n",
    "    filas_indice.append([\"dinamica\", F\"DP-{n}\", n, R, F\"instancias/dinamica/DP-{n}.txt\"])\n",
    "pd.DataFrame(filas_indice, columns=[\"dataset\", \"instancia\", \"n\", \"R\", \"archivo\"]).to_csv(\"instancias/dinamica/indice.csv\", index=False, header=True)"
   ]
  },
  {
   "cell_type": "markdown",
   "metadata": {},
   "source": [
    "# Dataset 6\n",
    "Instancias mezclando densidades densidades bajas y altas."
   ]
  },
  {
   "cell_type": "code",
   "execution_count": 43,
   "metadata": {},
   "outputs": [],
   "source": [
    "filas_indice = []\n",
    "for n in range(1, 201):\n",
    "\n",
    "    #baja densidad\n",
    "    J1 = [(0,0) for i in range(0, n)]\n",
    "    for i in range(0, n): J1[i] = (i+3, int((i+1)/3))\n",
    "    R1 = math.floor(int(J1[n-1][1]/2))\n",
    "    random.shuffle(J1)\n",
    "    \n",
    "    \n",
    "    #densidad media\n",
    "    J2 = [(0,0) for i in range(0, n)]\n",
    "    for i in range(0, n): J2[i] = (i+1, i+1)\n",
    "    R2 = math.floor(n*(n+1)/2)\n",
    "    random.shuffle(J)\n",
    "    \n",
    "    # alta densidad\n",
    "    J = [(0,0) for i in range(0, n)]\n",
    "    for i in range(0, n): J[i] = (i+1,(i+1)*3)\n",
    "    R = math.floor(J[n-1][1]*2)\n",
    "    random.shuffle(J)\n",
    "    \n",
    "    #mezclo\n",
    "    for i in range(0, int(n/3)): J[i] = J1[i]\n",
    "    for i in range(int(n/3)+1, 2*int(n/3)): J[i] = J1[i]\n",
    "    random.shuffle(J)\n",
    "    R=int((R+R1+R2)/3)\n",
    "    save_instance(\"densidad-mezclada\", F\"MEZCLA-{n}\", J, R)\n",
    "    filas_indice.append([\"densidad-mezclada\", F\"MEZCLA-{n}\", n, R, F\"instancias/densidad-mezclada/MEZCLA-{n}.txt\"])\n",
    "pd.DataFrame(filas_indice, columns=[\"dataset\", \"instancia\", \"n\", \"R\", \"archivo\"]).to_csv(\"instancias/densidad-mezclada/indice.csv\", index=False, header=True)"
   ]
  }
 ],
 "metadata": {
  "kernelspec": {
   "display_name": "Python 3",
   "language": "python",
   "name": "python3"
  },
  "language_info": {
   "codemirror_mode": {
    "name": "ipython",
    "version": 3
   },
   "file_extension": ".py",
   "mimetype": "text/x-python",
   "name": "python",
   "nbconvert_exporter": "python",
   "pygments_lexer": "ipython3",
   "version": "3.8.10"
  }
 },
 "nbformat": 4,
 "nbformat_minor": 4
}
