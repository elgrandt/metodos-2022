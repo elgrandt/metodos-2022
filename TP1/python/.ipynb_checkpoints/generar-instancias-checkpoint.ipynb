{
 "cells": [
  {
   "cell_type": "markdown",
   "metadata": {},
   "source": [
    "# Generador de instancias\n",
    "En este notebook está el código para generar los sets de instancias que se usan para experimentar.\n",
    "- Estas instancias van a ser guardadas en la carpeta __instancias__.\n",
    "- Cada set estará en su propia carpeta y tendrá un archivo _indice.csv_ que contendrá información sobre las instancias."
   ]
  },
  {
   "cell_type": "code",
   "execution_count": 1,
   "metadata": {},
   "outputs": [],
   "source": [
    "import random, math\n",
    "import pandas as pd\n",
    "from itertools import chain, combinations\n",
    "#from IPython.core.debugger import set_trace"
   ]
  },
  {
   "cell_type": "code",
   "execution_count": 2,
   "metadata": {},
   "outputs": [],
   "source": [
    "def imprimirEncabezadoInstancias(Dataset, cantidadTotalDePaginas, cantidadTotalDeLinks,P):\n",
    "    with open(F\"instancias/\"+Dataset+\"/\"+str(cantidadTotalDePaginas)+\"_paginas_\"+str(cantidadTotalDeLinks)+\"_links_P_\"+str(P)+\".txt\", \"w\") as f:\n",
    "        f.write(str(cantidadTotalDePaginas)+\"\\n\")\n",
    "        f.write(str(cantidadTotalDeLinks)+\"\\n\")\n",
    "\n",
    "def imprimirArista(Dataset, cantidadTotalDePaginas, cantidadTotalDeLinks,desde,hasta,P):\n",
    "    with open(F\"instancias/\"+Dataset+\"/\"+str(cantidadTotalDePaginas)+\"_paginas_\"+str(cantidadTotalDeLinks)+\"_links_P_\"+str(P)+\".txt\", \"r+\") as f:\n",
    "        f.seek(0, 2)\n",
    "        f.write(str(desde)+\" \"+str(hasta)+\"\\n\")"
   ]
  },
  {
   "cell_type": "markdown",
   "metadata": {},
   "source": [
    "## Dataset 1\n",
    "Instancias que modelan el una web con 3 paginas principales.\n"
   ]
  },
  {
   "cell_type": "markdown",
   "metadata": {},
   "source": [
    "### Defino la funcion que va a generar la instancia"
   ]
  },
  {
   "cell_type": "code",
   "execution_count": 3,
   "metadata": {},
   "outputs": [],
   "source": [
    "def generarInstancia3Principales(DataSet,cantidadTotalDePaginas,cantidadTotalDeLinks,Cant1,Cant2,Cant3,NombreInstancia=\"\",P=0.7):\n",
    "    SetPaginasPosibles=set(range(cantidadTotalDePaginas))\n",
    "    blacklist=[0,1,2,3]\n",
    "    \n",
    "    #genero los que apuntan a la pagina 1\n",
    "    for i in range(1, Cant1+1):\n",
    "        PaginasPosibles=list(SetPaginasPosibles.difference(blacklist))\n",
    "        PaginaElegida = random.choice(PaginasPosibles)\n",
    "        blacklist.append(PaginaElegida)\n",
    "        if(len(NombreInstancia)==0):\n",
    "            imprimirArista(DataSet, cantidadTotalDePaginas, cantidadTotalDeLinks,PaginaElegida,1,P)\n",
    "        else:    \n",
    "            imprimirArista(DataSet, NombreInstancia, cantidadTotalDeLinks,PaginaElegida,1,P)\n",
    "    \n",
    "    #genero los que apuntan a la pagina 2\n",
    "    blacklist=[0,1,2,3]\n",
    "    for i in range(1, Cant2+1):\n",
    "        PaginasPosibles=list(SetPaginasPosibles.difference(blacklist))\n",
    "        PaginaElegida = random.choice(PaginasPosibles)\n",
    "        blacklist.append(PaginaElegida)\n",
    "        if(len(NombreInstancia)==0):\n",
    "            imprimirArista(DataSet, cantidadTotalDePaginas, cantidadTotalDeLinks,PaginaElegida,2,P)\n",
    "        else:\n",
    "            imprimirArista(DataSet, NombreInstancia, cantidadTotalDeLinks,PaginaElegida,2,P)\n",
    "\n",
    "    #genero los que apuntan a la pagina 3\n",
    "    blacklist=[0,1,2,3]\n",
    "    for i in range(1, Cant3+1):\n",
    "        PaginasPosibles=list(SetPaginasPosibles.difference(blacklist))\n",
    "        PaginaElegida = random.choice(PaginasPosibles)\n",
    "        blacklist.append(PaginaElegida)\n",
    "        if(len(NombreInstancia)==0):\n",
    "            imprimirArista(DataSet, cantidadTotalDePaginas, cantidadTotalDeLinks,PaginaElegida,3,P)\n",
    "        else:\n",
    "            imprimirArista(DataSet, NombreInstancia, cantidadTotalDeLinks,PaginaElegida,3,P)\n",
    "    \n",
    "    blacklist=[0,1,2,3]\n",
    "    #genero las aristas restantes\n",
    "    PaginasPosibles=list(SetPaginasPosibles.difference(blacklist))\n",
    "    listaDeTuplas = ElegirAristas(PaginasPosibles,(cantidadTotalDeLinks-Cant3-Cant2-Cant1)+1)\n",
    "    for tupla in listaDeTuplas[0:-1]:\n",
    "        #set_trace()\n",
    "        Desde = tupla[0]\n",
    "        Hasta = tupla[1]\n",
    "        if(len(NombreInstancia)==0):\n",
    "            imprimirArista(DataSet, cantidadTotalDePaginas, cantidadTotalDeLinks,Desde,Hasta,P)\n",
    "        else:\n",
    "            imprimirArista(DataSet, NombreInstancia, cantidadTotalDeLinks,Desde,Hasta,P)\n",
    "    \n",
    "\n",
    "def ElegirAristas(listaDePaginas, cantRestantes):\n",
    "    blacklist=[0,1,2,3]\n",
    "    listaElegida=[]\n",
    "    for i in range(1,20):\n",
    "        listaElegida.append(random.choice(listaDePaginas))\n",
    "        blacklist.append(listaElegida[-1])\n",
    "        PaginasPosibles=list(set(listaDePaginas).difference(blacklist))\n",
    "    aPowerset=list(combinations(listaElegida, 2))\n",
    "    result=aPowerset\n",
    "    random.shuffle(result)\n",
    "    return result[0:cantRestantes]\n",
    "    \n",
    "    "
   ]
  },
  {
   "cell_type": "markdown",
   "metadata": {},
   "source": [
    "### invoco la funcion"
   ]
  },
  {
   "cell_type": "code",
   "execution_count": 4,
   "metadata": {},
   "outputs": [],
   "source": [
    "def generarUnaInstancia(DataSet,cantidadTotalDePaginas,cantidadTotalDeLinks,cant1,cant2,cant3,P):\n",
    "    imprimirEncabezadoInstancias(DataSet,cantidadTotalDePaginas,cantidadTotalDeLinks,P)\n",
    "    generarInstancia3Principales(DataSet,cantidadTotalDePaginas,cantidadTotalDeLinks,cant1,cant2,cant3,\"\",P)\n",
    "    print(\"Archivo:\\n\"+F\"instancias/\"+str(DataSet)+\"/\"+str(cantidadTotalDePaginas)+\"_paginas_\"+str(cantidadTotalDeLinks)+\"_links_P_\"+str(P)+\".txt \\n\"+\"Creado con exito\")"
   ]
  },
  {
   "cell_type": "code",
   "execution_count": 5,
   "metadata": {},
   "outputs": [
    {
     "name": "stdout",
     "output_type": "stream",
     "text": [
      "Archivo:\n",
      "instancias/3 Principales/1000_paginas_200_links_P_0.7.txt \n",
      "Creado con exito\n",
      "Archivo:\n",
      "instancias/3 Principales/1000_paginas_400_links_P_0.7.txt \n",
      "Creado con exito\n",
      "Archivo:\n",
      "instancias/3 Principales/1000_paginas_600_links_P_0.7.txt \n",
      "Creado con exito\n",
      "Archivo:\n",
      "instancias/3 Principales/1000_paginas_800_links_P_0.7.txt \n",
      "Creado con exito\n",
      "Archivo:\n",
      "instancias/3 Principales/1000_paginas_1000_links_P_0.7.txt \n",
      "Creado con exito\n",
      "Archivo:\n",
      "instancias/3 Principales/1000_paginas_500_links_P_0.2.txt \n",
      "Creado con exito\n",
      "Archivo:\n",
      "instancias/3 Principales/1000_paginas_500_links_P_0.4.txt \n",
      "Creado con exito\n",
      "Archivo:\n",
      "instancias/3 Principales/1000_paginas_500_links_P_0.6.txt \n",
      "Creado con exito\n",
      "Archivo:\n",
      "instancias/3 Principales/1000_paginas_500_links_P_0.8.txt \n",
      "Creado con exito\n",
      "Archivo:\n",
      "instancias/3 Principales/1000_paginas_500_links_P_1.txt \n",
      "Creado con exito\n"
     ]
    }
   ],
   "source": [
    "def generarDataSetEXP1():\n",
    "    generarUnaInstancia(\"3 Principales\",1000,200,100,50,20,0.7)\n",
    "    generarUnaInstancia(\"3 Principales\",1000,400,200,100,40,0.7)\n",
    "    generarUnaInstancia(\"3 Principales\",1000,600,300,150,60,0.7)\n",
    "    generarUnaInstancia(\"3 Principales\",1000,800,400,200,80,0.7)\n",
    "    generarUnaInstancia(\"3 Principales\",1000,1000,500,250,100,0.7)\n",
    "def generarDataSetEXP2():\n",
    "    generarUnaInstancia(\"3 Principales\",1000,500,250,125,50,0.2)\n",
    "    generarUnaInstancia(\"3 Principales\",1000,500,250,125,50,0.4)\n",
    "    generarUnaInstancia(\"3 Principales\",1000,500,250,125,50,0.6)\n",
    "    generarUnaInstancia(\"3 Principales\",1000,500,250,125,50,0.8)\n",
    "    generarUnaInstancia(\"3 Principales\",1000,500,250,125,50,1)\n",
    "    \n",
    "\n",
    "generarDataSetEXP1()\n",
    "generarDataSetEXP2()"
   ]
  },
  {
   "cell_type": "markdown",
   "metadata": {},
   "source": [
    "## Dataset 2\n",
    "Instancias en donde hay 3 claros principales pero tambien hay un anillo aislado de paginas que se apuntan entre si y todas a una pagina central\n",
    "\n",
    "```es nescesario correr el bloque que define generarInstancia3Principales() ya que se usa\n",
    "```\n",
    "\n",
    "Por practicidad la pagina central del anillo es la ultima y las que integran el anillo son las ultimas N-1 (siendo N la cantidad de paginas del anillo)"
   ]
  },
  {
   "cell_type": "markdown",
   "metadata": {},
   "source": [
    "### Defino la funcion que va a generar la instancia"
   ]
  },
  {
   "cell_type": "code",
   "execution_count": 6,
   "metadata": {},
   "outputs": [],
   "source": [
    "def generarIntanciaConAnillo(DataSet,cantidadTotalDePaginas,cantidadTotalDeLinks,Cant1,Cant2,Cant3,PrimeroDelAnillo,P):\n",
    "    UltimoDelAnillo=cantidadTotalDePaginas-1\n",
    "    CantAnillo=UltimoDelAnillo-PrimeroDelAnillo+1\n",
    "    CantLegales=cantidadTotalDePaginas-CantAnillo-1\n",
    "    CentralDelAnillo=cantidadTotalDePaginas\n",
    "    imprimirEncabezadoInstanciasConAnillo(DataSet,cantidadTotalDePaginas,cantidadTotalDeLinks+3*(CantAnillo-1),PrimeroDelAnillo,P)\n",
    "    generarInstancia3PrincipalesConAnillo(DataSet,CantLegales,cantidadTotalDeLinks,Cant1,Cant2,Cant3,PrimeroDelAnillo,cantidadTotalDePaginas,P)\n",
    "\n",
    "    #agrego links apuntando a derecha\n",
    "    for i in range(PrimeroDelAnillo, cantidadTotalDePaginas):\n",
    "        if((i-CantLegales)==CantAnillo):\n",
    "            siguiente=PrimeroDelAnillo\n",
    "        else:\n",
    "            siguiente= i+1\n",
    "        imprimirAristaConAnillo(DataSet, cantidadTotalDePaginas, cantidadTotalDeLinks,i,siguiente,PrimeroDelAnillo,P)\n",
    "    #agrego links apuntando a izquiera\n",
    "    for i in range(UltimoDelAnillo, PrimeroDelAnillo+1,-1):\n",
    "        if(i==PrimeroDelAnillo):\n",
    "            siguiente=UltimoAnillo\n",
    "        else:\n",
    "            siguiente= i-1\n",
    "        imprimirAristaConAnillo(DataSet, cantidadTotalDePaginas, cantidadTotalDeLinks,i,siguiente,PrimeroDelAnillo,P)\n",
    "    #agrego links de todas la paginas del anillo apuntando al centro\n",
    "    for i in range(PrimeroDelAnillo,UltimoDelAnillo+1):        \n",
    "        imprimirAristaConAnillo(DataSet, cantidadTotalDePaginas, cantidadTotalDeLinks,i,CentralDelAnillo,PrimeroDelAnillo,P)"
   ]
  },
  {
   "cell_type": "code",
   "execution_count": 7,
   "metadata": {},
   "outputs": [],
   "source": [
    "def generarInstancia3PrincipalesConAnillo(DataSet,CantLegales,cantidadTotalDeLinks,Cant1,Cant2,Cant3,PrimeroDelAnillo,NombreAImprimir,P):\n",
    "    SetPaginasPosibles=set(range(CantLegales))\n",
    "    blacklist=[1,2,3]\n",
    "    #genero los que apuntan a la pagina 1\n",
    "    for i in range(1, Cant1+1):\n",
    "        PaginasPosibles=list(SetPaginasPosibles.difference(blacklist))\n",
    "        PaginaElegida = random.choice(PaginasPosibles)\n",
    "        blacklist.append(PaginaElegida)\n",
    "        imprimirAristaConAnillo(DataSet, NombreAImprimir, cantidadTotalDeLinks,PaginaElegida,1,PrimeroDelAnillo,P)\n",
    "    #genero los que apuntan a la pagina 2\n",
    "    blacklist=[1,2,3]\n",
    "    for i in range(1, Cant2+1):\n",
    "        PaginasPosibles=list(SetPaginasPosibles.difference(blacklist))\n",
    "        PaginaElegida = random.choice(PaginasPosibles)\n",
    "        blacklist.append(PaginaElegida)\n",
    "        imprimirAristaConAnillo(DataSet, NombreAImprimir, cantidadTotalDeLinks,PaginaElegida,2,PrimeroDelAnillo,P)\n",
    "        \n",
    "    #genero los que apuntan a la pagina 3\n",
    "    blacklist=[1,2,3]\n",
    "    for i in range(1, Cant3+1):\n",
    "        PaginasPosibles=list(SetPaginasPosibles.difference(blacklist))\n",
    "        PaginaElegida = random.choice(PaginasPosibles)\n",
    "        blacklist.append(PaginaElegida)\n",
    "        imprimirAristaConAnillo(DataSet, NombreAImprimir, cantidadTotalDeLinks,PaginaElegida,3,PrimeroDelAnillo,P)\n",
    "    blacklist=[1,2,3]\n",
    "    \n",
    "    #genero las aristas restantes\n",
    "    PaginasPosibles=list(SetPaginasPosibles.difference(blacklist))\n",
    "    listaDeTuplas = ElegirAristas(PaginasPosibles,(cantidadTotalDeLinks-Cant3-Cant2-Cant1)+1)\n",
    "    for tupla in listaDeTuplas[0:-1]:\n",
    "        #set_trace()\n",
    "        Desde = tupla[0]\n",
    "        Hasta = tupla[1]\n",
    "        imprimirAristaConAnillo(DataSet, NombreAImprimir, cantidadTotalDeLinks,Desde,Hasta,PrimeroDelAnillo,P)\n",
    "\n",
    "def ElegirAristas(listaDePaginas, cantRestantes):\n",
    "    blacklist=[1,2,3]\n",
    "    listaElegida=[]\n",
    "    for i in range(1,20):\n",
    "        listaElegida.append(random.choice(listaDePaginas))\n",
    "        blacklist.append(listaElegida[-1])\n",
    "        PaginasPosibles=list(set(listaDePaginas).difference(blacklist))\n",
    "    aPowerset=list(combinations(listaElegida, 2))\n",
    "    result=aPowerset\n",
    "    random.shuffle(result)\n",
    "    return result[0:cantRestantes]\n",
    "        \n",
    "    "
   ]
  },
  {
   "cell_type": "code",
   "execution_count": 8,
   "metadata": {},
   "outputs": [],
   "source": [
    "def imprimirEncabezadoInstanciasConAnillo(Carpeta, cantidadTotalDePaginas, cantidadTotalDeLinks,PrimeroDelAnillo,P):\n",
    "    with open(F\"instancias/\"+Carpeta+\"/\"+str(PrimeroDelAnillo)+\"_Inicio_\"+str(cantidadTotalDePaginas)+\"_paginas_P_\"+str(P)+\".txt\", \"w\") as f:\n",
    "        f.write(str(cantidadTotalDePaginas)+\"\\n\")\n",
    "        f.write(str(cantidadTotalDeLinks+1)+\"\\n\")\n",
    "\n",
    "def imprimirAristaConAnillo(Carpeta, cantidadTotalDePaginas, cantidadTotalDeLinks,desde,hasta,PrimeroDelAnillo,P):\n",
    "    with open(F\"instancias/\"+Carpeta+\"/\"+str(PrimeroDelAnillo)+\"_Inicio_\"+str(cantidadTotalDePaginas)+\"_paginas_P_\"+str(P)+\".txt\", \"r+\") as f:\n",
    "        f.seek(0, 2)\n",
    "        f.write(str(desde)+\" \"+str(hasta)+\"\\n\")"
   ]
  },
  {
   "cell_type": "markdown",
   "metadata": {},
   "source": [
    "### invoco la funcion"
   ]
  },
  {
   "cell_type": "code",
   "execution_count": 9,
   "metadata": {},
   "outputs": [],
   "source": [
    "DataSet=\"3 Principales y Anillo\"\n",
    "cantidadTotalDePaginas=1000\n",
    "cantidadTotalDeLinks=501\n",
    "Cant1=250\n",
    "Cant2=125\n",
    "Cant3=50\n",
    "P=0.7\n",
    "PrimeroDelAnillo=994\n",
    "generarIntanciaConAnillo(DataSet,cantidadTotalDePaginas,cantidadTotalDeLinks,Cant1,Cant2,Cant3,PrimeroDelAnillo,P)\n",
    "PrimeroDelAnillo=959\n",
    "generarIntanciaConAnillo(DataSet,cantidadTotalDePaginas,cantidadTotalDeLinks,Cant1,Cant2,Cant3,PrimeroDelAnillo,P)\n",
    "PrimeroDelAnillo=899\n",
    "generarIntanciaConAnillo(DataSet,cantidadTotalDePaginas,cantidadTotalDeLinks,Cant1,Cant2,Cant3,PrimeroDelAnillo,P)\n",
    "PrimeroDelAnillo=832\n",
    "generarIntanciaConAnillo(DataSet,cantidadTotalDePaginas,cantidadTotalDeLinks,Cant1,Cant2,Cant3,PrimeroDelAnillo,P)"
   ]
  },
  {
   "cell_type": "markdown",
   "metadata": {},
   "source": [
    "## Dataset 3\n",
    "Instancias que modelan el caso particular donde las paginas principales apuntan a otra no tan principal"
   ]
  },
  {
   "cell_type": "markdown",
   "metadata": {},
   "source": [
    "### Defino la funcion que va a generar la instancia"
   ]
  },
  {
   "cell_type": "code",
   "execution_count": 10,
   "metadata": {},
   "outputs": [],
   "source": [
    "def generarInstanciaPaginaApuntada(Carpeta,cantidadTotalDePaginas,cantidadTotalDeLinks,Cant1,Cant2,Cant3,CantidadImportantesApuntando,P):\n",
    "    imprimirEncabezadoInstanciasApuntadas(Carpeta,cantidadTotalDePaginas,cantidadTotalDeLinks,CantidadImportantesApuntando,P)\n",
    "    generarInstancia3PrincipalesVersion2(Carpeta,cantidadTotalDePaginas,cantidadTotalDeLinks,Cant1,Cant2,Cant3,CantidadImportantesApuntando,P)\n",
    "    blacklist=[1,2,3]\n",
    "    PaginasPosibles=list(set(range(cantidadTotalDePaginas)).difference(blacklist))\n",
    "    PaginaElegida = random.choice(PaginasPosibles)\n",
    "    for i in range(1,CantidadImportantesApuntando+1):\n",
    "        imprimirAristaVersionInstanciasApuntadas(Carpeta, cantidadTotalDePaginas, cantidadTotalDeLinks,i,PaginaElegida,CantidadImportantesApuntando,P)"
   ]
  },
  {
   "cell_type": "code",
   "execution_count": 11,
   "metadata": {},
   "outputs": [],
   "source": [
    "def generarInstancia3PrincipalesVersion2(Carpeta,cantidadTotalDePaginas,cantidadTotalDeLinks,Cant1,Cant2,Cant3,CantidadImportantesApuntando,P):\n",
    "    SetPaginasPosibles=set(range(cantidadTotalDePaginas))\n",
    "    blacklist=[1,2,3]\n",
    "    cantidadTotalDeLinks=cantidadTotalDeLinks-CantidadImportantesApuntando\n",
    "    #genero los que apuntan a la pagina 1\n",
    "    for i in range(1, Cant1+1):\n",
    "        PaginasPosibles=list(SetPaginasPosibles.difference(blacklist))\n",
    "        PaginaElegida = random.choice(PaginasPosibles)\n",
    "        blacklist.append(PaginaElegida)\n",
    "        imprimirAristaVersionInstanciasApuntadas(Carpeta, cantidadTotalDePaginas,cantidadTotalDeLinks+CantidadImportantesApuntando,PaginaElegida,1,CantidadImportantesApuntando,P)\n",
    "    #genero los que apuntan a la pagina 2\n",
    "    blacklist=[1,2,3]\n",
    "    for i in range(1, Cant2+1):\n",
    "        PaginasPosibles=list(SetPaginasPosibles.difference(blacklist))\n",
    "        PaginaElegida = random.choice(PaginasPosibles)\n",
    "        blacklist.append(PaginaElegida)\n",
    "        imprimirAristaVersionInstanciasApuntadas(Carpeta, cantidadTotalDePaginas, cantidadTotalDeLinks+CantidadImportantesApuntando,PaginaElegida,2,CantidadImportantesApuntando,P)\n",
    "    #genero los que apuntan a la pagina 3\n",
    "    blacklist=[1,2,3]\n",
    "    for i in range(1, Cant3+1):\n",
    "        PaginasPosibles=list(SetPaginasPosibles.difference(blacklist))\n",
    "        PaginaElegida = random.choice(PaginasPosibles)\n",
    "        blacklist.append(PaginaElegida)\n",
    "        imprimirAristaVersionInstanciasApuntadas(Carpeta, cantidadTotalDePaginas,cantidadTotalDeLinks+CantidadImportantesApuntando,PaginaElegida,3,CantidadImportantesApuntando,P)\n",
    "        \n",
    "    #genero las aristas restantes\n",
    "    PaginasPosibles=list(SetPaginasPosibles.difference(blacklist))\n",
    "    listaDeTuplas = ElegirAristas(PaginasPosibles,(cantidadTotalDeLinks-Cant3-Cant2-Cant1)+1)\n",
    "    for tupla in listaDeTuplas[0:-1]:\n",
    "        #set_trace()\n",
    "        Desde = tupla[0]\n",
    "        Hasta = tupla[1]\n",
    "        imprimirAristaVersionInstanciasApuntadas(Carpeta, cantidadTotalDePaginas,cantidadTotalDeLinks+CantidadImportantesApuntando,Desde,Hasta,CantidadImportantesApuntando,P)\n",
    "\n",
    "def ElegirAristas(listaDePaginas, cantRestantes):\n",
    "    blacklist=[1,2,3]\n",
    "    listaElegida=[]\n",
    "    for i in range(1,20):\n",
    "        listaElegida.append(random.choice(listaDePaginas))\n",
    "        blacklist.append(listaElegida[-1])\n",
    "        PaginasPosibles=list(set(listaDePaginas).difference(blacklist))\n",
    "    aPowerset=list(combinations(listaElegida, 2))\n",
    "    result=aPowerset\n",
    "    random.shuffle(result)\n",
    "    return result[0:cantRestantes]"
   ]
  },
  {
   "cell_type": "code",
   "execution_count": 12,
   "metadata": {},
   "outputs": [],
   "source": [
    "\n",
    "def imprimirAristaVersionInstanciasApuntadas(Carpeta, cantidadTotalDePaginas, cantidadTotalDeLinks,desde,hasta,cantidadApuntando,P):\n",
    "    with open(F\"instancias/\"+Carpeta+\"/\"+str(cantidadApuntando)+\"_apuntando_\"+str(cantidadTotalDePaginas)+\"_paginas_\"+str(cantidadTotalDeLinks)+\"_links_P_\"+str(P)+\".txt\", \"r+\") as f:\n",
    "        f.seek(0, 2)\n",
    "        f.write(str(desde)+\" \"+str(hasta)+\"\\n\")\n",
    "\n",
    "def imprimirEncabezadoInstanciasApuntadas(Carpeta, cantidadTotalDePaginas, cantidadTotalDeLinks,cantidadApuntando,P):\n",
    "    with open(F\"instancias/\"+Carpeta+\"/\"+str(cantidadApuntando)+\"_apuntando_\"+str(cantidadTotalDePaginas)+\"_paginas_\"+str(cantidadTotalDeLinks)+\"_links_P_\"+str(P)+\".txt\", \"w\") as f:\n",
    "        f.write(str(cantidadTotalDePaginas)+\"\\n\")\n",
    "        f.write(str(cantidadTotalDeLinks)+\"\\n\")"
   ]
  },
  {
   "cell_type": "markdown",
   "metadata": {},
   "source": [
    "### invoco la funcion"
   ]
  },
  {
   "cell_type": "code",
   "execution_count": 13,
   "metadata": {},
   "outputs": [],
   "source": [
    "Carpeta=\"3 Principales Apuntando a otra\"\n",
    "cantidadTotalDePaginas=1000\n",
    "cantidadTotalDeLinks=500\n",
    "Cant1=250\n",
    "Cant2=125\n",
    "Cant3=50\n",
    "P=0.7\n",
    "CantidadImportantesApuntando=3\n",
    "generarInstanciaPaginaApuntada(Carpeta,cantidadTotalDePaginas,cantidadTotalDeLinks,Cant1,Cant2,Cant3,CantidadImportantesApuntando,P)\n",
    "\n",
    "CantidadImportantesApuntando=2\n",
    "generarInstanciaPaginaApuntada(Carpeta,cantidadTotalDePaginas,cantidadTotalDeLinks,Cant1,Cant2,Cant3,CantidadImportantesApuntando,P)\n",
    "\n",
    "CantidadImportantesApuntando=1\n",
    "generarInstanciaPaginaApuntada(Carpeta,cantidadTotalDePaginas,cantidadTotalDeLinks,Cant1,Cant2,Cant3,CantidadImportantesApuntando,P)"
   ]
  },
  {
   "cell_type": "code",
   "execution_count": null,
   "metadata": {},
   "outputs": [],
   "source": []
  }
 ],
 "metadata": {
  "kernelspec": {
   "display_name": "Python 3",
   "language": "python",
   "name": "python3"
  },
  "language_info": {
   "codemirror_mode": {
    "name": "ipython",
    "version": 3
   },
   "file_extension": ".py",
   "mimetype": "text/x-python",
   "name": "python",
   "nbconvert_exporter": "python",
   "pygments_lexer": "ipython3",
   "version": "3.8.10"
  }
 },
 "nbformat": 4,
 "nbformat_minor": 4
}
