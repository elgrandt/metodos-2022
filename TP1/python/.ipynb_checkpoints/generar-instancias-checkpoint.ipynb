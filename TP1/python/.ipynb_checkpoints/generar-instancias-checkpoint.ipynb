{
 "cells": [
  {
   "cell_type": "markdown",
   "metadata": {},
   "source": [
    "# Generador de instancias\n",
    "En este notebook está el código para generar los sets de instancias que se usan para experimentar.\n",
    "- Estas instancias van a ser guardadas en la carpeta __instancias__.\n",
    "- Cada set estará en su propia carpeta y tendrá un archivo _indice.csv_ que contendrá información sobre las instancias."
   ]
  },
  {
   "cell_type": "code",
   "execution_count": 75,
   "metadata": {},
   "outputs": [],
   "source": [
    "import random, math\n",
    "import pandas as pd\n",
    "#from IPython.core.debugger import set_trace"
   ]
  },
  {
   "cell_type": "code",
   "execution_count": 76,
   "metadata": {},
   "outputs": [],
   "source": [
    "def imprimirEncabezadoInstancias(Dataset, cantidadTotalDePaginas, cantidadTotalDeLinks):\n",
    "    with open(F\"instancias/\"+Dataset+\"/\"+str(cantidadTotalDePaginas)+\"_paginas_\"+str(cantidadTotalDeLinks)+\"_links.txt\", \"w\") as f:\n",
    "        f.write(str(cantidadTotalDePaginas)+\"\\n\")\n",
    "        f.write(str(cantidadTotalDeLinks)+\"\\n\")\n",
    "\n",
    "def imprimirArista(Dataset, cantidadTotalDePaginas, cantidadTotalDeLinks,desde,hasta):\n",
    "    with open(F\"instancias/\"+DataSet+\"/\"+str(cantidadTotalDePaginas)+\"_paginas_\"+str(cantidadTotalDeLinks)+\"_links.txt\", \"r+\") as f:\n",
    "        f.seek(0, 2)\n",
    "        f.write(str(desde)+\" \"+str(hasta)+\"\\n\")"
   ]
  },
  {
   "cell_type": "markdown",
   "metadata": {},
   "source": [
    "## Dataset 1\n",
    "Instancias que modelan el una web con 3 paginas principales.\n"
   ]
  },
  {
   "cell_type": "markdown",
   "metadata": {},
   "source": [
    "### Defino la funcion que va a generar la instancia"
   ]
  },
  {
   "cell_type": "code",
   "execution_count": 77,
   "metadata": {},
   "outputs": [],
   "source": [
    "def generarInstancia3Principales(DataSet,cantidadTotalDePaginas,cantidadTotalDeLinks,Cant1,Cant2,Cant3,NombreInstancia=\"\"):\n",
    "    SetPaginasPosibles=set(range(cantidadTotalDePaginas))\n",
    "    blacklist=[1,2,3]\n",
    "    \n",
    "    #genero los que apuntan a la pagina 1\n",
    "    for i in range(1, Cant1):\n",
    "        PaginasPosibles=list(SetPaginasPosibles.difference(blacklist))\n",
    "        PaginaElegida = random.choice(PaginasPosibles)\n",
    "        blacklist.append(PaginaElegida)\n",
    "        if(len(NombreInstancia)==0):\n",
    "            imprimirArista(DataSet, cantidadTotalDePaginas, cantidadTotalDeLinks,PaginaElegida,1)\n",
    "        else:    \n",
    "            imprimirArista(DataSet, NombreInstancia, cantidadTotalDeLinks,PaginaElegida,1)\n",
    "    \n",
    "    #genero los que apuntan a la pagina 2\n",
    "    blacklist=[1,2,3]\n",
    "    for i in range(1, Cant2):\n",
    "        PaginasPosibles=list(SetPaginasPosibles.difference(blacklist))\n",
    "        PaginaElegida = random.choice(PaginasPosibles)\n",
    "        blacklist.append(PaginaElegida)\n",
    "        if(len(NombreInstancia)==0):\n",
    "            imprimirArista(DataSet, cantidadTotalDePaginas, cantidadTotalDeLinks,PaginaElegida,2)\n",
    "        else:\n",
    "            imprimirArista(DataSet, NombreInstancia, cantidadTotalDeLinks,PaginaElegida,2)\n",
    "\n",
    "    #genero los que apuntan a la pagina 3\n",
    "    blacklist=[1,2,3]\n",
    "    for i in range(1, Cant3):\n",
    "        PaginasPosibles=list(SetPaginasPosibles.difference(blacklist))\n",
    "        PaginaElegida = random.choice(PaginasPosibles)\n",
    "        blacklist.append(PaginaElegida)\n",
    "        if(len(NombreInstancia)==0):\n",
    "            imprimirArista(DataSet, cantidadTotalDePaginas, cantidadTotalDeLinks,PaginaElegida,3)\n",
    "        else:\n",
    "            imprimirArista(DataSet, NombreInstancia, cantidadTotalDeLinks,PaginaElegida,3)\n",
    "    \n",
    "    #genero las aristas restantes\n",
    "    blacklist=[1,2,3]\n",
    "    for i in range(1, (cantidadTotalDeLinks-Cant3-Cant2-Cant1)):\n",
    "        PaginasPosibles=list(SetPaginasPosibles.difference(blacklist))\n",
    "        Desde = random.choice(PaginasPosibles)\n",
    "        blacklist.append(Desde)\n",
    "        Hasta = random.choice(PaginasPosibles)\n",
    "        if(len(NombreInstancia)==0):\n",
    "            imprimirArista(DataSet, cantidadTotalDePaginas, cantidadTotalDeLinks,Desde,Hasta)\n",
    "        else:\n",
    "            imprimirArista(DataSet, NombreInstancia, cantidadTotalDeLinks,Desde,Hasta)"
   ]
  },
  {
   "cell_type": "markdown",
   "metadata": {},
   "source": [
    "### invoco la funcion"
   ]
  },
  {
   "cell_type": "code",
   "execution_count": 78,
   "metadata": {},
   "outputs": [
    {
     "name": "stdout",
     "output_type": "stream",
     "text": [
      "Archivo:\n",
      "instancias/3 Principales/3000_paginas_1000_links.txt \n",
      "Creado con exito\n"
     ]
    }
   ],
   "source": [
    "DataSet=\"3 Principales\"\n",
    "cantidadTotalDePaginas=3000\n",
    "cantidadTotalDeLinks=1000\n",
    "cant1=500\n",
    "cant2=200\n",
    "cant3=100\n",
    "imprimirEncabezadoInstancias(DataSet,cantidadTotalDePaginas,cantidadTotalDeLinks)\n",
    "generarInstancia3Principales(DataSet,cantidadTotalDePaginas,cantidadTotalDeLinks,cant1,cant2,cant3)\n",
    "print(\"Archivo:\\n\"+F\"instancias/\"+str(DataSet)+\"/\"+str(cantidadTotalDePaginas)+\"_paginas_\"+str(cantidadTotalDeLinks)+\"_links.txt \\n\"+\"Creado con exito\")"
   ]
  },
  {
   "cell_type": "markdown",
   "metadata": {},
   "source": [
    "## Dataset 2\n",
    "Instancias en donde hay 3 claros principales pero tambien hay un anillo aislado de paginas que se apuntan entre si y todas a una pagina central\n",
    "\n",
    "```es nescesario correr el bloque que define generarInstancia3Principales() ya que se usa\n",
    "```\n",
    "\n",
    "Por practicidad la pagina central del anillo es la ultima y las que integran el anillo son las ultimas N-1 (siendo N la cantidad de paginas del anillo)"
   ]
  },
  {
   "cell_type": "markdown",
   "metadata": {},
   "source": [
    "### Defino la funcion que va a generar la instancia"
   ]
  },
  {
   "cell_type": "code",
   "execution_count": 79,
   "metadata": {},
   "outputs": [],
   "source": [
    "def generarIntanciaConAnillo(DataSet,cantidadTotalDePaginas,cantidadTotalDeLinks,Cant1,Cant2,Cant3,PrimeroDelAnillo):\n",
    "    imprimirEncabezadoInstanciasConAnillo(DataSet,cantidadTotalDePaginas,cantidadTotalDeLinks,PrimeroDelAnillo)\n",
    "    UltimoDelAnillo=cantidadTotalDePaginas-1\n",
    "    CantAnillo=UltimoDelAnillo-PrimeroDelAnillo+1\n",
    "    CantLegales=cantidadTotalDePaginas-CantAnillo-1\n",
    "    CentralDelAnillo=cantidadTotalDePaginas\n",
    "    generarInstancia3PrincipalesConAnillo(DataSet,CantLegales,cantidadTotalDeLinks,Cant1,Cant2,Cant3,PrimeroDelAnillo,cantidadTotalDePaginas)\n",
    "\n",
    "    #agrego links apuntando a derecha\n",
    "    for i in range(PrimeroDelAnillo, cantidadTotalDePaginas-1):\n",
    "        if((i-CantLegales)==CantAnillo):\n",
    "            siguiente=PrimeroDelAnillo\n",
    "        else:\n",
    "            siguiente= i+1\n",
    "        imprimirAristaConAnillo(DataSet, cantidadTotalDePaginas, cantidadTotalDeLinks,i,siguiente,PrimeroDelAnillo)\n",
    "    #agrego links apuntando a izquiera\n",
    "    for i in range(UltimoDelAnillo, PrimeroDelAnillo,-1):\n",
    "        if(i==PrimeroDelAnillo):\n",
    "            siguiente=UltimoAnillo\n",
    "        else:\n",
    "            siguiente= i-1\n",
    "        imprimirAristaConAnillo(DataSet, cantidadTotalDePaginas, cantidadTotalDeLinks,i,siguiente,PrimeroDelAnillo)\n",
    "    #agrego links de todas la paginas del anillo apuntando al centro\n",
    "    for i in range(PrimeroDelAnillo,UltimoDelAnillo):        \n",
    "        imprimirAristaConAnillo(DataSet, cantidadTotalDePaginas, cantidadTotalDeLinks,i,CentralDelAnillo,PrimeroDelAnillo)"
   ]
  },
  {
   "cell_type": "code",
   "execution_count": 80,
   "metadata": {},
   "outputs": [],
   "source": [
    "def generarInstancia3PrincipalesConAnillo(DataSet,CantLegales,cantidadTotalDeLinks,Cant1,Cant2,Cant3,PrimeroDelAnillo,NombreAImprimir):\n",
    "    SetPaginasPosibles=set(range(CantLegales))\n",
    "    blacklist=[1,2,3]\n",
    "    #genero los que apuntan a la pagina 1\n",
    "    for i in range(1, Cant1):\n",
    "        PaginasPosibles=list(SetPaginasPosibles.difference(blacklist))\n",
    "        PaginaElegida = random.choice(PaginasPosibles)\n",
    "        blacklist.append(PaginaElegida)\n",
    "        imprimirAristaConAnillo(DataSet, NombreAImprimir, cantidadTotalDeLinks,PaginaElegida,1,PrimeroDelAnillo)\n",
    "    #genero los que apuntan a la pagina 2\n",
    "    blacklist=[1,2,3]\n",
    "    for i in range(1, Cant2):\n",
    "        PaginasPosibles=list(SetPaginasPosibles.difference(blacklist))\n",
    "        PaginaElegida = random.choice(PaginasPosibles)\n",
    "        blacklist.append(PaginaElegida)\n",
    "        imprimirAristaConAnillo(DataSet, NombreAImprimir, cantidadTotalDeLinks,PaginaElegida,2,PrimeroDelAnillo)\n",
    "        \n",
    "    #genero los que apuntan a la pagina 3\n",
    "    blacklist=[1,2,3]\n",
    "    for i in range(1, Cant3):\n",
    "        PaginasPosibles=list(SetPaginasPosibles.difference(blacklist))\n",
    "        PaginaElegida = random.choice(PaginasPosibles)\n",
    "        blacklist.append(PaginaElegida)\n",
    "        imprimirAristaConAnillo(DataSet, NombreAImprimir, cantidadTotalDeLinks,PaginaElegida,3,PrimeroDelAnillo)\n",
    "    blacklist=[1,2,3]\n",
    "    \n",
    "    #genero las aristas restantes\n",
    "    for i in range(1, (cantidadTotalDeLinks-Cant3-Cant2-Cant1)):\n",
    "        PaginasPosibles=list(SetPaginasPosibles.difference(blacklist))\n",
    "        Desde = random.choice(PaginasPosibles)\n",
    "        blacklist.append(Desde)\n",
    "        Hasta = random.choice(PaginasPosibles)\n",
    "        imprimirAristaConAnillo(DataSet, NombreAImprimir, cantidadTotalDeLinks,Desde,Hasta,PrimeroDelAnillo)\n",
    "    "
   ]
  },
  {
   "cell_type": "code",
   "execution_count": 81,
   "metadata": {},
   "outputs": [],
   "source": [
    "def imprimirEncabezadoInstanciasConAnillo(Carpeta, cantidadTotalDePaginas, cantidadTotalDeLinks,PrimeroDelAnillo):\n",
    "    with open(F\"instancias/\"+Carpeta+\"/\"+str(PrimeroDelAnillo)+\"_Inicio_\"+str(cantidadTotalDePaginas)+\"_paginas_\"+str(cantidadTotalDeLinks)+\"_links.txt\", \"w\") as f:\n",
    "        f.write(str(cantidadTotalDePaginas)+\"\\n\")\n",
    "        f.write(str(cantidadTotalDeLinks)+\"\\n\")\n",
    "\n",
    "def imprimirAristaConAnillo(Carpeta, cantidadTotalDePaginas, cantidadTotalDeLinks,desde,hasta,PrimeroDelAnillo):\n",
    "    with open(F\"instancias/\"+Carpeta+\"/\"+str(PrimeroDelAnillo)+\"_Inicio_\"+str(cantidadTotalDePaginas)+\"_paginas_\"+str(cantidadTotalDeLinks)+\"_links.txt\", \"r+\") as f:\n",
    "        f.seek(0, 2)\n",
    "        f.write(str(desde)+\" \"+str(hasta)+\"\\n\")"
   ]
  },
  {
   "cell_type": "markdown",
   "metadata": {},
   "source": [
    "### invoco la funcion"
   ]
  },
  {
   "cell_type": "code",
   "execution_count": 82,
   "metadata": {},
   "outputs": [],
   "source": [
    "DataSet=\"3 Principales y Anillo\"\n",
    "cantidadTotalDePaginas=10000\n",
    "cantidadTotalDeLinks=1000\n",
    "Cant1=500\n",
    "Cant2=200\n",
    "Cant3=100\n",
    "PrimeroDelAnillo=7001\n",
    "generarIntanciaConAnillo(DataSet,cantidadTotalDePaginas,cantidadTotalDeLinks,Cant1,Cant2,Cant3,PrimeroDelAnillo)\n",
    "PrimeroDelAnillo=6001\n",
    "generarIntanciaConAnillo(DataSet,cantidadTotalDePaginas,cantidadTotalDeLinks,Cant1,Cant2,Cant3,PrimeroDelAnillo)\n",
    "PrimeroDelAnillo=9001\n",
    "generarIntanciaConAnillo(DataSet,cantidadTotalDePaginas,cantidadTotalDeLinks,Cant1,Cant2,Cant3,PrimeroDelAnillo)\n"
   ]
  },
  {
   "cell_type": "markdown",
   "metadata": {},
   "source": [
    "## Dataset 3\n",
    "Instancias que modelan el caso particular donde las paginas principales apuntan a otra no tan principal"
   ]
  },
  {
   "cell_type": "markdown",
   "metadata": {},
   "source": [
    "### Defino la funcion que va a generar la instancia"
   ]
  },
  {
   "cell_type": "code",
   "execution_count": 83,
   "metadata": {},
   "outputs": [],
   "source": [
    "def generarInstanciaPaginaApuntada(Carpeta,cantidadTotalDePaginas,cantidadTotalDeLinks,Cant1,Cant2,Cant3,CantidadImportantesApuntando):\n",
    "    imprimirEncabezadoInstanciasApuntadas(Carpeta,cantidadTotalDePaginas,cantidadTotalDeLinks,CantidadImportantesApuntando)\n",
    "    generarInstancia3PrincipalesVersion2(Carpeta,cantidadTotalDePaginas,cantidadTotalDeLinks,Cant1,Cant2,Cant3,CantidadImportantesApuntando)\n",
    "    blacklist=[1,2,3]\n",
    "    PaginasPosibles=list(set(range(cantidadTotalDePaginas)).difference(blacklist))\n",
    "    PaginaElegida = random.choice(PaginasPosibles)\n",
    "    for i in range(1,CantidadImportantesApuntando+1):\n",
    "        imprimirAristaVersionInstanciasApuntadas(Carpeta, cantidadTotalDePaginas, cantidadTotalDeLinks,i,PaginaElegida,CantidadImportantesApuntando)"
   ]
  },
  {
   "cell_type": "code",
   "execution_count": 84,
   "metadata": {},
   "outputs": [],
   "source": [
    "def generarInstancia3PrincipalesVersion2(Carpeta,cantidadTotalDePaginas,cantidadTotalDeLinks,Cant1,Cant2,Cant3,CantidadImportantesApuntando):\n",
    "    SetPaginasPosibles=set(range(cantidadTotalDePaginas))\n",
    "    blacklist=[1,2,3]\n",
    "    #genero los que apuntan a la pagina 1\n",
    "    for i in range(1, Cant1):\n",
    "        PaginasPosibles=list(SetPaginasPosibles.difference(blacklist))\n",
    "        PaginaElegida = random.choice(PaginasPosibles)\n",
    "        blacklist.append(PaginaElegida)\n",
    "        imprimirAristaVersionInstanciasApuntadas(Carpeta, cantidadTotalDePaginas, cantidadTotalDeLinks,PaginaElegida,1,CantidadImportantesApuntando)\n",
    "    #genero los que apuntan a la pagina 2\n",
    "    blacklist=[1,2,3]\n",
    "    for i in range(1, Cant2):\n",
    "        PaginasPosibles=list(SetPaginasPosibles.difference(blacklist))\n",
    "        PaginaElegida = random.choice(PaginasPosibles)\n",
    "        blacklist.append(PaginaElegida)\n",
    "        imprimirAristaVersionInstanciasApuntadas(Carpeta, cantidadTotalDePaginas, cantidadTotalDeLinks,PaginaElegida,2,CantidadImportantesApuntando)\n",
    "    #genero los que apuntan a la pagina 3\n",
    "    blacklist=[1,2,3]\n",
    "    for i in range(1, Cant3):\n",
    "        PaginasPosibles=list(SetPaginasPosibles.difference(blacklist))\n",
    "        PaginaElegida = random.choice(PaginasPosibles)\n",
    "        blacklist.append(PaginaElegida)\n",
    "        imprimirAristaVersionInstanciasApuntadas(Carpeta, cantidadTotalDePaginas, cantidadTotalDeLinks,PaginaElegida,3,CantidadImportantesApuntando)\n",
    "        \n",
    "    blacklist=[1,2,3]\n",
    "    #genero las aristas restantes\n",
    "    for i in range(1, (cantidadTotalDeLinks-Cant3-Cant2-Cant1)):\n",
    "        PaginasPosibles=list(SetPaginasPosibles.difference(blacklist))\n",
    "        Desde = random.choice(PaginasPosibles)\n",
    "        blacklist.append(Desde)\n",
    "        Hasta = random.choice(PaginasPosibles)\n",
    "        imprimirAristaVersionInstanciasApuntadas(Carpeta, cantidadTotalDePaginas, cantidadTotalDeLinks,Desde,Hasta,CantidadImportantesApuntando)"
   ]
  },
  {
   "cell_type": "code",
   "execution_count": 85,
   "metadata": {},
   "outputs": [],
   "source": [
    "\n",
    "def imprimirAristaVersionInstanciasApuntadas(Carpeta, cantidadTotalDePaginas, cantidadTotalDeLinks,desde,hasta,cantidadApuntando):\n",
    "    with open(F\"instancias/\"+Carpeta+\"/\"+str(cantidadApuntando)+\"_apuntando_\"+str(cantidadTotalDePaginas)+\"_paginas_\"+str(cantidadTotalDeLinks)+\"_links.txt\", \"r+\") as f:\n",
    "        f.seek(0, 2)\n",
    "        f.write(str(desde)+\" \"+str(hasta)+\"\\n\")\n",
    "\n",
    "def imprimirEncabezadoInstanciasApuntadas(Carpeta, cantidadTotalDePaginas, cantidadTotalDeLinks,cantidadApuntando):\n",
    "    with open(F\"instancias/\"+Carpeta+\"/\"+str(cantidadApuntando)+\"_apuntando_\"+str(cantidadTotalDePaginas)+\"_paginas_\"+str(cantidadTotalDeLinks)+\"_links.txt\", \"w\") as f:\n",
    "        f.write(str(cantidadTotalDePaginas)+\"\\n\")\n",
    "        f.write(str(cantidadTotalDeLinks)+\"\\n\")"
   ]
  },
  {
   "cell_type": "markdown",
   "metadata": {},
   "source": [
    "### invoco la funcion"
   ]
  },
  {
   "cell_type": "code",
   "execution_count": 86,
   "metadata": {},
   "outputs": [],
   "source": [
    "Carpeta=\"3 Principales Apuntando a otra\"\n",
    "cantidadTotalDePaginas=10000\n",
    "cantidadTotalDeLinks=1000\n",
    "Cant1=500\n",
    "Cant2=200\n",
    "Cant3=100\n",
    "CantidadImportantesApuntando=3\n",
    "generarInstanciaPaginaApuntada(Carpeta,cantidadTotalDePaginas,cantidadTotalDeLinks,Cant1,Cant2,Cant3,CantidadImportantesApuntando)\n",
    "\n",
    "CantidadImportantesApuntando=2\n",
    "generarInstanciaPaginaApuntada(Carpeta,cantidadTotalDePaginas,cantidadTotalDeLinks,Cant1,Cant2,Cant3,CantidadImportantesApuntando)\n",
    "\n",
    "CantidadImportantesApuntando=1\n",
    "generarInstanciaPaginaApuntada(Carpeta,cantidadTotalDePaginas,cantidadTotalDeLinks,Cant1,Cant2,Cant3,CantidadImportantesApuntando)"
   ]
  },
  {
   "cell_type": "code",
   "execution_count": null,
   "metadata": {},
   "outputs": [],
   "source": []
  }
 ],
 "metadata": {
  "kernelspec": {
   "display_name": "Python 3",
   "language": "python",
   "name": "python3"
  },
  "language_info": {
   "codemirror_mode": {
    "name": "ipython",
    "version": 3
   },
   "file_extension": ".py",
   "mimetype": "text/x-python",
   "name": "python",
   "nbconvert_exporter": "python",
   "pygments_lexer": "ipython3",
   "version": "3.8.10"
  }
 },
 "nbformat": 4,
 "nbformat_minor": 4
}
