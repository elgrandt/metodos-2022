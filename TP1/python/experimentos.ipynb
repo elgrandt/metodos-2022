{
 "cells": [
  {
   "cell_type": "markdown",
   "metadata": {},
   "source": [
    "# Correr experimentos\n",
    "En este archivo está el código para correr los experimentos y escribir los resultados en archivos CSV.\n",
    "> Los archivos se guardan en la carpeta _resultados_."
   ]
  },
  {
   "cell_type": "code",
   "execution_count": 20,
   "metadata": {},
   "outputs": [],
   "source": [
    "import math, subprocess\n",
    "import numpy as np\n",
    "import pandas as pd\n",
    "import time\n",
    "import filecmp\n",
    "#from IPython.core.debugger import set_trace\n",
    "#set_trace()\n",
    "from os import listdir, getcwd\n",
    "from os.path import isfile, join\n",
    "import matplotlib.pyplot as plt"
   ]
  },
  {
   "cell_type": "markdown",
   "metadata": {},
   "source": [
    "La siguiente función sirve para correr el código sobre una instancia particular.\n",
    "- TA: Test aleatorio"
   ]
  },
  {
   "cell_type": "code",
   "execution_count": 2,
   "metadata": {},
   "outputs": [],
   "source": [
    "def correr_experimento(archivo_instancia, p):\n",
    "    start = time.time()\n",
    "    \n",
    "    # Crear proceso para ejecutar el codigo.\n",
    "    output_dir = join(getcwd(), 'resultados')\n",
    "    process = subprocess.Popen([\"../../src/tp1\", archivo_instancia, str(p)], cwd=output_dir)\n",
    "\n",
    "    # Correr experimento.\n",
    "    exit_code = process.wait()\n",
    "\n",
    "    # Verificar que el proceso no fallo.\n",
    "    if exit_code != 0: raise(Exception(F\"Hubo un error en la experimentacion para el algoritmo con la instancia {archivo_instancia}.\"))\n",
    "    \n",
    "    end = time.time()\n",
    "    return end-start;"
   ]
  },
  {
   "cell_type": "markdown",
   "metadata": {},
   "source": [
    "## Agregamos los experimentos\n",
    "el codigo de por si guarda el resultado de las ejecuciones en un txt."
   ]
  },
  {
   "cell_type": "markdown",
   "metadata": {},
   "source": [
    "### Experimento 1"
   ]
  },
  {
   "cell_type": "code",
   "execution_count": 14,
   "metadata": {},
   "outputs": [],
   "source": [
    "experimentos = [];\n",
    "#experimentos.append((\"../../tests/test_15_segundos.txt\", 0.9))\n",
    "#experimentos.append((\"../../tests/test_30_segundos.txt\", 0.8))\n",
    "#experimentos.append((\"../../tests/test_aleatorio_desordenado.txt\", 0.76))\n",
    "#experimentos.append((\"../../tests/test_completo.txt\", 0.5))\n",
    "#experimentos.append((\"../../tests/test_sin_links.txt\", 0.64))\n",
    "#experimentos.append((\"../../tests/test_trivial.txt\", 0.3))\n",
    "#######################################\n",
    "#experimentos.append((\"../instancias/3 Principales/1000_paginas_200_links_P_0.7.txt\", 0.7))\n",
    "#experimentos.append((\"../instancias/3 Principales/1000_paginas_400_links_P_0.7.txt\", 0.7))\n",
    "#experimentos.append((\"../instancias/3 Principales/1000_paginas_600_links_P_0.7.txt\", 0.7))\n",
    "#experimentos.append((\"../instancias/3 Principales/1000_paginas_800_links_P_0.7.txt\", 0.7))\n",
    "#experimentos.append((\"../instancias/3 Principales/1000_paginas_1000_links_P_0.7.txt\", 0.7))\n",
    "#######################################\n",
    "#experimentos.append((\"../instancias/3 Principales/1000_paginas_500_links_P_0.0.txt\", 0.0))\n",
    "#experimentos.append((\"../instancias/3 Principales/1000_paginas_500_links_P_0.2.txt\", 0.2))\n",
    "#experimentos.append((\"../instancias/3 Principales/1000_paginas_500_links_P_0.4.txt\", 0.4))\n",
    "#experimentos.append((\"../instancias/3 Principales/1000_paginas_500_links_P_0.6.txt\", 0.6))\n",
    "#experimentos.append((\"../instancias/3 Principales/1000_paginas_500_links_P_0.8.txt\", 0.8))\n",
    "#experimentos.append((\"../instancias/3 Principales/1000_paginas_500_links_P_1.txt\", 1.0))\n",
    "#######################################\n",
    "#experimentos.append((\"../instancias/3 Principales y Anillo/832_Inicio_1000_paginas_P_0.7.txt\", 0.7))\n",
    "#experimentos.append((\"../instancias/3 Principales y Anillo/899_Inicio_1000_paginas_P_0.7.txt\", 0.7))\n",
    "#experimentos.append((\"../instancias/3 Principales y Anillo/959_Inicio_1000_paginas_P_0.7.txt\", 0.7))\n",
    "#experimentos.append((\"../instancias/3 Principales y Anillo/994_Inicio_1000_paginas_P_0.7.txt\", 0.7))\n",
    "#######################################\n",
    "#experimentos.append((\"../instancias/3 Principales Apuntando a otra/1_apuntando_1000_paginas_500_links_P_0.7.txt\", 0.7))\n",
    "#experimentos.append((\"../instancias/3 Principales Apuntando a otra/2_apuntando_1000_paginas_500_links_P_0.7.txt\", 0.7))\n",
    "#experimentos.append((\"../instancias/3 Principales Apuntando a otra/3_apuntando_1000_paginas_500_links_P_0.7.txt\", 0.7))\n",
    "#######################################\n",
    "experimentos.append((\"../instancias/complejidad temporal/n_1Links_0\", 0.7))\n",
    "experimentos.append((\"../instancias/complejidad temporal/n_1Links_1\", 0.7))\n",
    "\n",
    "experimentos.append((\"../instancias/complejidad temporal/n_25Links_1\", 0.7))\n",
    "experimentos.append((\"../instancias/complejidad temporal/n_25Links_156\", 0.7))\n",
    "experimentos.append((\"../instancias/complejidad temporal/n_25Links_312\", 0.7))\n",
    "experimentos.append((\"../instancias/complejidad temporal/n_25Links_469\", 0.7))\n",
    "experimentos.append((\"../instancias/complejidad temporal/n_25Links_625\", 0.7))\n",
    "\n",
    "experimentos.append((\"../instancias/complejidad temporal/n_50Links_1\", 0.7))\n",
    "experimentos.append((\"../instancias/complejidad temporal/n_50Links_625\", 0.7))\n",
    "experimentos.append((\"../instancias/complejidad temporal/n_50Links_1250\", 0.7))\n",
    "experimentos.append((\"../instancias/complejidad temporal/n_50Links_1875\", 0.7))\n",
    "experimentos.append((\"../instancias/complejidad temporal/n_50Links_2500\", 0.7))\n",
    "\n",
    "experimentos.append((\"../instancias/complejidad temporal/n_75Links_1\", 0.7))\n",
    "experimentos.append((\"../instancias/complejidad temporal/n_75Links_1406\", 0.7))\n",
    "experimentos.append((\"../instancias/complejidad temporal/n_75Links_2812\", 0.7))\n",
    "experimentos.append((\"../instancias/complejidad temporal/n_75Links_4219\", 0.7))\n",
    "experimentos.append((\"../instancias/complejidad temporal/n_75Links_5625\", 0.7))\n",
    "\n",
    "experimentos.append((\"../instancias/complejidad temporal/n_100Links_1\", 0.7))\n",
    "experimentos.append((\"../instancias/complejidad temporal/n_100Links_2500\", 0.7))\n",
    "experimentos.append((\"../instancias/complejidad temporal/n_100Links_5000\", 0.7))\n",
    "experimentos.append((\"../instancias/complejidad temporal/n_100Links_7500\", 0.7))\n",
    "experimentos.append((\"../instancias/complejidad temporal/n_100Links_10000\", 0.7))\n"
   ]
  },
  {
   "cell_type": "markdown",
   "metadata": {},
   "source": [
    "## Ejecutar los experimentos.\n",
    "Este paso puede tardar unos minutos hasta terminar de ejecutarse."
   ]
  },
  {
   "cell_type": "code",
   "execution_count": 16,
   "metadata": {},
   "outputs": [
    {
     "name": "stdout",
     "output_type": "stream",
     "text": [
      "Corriendo experimento: 1/22 (../instancias/complejidad temporal/n_1Links_0)\n",
      "Corriendo experimento: 2/22 (../instancias/complejidad temporal/n_1Links_1)\n",
      "Corriendo experimento: 3/22 (../instancias/complejidad temporal/n_25Links_1)\n",
      "Corriendo experimento: 4/22 (../instancias/complejidad temporal/n_25Links_156)\n",
      "Corriendo experimento: 5/22 (../instancias/complejidad temporal/n_25Links_312)\n",
      "Corriendo experimento: 6/22 (../instancias/complejidad temporal/n_25Links_469)\n",
      "Corriendo experimento: 7/22 (../instancias/complejidad temporal/n_25Links_625)\n",
      "Corriendo experimento: 8/22 (../instancias/complejidad temporal/n_50Links_1)\n",
      "Corriendo experimento: 9/22 (../instancias/complejidad temporal/n_50Links_625)\n",
      "Corriendo experimento: 10/22 (../instancias/complejidad temporal/n_50Links_1250)\n",
      "Corriendo experimento: 11/22 (../instancias/complejidad temporal/n_50Links_1875)\n",
      "Corriendo experimento: 12/22 (../instancias/complejidad temporal/n_50Links_2500)\n",
      "Corriendo experimento: 13/22 (../instancias/complejidad temporal/n_75Links_1)\n",
      "Corriendo experimento: 14/22 (../instancias/complejidad temporal/n_75Links_1406)\n",
      "Corriendo experimento: 15/22 (../instancias/complejidad temporal/n_75Links_2812)\n",
      "Corriendo experimento: 16/22 (../instancias/complejidad temporal/n_75Links_4219)\n",
      "Corriendo experimento: 17/22 (../instancias/complejidad temporal/n_75Links_5625)\n",
      "Corriendo experimento: 18/22 (../instancias/complejidad temporal/n_100Links_1)\n",
      "Corriendo experimento: 19/22 (../instancias/complejidad temporal/n_100Links_2500)\n",
      "Corriendo experimento: 20/22 (../instancias/complejidad temporal/n_100Links_5000)\n",
      "Corriendo experimento: 21/22 (../instancias/complejidad temporal/n_100Links_7500)\n",
      "Corriendo experimento: 22/22 (../instancias/complejidad temporal/n_100Links_10000)\n"
     ]
    }
   ],
   "source": [
    "numero_de_experimento = 1\n",
    "numero_de_repeticiones = 1 # Aumentar para mayor precisión con los tiempos\n",
    "for (archivo, p) in experimentos:\n",
    "    \n",
    "    # Voy mostrando que experimento se esta ejecutando.\n",
    "    print('Corriendo experimento: %i/%i (%s)' % (numero_de_experimento, len(experimentos), archivo))\n",
    "    \n",
    "    tiempos = []\n",
    "    for repeticion in range(numero_de_repeticiones):\n",
    "        tiempo_de_ejecucion = correr_experimento(archivo, p);\n",
    "        tiempos.append(tiempo_de_ejecucion)\n",
    "    \n",
    "    #print('Estadísticas de los tiempos de ejecución:')\n",
    "    #print(pd.Series(tiempos).describe())\n",
    "    \n",
    "    numero_de_experimento += 1"
   ]
  },
  {
   "cell_type": "markdown",
   "metadata": {},
   "source": [
    "## Comparamos resultados\n",
    "Comparamos la carpeta \"resultados\" con la carpeta \"resultados esperados\"."
   ]
  },
  {
   "cell_type": "code",
   "execution_count": null,
   "metadata": {},
   "outputs": [],
   "source": [
    "resultados = [f for f in listdir(\"resultados\") if isfile(join(\"resultados\", f))]\n",
    "esperados = [f for f in listdir(\"resultados_esperados\") if isfile(join(\"resultados_esperados\", f))]\n",
    "common_elements = list(set(resultados).intersection(set(esperados)))\n",
    "for name in common_elements:\n",
    "    print(\">>>>>> Comparado el archivo %s\" % (name))\n",
    "    resultado = open(join(\"resultados\", name))\n",
    "    esperado = open(join(\"resultados_esperados\", name))\n",
    "    lineas_resultado = resultado.readlines()\n",
    "    lineas_esperado = esperado.readlines()\n",
    "    if len(lineas_resultado) != len(lineas_esperado):\n",
    "        print(\"No contienen la misma cantidad de lineas.\")\n",
    "        continue\n",
    "    if len(lineas_resultado) == 0:\n",
    "        print(\"Los archivos están vacíos.\")\n",
    "        continue\n",
    "    if lineas_resultado[0] != lineas_esperado[0]:\n",
    "        print(\"Los P utilizados son distintos por lo que no tiene sentido comparar.\")\n",
    "        continue\n",
    "    diferencias = []\n",
    "    for i in range(len(lineas_resultado)):\n",
    "        if abs(float(lineas_resultado[i]) - float(lineas_esperado[i])) > 10e-4:\n",
    "            print(\"En la linea %i el valor %s del resultado es distinto al valor %s del esperado.\" % (i, lineas_resultado[i], lineas_esperado[i]))\n",
    "        diferencias.append(abs(float(lineas_resultado[i]) - float(lineas_esperado[i])))\n",
    "    print(\"Estadísticas de las diferencias:\")\n",
    "    print(pd.Series(diferencias).describe())\n",
    "print(\">>>>>> Terminado de comparar todos los archivos\")"
   ]
  },
  {
   "cell_type": "code",
   "execution_count": 20,
   "metadata": {},
   "outputs": [],
   "source": [
    "experimentos = [];"
   ]
  },
  {
   "cell_type": "code",
   "execution_count": 22,
   "metadata": {},
   "outputs": [],
   "source": [
    "def sumar_arrays(ar1, ar2):\n",
    "    return [ar1[i]+ar2[i] for i in range(len(ar1))]"
   ]
  },
  {
   "cell_type": "code",
   "execution_count": 35,
   "metadata": {},
   "outputs": [
    {
     "data": {
      "image/png": "[encoded data removed]",
      "text/plain": [
       "<Figure size 432x288 with 1 Axes>"
      ]
     },
     "metadata": {
      "needs_background": "light"
     },
     "output_type": "display_data"
    }
   ],
   "source": [
    "# Grafico de cajas puntaje en función de P de links para las tres páginas principales y la suma del resto\n",
    "archivos_links = [\n",
    "    (\"./resultados/1000_paginas_200_links_P_0.7.txt.out\", 200),\n",
    "    (\"./resultados/1000_paginas_400_links_P_0.7.txt.out\", 400),\n",
    "    (\"./resultados/1000_paginas_600_links_P_0.7.txt.out\", 600),\n",
    "    (\"./resultados/1000_paginas_800_links_P_0.7.txt.out\", 800),\n",
    "    (\"./resultados/1000_paginas_1000_links_P_0.7.txt.out\", 1000),\n",
    "]\n",
    "\n",
    "links = [200, 400, 600, 800, 1000]\n",
    "pagina1 = []\n",
    "pagina2 = []\n",
    "pagina3 = []\n",
    "resto = []\n",
    "\n",
    "for (nombre_archivo, nro_links) in archivos_links:\n",
    "    archivo = open(nombre_archivo)\n",
    "    lineas = archivo.readlines()\n",
    "    p = lineas[0]\n",
    "    resultado = [float(linea) for linea in lineas[1:]]\n",
    "    pagina1.append(resultado[0])\n",
    "    pagina2.append(resultado[1])\n",
    "    pagina3.append(resultado[2])\n",
    "    resto.append(sum(resultado[3:]))\n",
    "\n",
    "# plt.plot(links, pagina1, label=\"Página 1\")\n",
    "# plt.plot(links, pagina2, label=\"Página 2\")\n",
    "# plt.plot(links, pagina3, label=\"Página 3\")\n",
    "# plt.plot(links, resto.values(), label=\"Suma del resto\")\n",
    "plt.bar(links, pagina1, width=100, label=\"Página 1\")\n",
    "plt.bar(links, pagina2, width=100, bottom=pagina1, label=\"Página 2\")\n",
    "plt.bar(links, pagina3, width=100, bottom=sumar_arrays(pagina1, pagina2), label=\"Página 3\")\n",
    "plt.bar(links, resto, width=100, bottom=sumar_arrays(pagina1, sumar_arrays(pagina2, pagina3)), label=\"Suma del resto\")\n",
    "plt.xlabel(\"Número de links\")\n",
    "plt.ylabel(\"Puntaje\")\n",
    "plt.title(\"Puntaje en función de los links\")\n",
    "plt.legend()\n",
    "plt.savefig('./graficos/puntaje_funcion_links.png')\n",
    "plt.show()\n",
    "plt.close()"
   ]
  },
  {
   "cell_type": "code",
   "execution_count": 36,
   "metadata": {},
   "outputs": [
    {
     "data": {
      "text/plain": [
       "<Figure size 432x288 with 0 Axes>"
      ]
     },
     "metadata": {},
     "output_type": "display_data"
    }
   ],
   "source": [
    "plt.clf()"
   ]
  },
  {
   "cell_type": "code",
   "execution_count": 37,
   "metadata": {},
   "outputs": [
    {
     "data": {
      "image/png": "[encoded data removed]",
      "text/plain": [
       "<Figure size 432x288 with 1 Axes>"
      ]
     },
     "metadata": {
      "needs_background": "light"
     },
     "output_type": "display_data"
    }
   ],
   "source": [
    "# Grafico de cajas puntaje en función de P para las tres páginas principales y la suma del resto\n",
    "archivos_links = [\n",
    "    (\"./resultados/1000_paginas_500_links_P_0.0.txt.out\", 500),\n",
    "    (\"./resultados/1000_paginas_500_links_P_0.2.txt.out\", 500),\n",
    "    (\"./resultados/1000_paginas_500_links_P_0.4.txt.out\", 500),\n",
    "    (\"./resultados/1000_paginas_500_links_P_0.6.txt.out\", 500),\n",
    "    (\"./resultados/1000_paginas_500_links_P_0.8.txt.out\", 500),\n",
    "    (\"./resultados/1000_paginas_500_links_P_1.txt.out\", 500),\n",
    "]\n",
    "\n",
    "Valores_de_P = [0, 0.2, 0.4, 0.6, 0.8, 1]\n",
    "pagina1 = []\n",
    "pagina2 = []\n",
    "pagina3 = []\n",
    "resto = []\n",
    "\n",
    "for (nombre_archivo, ValorP) in archivos_links:\n",
    "    archivo = open(nombre_archivo)\n",
    "    lineas = archivo.readlines()\n",
    "    p = lineas[0]\n",
    "    resultado = [float(linea) for linea in lineas[1:]]\n",
    "    pagina1.append(resultado[0])\n",
    "    pagina2.append(resultado[1])\n",
    "    pagina3.append(resultado[2])\n",
    "    resto.append(sum(resultado[3:]))\n",
    "\n",
    "# plt.plot(links, pagina1, label=\"Página 1\")\n",
    "# plt.plot(links, pagina2, label=\"Página 2\")\n",
    "# plt.plot(links, pagina3, label=\"Página 3\")\n",
    "# plt.plot(links, resto.values(), label=\"Suma del resto\")\n",
    "plt.bar(Valores_de_P, pagina1, width=0.15, label=\"Página 1\")\n",
    "plt.bar(Valores_de_P, pagina2, width=0.15, bottom=pagina1, label=\"Página 2\")\n",
    "plt.bar(Valores_de_P, pagina3, width=0.15, bottom=sumar_arrays(pagina1, pagina2), label=\"Página 3\")\n",
    "plt.bar(Valores_de_P, resto, width=0.15, bottom=sumar_arrays(pagina1, sumar_arrays(pagina2, pagina3)), label=\"Suma del resto\")\n",
    "plt.xlabel(\"Valores de P\")\n",
    "plt.ylabel(\"Puntaje\")\n",
    "plt.title(\"Puntaje en función de los distintos P\")\n",
    "plt.legend()\n",
    "plt.savefig('./graficos/puntaje_Variado_P.png')\n",
    "plt.show()\n",
    "plt.close()"
   ]
  },
  {
   "cell_type": "code",
   "execution_count": 45,
   "metadata": {},
   "outputs": [
    {
     "data": {
      "image/png": "[encoded data removed]",
      "text/plain": [
       "<Figure size 432x288 with 1 Axes>"
      ]
     },
     "metadata": {
      "needs_background": "light"
     },
     "output_type": "display_data"
    }
   ],
   "source": [
    "# Grafico de linea puntaje en función de tamaño del anillo para las tres páginas principales y la central\n",
    "archivos_links = [\n",
    "    (\"./resultados/994_Inicio_1000_paginas_P_0.7.txt.out\", 500),\n",
    "    (\"./resultados/959_Inicio_1000_paginas_P_0.7.txt.out\", 500),\n",
    "    (\"./resultados/899_Inicio_1000_paginas_P_0.7.txt.out\", 500),\n",
    "    (\"./resultados/832_Inicio_1000_paginas_P_0.7.txt.out\", 500),\n",
    "]\n",
    "\n",
    "tamañoAnillo = [5, 40, 100, 160]\n",
    "pagina1 = []\n",
    "pagina2 = []\n",
    "pagina3 = []\n",
    "central = []\n",
    "\n",
    "for (nombre_archivo, links) in archivos_links:\n",
    "    archivo = open(nombre_archivo)\n",
    "    lineas = archivo.readlines()\n",
    "    p = lineas[0]\n",
    "    resultado = [float(linea) for linea in lineas[1:]]\n",
    "    pagina1.append(resultado[0])\n",
    "    pagina2.append(resultado[1])\n",
    "    pagina3.append(resultado[2])\n",
    "    central.append(resultado[-1])\n",
    "\n",
    "plt.plot(tamañoAnillo, pagina1, label=\"Página 1\")\n",
    "plt.plot(tamañoAnillo, pagina2, label=\"Página 2\")\n",
    "plt.plot(tamañoAnillo, pagina3, label=\"Página 3\")\n",
    "plt.plot(tamañoAnillo, central, label=\"Página central del anillo\")\n",
    "# plt.bar(Valores_de_P, pagina1, width=0.15, label=\"Página 1\")\n",
    "# plt.bar(Valores_de_P, pagina2, width=0.15, bottom=pagina1, label=\"Página 2\")\n",
    "# plt.bar(Valores_de_P, pagina3, width=0.15, bottom=sumar_arrays(pagina1, pagina2), label=\"Página 3\")\n",
    "# plt.bar(Valores_de_P, resto, width=0.15, bottom=sumar_arrays(pagina1, sumar_arrays(pagina2, pagina3)), label=\"Suma del resto\")\n",
    "plt.xlabel(\"Tamaño del anillo\")\n",
    "plt.ylabel(\"Puntaje\")\n",
    "plt.title(\"Puntaje en función del tamaño del anillo\")\n",
    "plt.legend()\n",
    "plt.savefig('./graficos/puntaje_Variado_Anillo.png')\n",
    "plt.show()\n",
    "plt.close()"
   ]
  },
  {
   "cell_type": "code",
   "execution_count": 64,
   "metadata": {},
   "outputs": [
    {
     "data": {
      "image/png": "[encoded data removed]",
      "text/plain": [
       "<Figure size 432x288 with 1 Axes>"
      ]
     },
     "metadata": {
      "needs_background": "light"
     },
     "output_type": "display_data"
    }
   ],
   "source": [
    "# Grafico de cajas puntaje en función de P para las tres páginas principales y la suma del resto\n",
    "archivos_links = [\n",
    "    (\"./resultados/1_apuntando_1000_paginas_500_links_P_0.7.txt.out\", 500),\n",
    "]\n",
    "\n",
    "paginas = [1, 2, 3, 4]\n",
    "pagina1 = []\n",
    "pagina2 = []\n",
    "pagina3 = []\n",
    "pagina4 = []\n",
    "\n",
    "archivo = open(archivos_links[0][0])\n",
    "lineas = archivo.readlines()\n",
    "p = lineas[0]\n",
    "resultado = [float(linea) for linea in lineas[1:]]\n",
    "pagina1=(resultado[0])\n",
    "pagina2=(resultado[1])\n",
    "pagina3=(resultado[2])\n",
    "pagina4=(resultado[3])\n",
    "\n",
    "plt.bar(paginas, [pagina1,pagina2,pagina3,pagina4], width=0.4,  color=['blue', 'maroon', 'green', 'cyan'],label=\"Página 1\")\n",
    "plt.xticks([item for item in range (1 ,5)])\n",
    "\n",
    "plt.xlabel(\"Página\")\n",
    "plt.ylabel(\"Puntaje\")\n",
    "plt.title(\"Puntajes cuando página 1 apunta a la 4\")\n",
    "plt.legend()\n",
    "plt.savefig('./graficos/puntaje_1_apunta_A_4.png')\n",
    "plt.show()\n",
    "plt.close()"
   ]
  },
  {
   "cell_type": "code",
   "execution_count": 65,
   "metadata": {},
   "outputs": [
    {
     "data": {
      "image/png": "[encoded data removed]",
      "text/plain": [
       "<Figure size 432x288 with 1 Axes>"
      ]
     },
     "metadata": {
      "needs_background": "light"
     },
     "output_type": "display_data"
    }
   ],
   "source": [
    "# Grafico de cajas puntaje en función de P para las tres páginas principales y la suma del resto\n",
    "archivos_links = [\n",
    "    (\"./resultados/2_apuntando_1000_paginas_500_links_P_0.7.txt.out\", 500),\n",
    "]\n",
    "\n",
    "paginas = [1, 2, 3, 4]\n",
    "pagina1 = []\n",
    "pagina2 = []\n",
    "pagina3 = []\n",
    "pagina4 = []\n",
    "\n",
    "archivo = open(archivos_links[0][0])\n",
    "lineas = archivo.readlines()\n",
    "p = lineas[0]\n",
    "resultado = [float(linea) for linea in lineas[1:]]\n",
    "pagina1=(resultado[0])\n",
    "pagina2=(resultado[1])\n",
    "pagina3=(resultado[2])\n",
    "pagina4=(resultado[3])\n",
    "\n",
    "plt.bar(paginas, [pagina1,pagina2,pagina3,pagina4], width=0.4,  color=['blue', 'maroon', 'green', 'cyan'],label=\"Página 1\")\n",
    "plt.xticks([item for item in range (1 ,5)])\n",
    "\n",
    "plt.xlabel(\"Página\")\n",
    "plt.ylabel(\"Puntaje\")\n",
    "plt.title(\"Puntajes cuando página 1 y 2 apuntan a la 4\")\n",
    "plt.legend()\n",
    "plt.savefig('./graficos/puntaje_1y2_apunta_A_4.png')\n",
    "plt.show()\n",
    "plt.close()"
   ]
  },
  {
   "cell_type": "code",
   "execution_count": 66,
   "metadata": {},
   "outputs": [
    {
     "data": {
      "image/png": "[encoded data removed]",
      "text/plain": [
       "<Figure size 432x288 with 1 Axes>"
      ]
     },
     "metadata": {
      "needs_background": "light"
     },
     "output_type": "display_data"
    }
   ],
   "source": [
    "# Grafico de cajas puntaje en función de P para las tres páginas principales y la suma del resto\n",
    "archivos_links = [\n",
    "    (\"./resultados/3_apuntando_1000_paginas_500_links_P_0.7.txt.out\", 500),\n",
    "]\n",
    "\n",
    "paginas = [1, 2, 3, 4]\n",
    "pagina1 = []\n",
    "pagina2 = []\n",
    "pagina3 = []\n",
    "pagina4 = []\n",
    "\n",
    "archivo = open(archivos_links[0][0])\n",
    "lineas = archivo.readlines()\n",
    "p = lineas[0]\n",
    "resultado = [float(linea) for linea in lineas[1:]]\n",
    "pagina1=(resultado[0])\n",
    "pagina2=(resultado[1])\n",
    "pagina3=(resultado[2])\n",
    "pagina4=(resultado[3])\n",
    "\n",
    "plt.bar(paginas, [pagina1,pagina2,pagina3,pagina4], width=0.4,  color=['blue', 'maroon', 'green', 'cyan'],label=\"Página 1\")\n",
    "plt.xticks([item for item in range (1 ,5)])\n",
    "\n",
    "plt.xlabel(\"Página\")\n",
    "plt.ylabel(\"Puntaje\")\n",
    "plt.title(\"Puntajes cuando página 1, 2 y 3 apuntan a la 4\")\n",
    "plt.legend()\n",
    "plt.savefig('./graficos/puntaje_123_apunta_A_4.png')\n",
    "plt.show()\n",
    "plt.close()"
   ]
  },
  {
   "cell_type": "code",
   "execution_count": 20,
   "metadata": {},
   "outputs": [
    {
     "ename": "IsADirectoryError",
     "evalue": "[Errno 21] Is a directory: '.'",
     "output_type": "error",
     "traceback": [
      "\u001b[0;31m---------------------------------------------------------------------------\u001b[0m",
      "\u001b[0;31mIsADirectoryError\u001b[0m                         Traceback (most recent call last)",
      "\u001b[0;32m<ipython-input-20-385061a40ee9>\u001b[0m in \u001b[0;36m<module>\u001b[0;34m\u001b[0m\n\u001b[1;32m     16\u001b[0m \u001b[0mpagina4\u001b[0m \u001b[0;34m=\u001b[0m \u001b[0;34m[\u001b[0m\u001b[0;34m]\u001b[0m\u001b[0;34m\u001b[0m\u001b[0;34m\u001b[0m\u001b[0m\n\u001b[1;32m     17\u001b[0m \u001b[0;34m\u001b[0m\u001b[0m\n\u001b[0;32m---> 18\u001b[0;31m \u001b[0marchivo\u001b[0m \u001b[0;34m=\u001b[0m \u001b[0mopen\u001b[0m\u001b[0;34m(\u001b[0m\u001b[0marchivos_links\u001b[0m\u001b[0;34m[\u001b[0m\u001b[0;36m0\u001b[0m\u001b[0;34m]\u001b[0m\u001b[0;34m[\u001b[0m\u001b[0;36m0\u001b[0m\u001b[0;34m]\u001b[0m\u001b[0;34m)\u001b[0m\u001b[0;34m\u001b[0m\u001b[0;34m\u001b[0m\u001b[0m\n\u001b[0m\u001b[1;32m     19\u001b[0m \u001b[0mlineas\u001b[0m \u001b[0;34m=\u001b[0m \u001b[0marchivo\u001b[0m\u001b[0;34m.\u001b[0m\u001b[0mreadlines\u001b[0m\u001b[0;34m(\u001b[0m\u001b[0;34m)\u001b[0m\u001b[0;34m\u001b[0m\u001b[0;34m\u001b[0m\u001b[0m\n\u001b[1;32m     20\u001b[0m \u001b[0mp\u001b[0m \u001b[0;34m=\u001b[0m \u001b[0mlineas\u001b[0m\u001b[0;34m[\u001b[0m\u001b[0;36m0\u001b[0m\u001b[0;34m]\u001b[0m\u001b[0;34m\u001b[0m\u001b[0;34m\u001b[0m\u001b[0m\n",
      "\u001b[0;31mIsADirectoryError\u001b[0m: [Errno 21] Is a directory: '.'"
     ]
    }
   ],
   "source": [
    "# Grafico de cajas puntaje en función de P para las tres páginas principales y la suma del resto\n",
    "archivos_links = [\n",
    "    (\"./resultados/n_1Links_0.out\"),\n",
    "    (\"./resultados/n_1Links_1.out\"),\n",
    "    (\"./resultados/n_25Links_1.out\"),\n",
    "    (\"./resultados/n_25Links_156.out\"),\n",
    "    (\"./resultados/n_25Links_312.out\"),\n",
    "    (\"./resultados/n_25Links_469.out\"),\n",
    "    (\"./resultados/n_25Links_625.out\"),\n",
    "    (\"./resultados/n_50Links_1.out\"),\n",
    "    (\"./resultados/n_50Links_625.out\"),\n",
    "    (\"./resultados/n_50Links_1250.out\"),\n",
    "    (\"./resultados/n_50Links_1875.out\"),\n",
    "    (\"./resultados/n_50Links_2500.out\"),\n",
    "    (\"./resultados/n_75Links_1.out\"),\n",
    "    (\"./resultados/n_75Links_1406.out\"),\n",
    "    (\"./resultados/n_75Links_2812.out\"),\n",
    "    (\"./resultados/n_75Links_4219.out\"),\n",
    "    (\"./resultados/n_75Links_5625.out\"),\n",
    "    (\"./resultados/n_100Links_1.out\"),\n",
    "    (\"./resultados/n_100Links_2500.out\"),\n",
    "    (\"./resultados/n_100Links_5000.out\"),\n",
    "    (\"./resultados/n_100Links_7500.out\"),\n",
    "    (\"./resultados/n_100Links_10000.out\"),\n",
    "]"
   ]
  },
  {
   "cell_type": "code",
   "execution_count": 12,
   "metadata": {},
   "outputs": [],
   "source": [
    "experimentos=[]\n",
    "#experimentos.append((\"../instancias/complejidad temporal/n_1Links_0\", 0.7))\n",
    "#experimentos.append((\"../instancias/complejidad temporal/n_1Links_1\", 0.7))\n",
    "\n",
    "experimentos.append((\"../instancias/complejidad temporal/n_25Links_1\", 0.7))\n",
    "experimentos.append((\"../instancias/complejidad temporal/n_25Links_156\", 0.7))\n",
    "experimentos.append((\"../instancias/complejidad temporal/n_25Links_312\", 0.7))\n",
    "experimentos.append((\"../instancias/complejidad temporal/n_25Links_469\", 0.7))\n",
    "experimentos.append((\"../instancias/complejidad temporal/n_25Links_625\", 0.7))\n",
    "\n",
    "experimentos.append((\"../instancias/complejidad temporal/n_50Links_1\", 0.7))\n",
    "experimentos.append((\"../instancias/complejidad temporal/n_50Links_625\", 0.7))\n",
    "experimentos.append((\"../instancias/complejidad temporal/n_50Links_1250\", 0.7))\n",
    "experimentos.append((\"../instancias/complejidad temporal/n_50Links_1875\", 0.7))\n",
    "experimentos.append((\"../instancias/complejidad temporal/n_50Links_2500\", 0.7))\n",
    "\n",
    "experimentos.append((\"../instancias/complejidad temporal/n_75Links_1\", 0.7))\n",
    "experimentos.append((\"../instancias/complejidad temporal/n_75Links_1406\", 0.7))\n",
    "experimentos.append((\"../instancias/complejidad temporal/n_75Links_2812\", 0.7))\n",
    "experimentos.append((\"../instancias/complejidad temporal/n_75Links_4219\", 0.7))\n",
    "experimentos.append((\"../instancias/complejidad temporal/n_75Links_5625\", 0.7))\n",
    "\n",
    "experimentos.append((\"../instancias/complejidad temporal/n_100Links_1\", 0.7))\n",
    "experimentos.append((\"../instancias/complejidad temporal/n_100Links_2500\", 0.7))\n",
    "experimentos.append((\"../instancias/complejidad temporal/n_100Links_5000\", 0.7))\n",
    "experimentos.append((\"../instancias/complejidad temporal/n_100Links_7500\", 0.7))\n",
    "experimentos.append((\"../instancias/complejidad temporal/n_100Links_10000\", 0.7))\n"
   ]
  },
  {
   "cell_type": "code",
   "execution_count": 35,
   "metadata": {},
   "outputs": [
    {
     "name": "stdout",
     "output_type": "stream",
     "text": [
      "Corriendo experimento: 1/20 (../instancias/complejidad temporal/n_25Links_1)\n",
      "count    6.000000\n",
      "mean     0.007794\n",
      "std      0.001633\n",
      "min      0.005726\n",
      "25%      0.006853\n",
      "50%      0.007476\n",
      "75%      0.008825\n",
      "max      0.010164\n",
      "dtype: float64\n",
      "Corriendo experimento: 2/20 (../instancias/complejidad temporal/n_25Links_156)\n",
      "count    6.000000\n",
      "mean     0.010765\n",
      "std      0.001579\n",
      "min      0.008160\n",
      "25%      0.010361\n",
      "50%      0.011015\n",
      "75%      0.011202\n",
      "max      0.012993\n",
      "dtype: float64\n",
      "Corriendo experimento: 3/20 (../instancias/complejidad temporal/n_25Links_312)\n",
      "count    6.000000\n",
      "mean     0.017032\n",
      "std      0.003293\n",
      "min      0.012894\n",
      "25%      0.014426\n",
      "50%      0.017283\n",
      "75%      0.019763\n",
      "max      0.020671\n",
      "dtype: float64\n",
      "Corriendo experimento: 4/20 (../instancias/complejidad temporal/n_25Links_469)\n",
      "count    6.000000\n",
      "mean     0.020200\n",
      "std      0.002059\n",
      "min      0.018209\n",
      "25%      0.018529\n",
      "50%      0.019833\n",
      "75%      0.021270\n",
      "max      0.023484\n",
      "dtype: float64\n",
      "Corriendo experimento: 5/20 (../instancias/complejidad temporal/n_25Links_625)\n",
      "count    6.000000\n",
      "mean     0.023190\n",
      "std      0.004130\n",
      "min      0.018019\n",
      "25%      0.019712\n",
      "50%      0.023856\n",
      "75%      0.026434\n",
      "max      0.027783\n",
      "dtype: float64\n",
      "Corriendo experimento: 6/20 (../instancias/complejidad temporal/n_50Links_1)\n",
      "count    6.000000\n",
      "mean     0.007518\n",
      "std      0.000547\n",
      "min      0.006882\n",
      "25%      0.007088\n",
      "50%      0.007484\n",
      "75%      0.007937\n",
      "max      0.008216\n",
      "dtype: float64\n",
      "Corriendo experimento: 7/20 (../instancias/complejidad temporal/n_50Links_625)\n",
      "count    6.000000\n",
      "mean     0.023607\n",
      "std      0.004192\n",
      "min      0.018461\n",
      "25%      0.019901\n",
      "50%      0.024913\n",
      "75%      0.026299\n",
      "max      0.028361\n",
      "dtype: float64\n",
      "Corriendo experimento: 8/20 (../instancias/complejidad temporal/n_50Links_1250)\n",
      "count    6.000000\n",
      "mean     0.061287\n",
      "std      0.006554\n",
      "min      0.055512\n",
      "25%      0.056402\n",
      "50%      0.058532\n",
      "75%      0.066337\n",
      "max      0.070515\n",
      "dtype: float64\n",
      "Corriendo experimento: 9/20 (../instancias/complejidad temporal/n_50Links_1875)\n",
      "count    6.000000\n",
      "mean     0.111223\n",
      "std      0.002970\n",
      "min      0.106457\n",
      "25%      0.110665\n",
      "50%      0.111012\n",
      "75%      0.112333\n",
      "max      0.115533\n",
      "dtype: float64\n",
      "Corriendo experimento: 10/20 (../instancias/complejidad temporal/n_50Links_2500)\n",
      "count    6.000000\n",
      "mean     0.165965\n",
      "std      0.006368\n",
      "min      0.155894\n",
      "25%      0.164836\n",
      "50%      0.165438\n",
      "75%      0.167995\n",
      "max      0.175535\n",
      "dtype: float64\n",
      "Corriendo experimento: 11/20 (../instancias/complejidad temporal/n_75Links_1)\n",
      "count    6.000000\n",
      "mean     0.008980\n",
      "std      0.002496\n",
      "min      0.006410\n",
      "25%      0.007142\n",
      "50%      0.008435\n",
      "75%      0.010296\n",
      "max      0.012973\n",
      "dtype: float64\n",
      "Corriendo experimento: 12/20 (../instancias/complejidad temporal/n_75Links_1406)\n",
      "count    6.000000\n",
      "mean     0.067846\n",
      "std      0.003791\n",
      "min      0.063887\n",
      "25%      0.064631\n",
      "50%      0.067429\n",
      "75%      0.070493\n",
      "max      0.073121\n",
      "dtype: float64\n",
      "Corriendo experimento: 13/20 (../instancias/complejidad temporal/n_75Links_2812)\n",
      "count    6.000000\n",
      "mean     0.236273\n",
      "std      0.007465\n",
      "min      0.228253\n",
      "25%      0.230228\n",
      "50%      0.235060\n",
      "75%      0.242200\n",
      "max      0.246066\n",
      "dtype: float64\n",
      "Corriendo experimento: 14/20 (../instancias/complejidad temporal/n_75Links_4219)\n",
      "count    6.000000\n",
      "mean     0.489722\n",
      "std      0.011543\n",
      "min      0.477228\n",
      "25%      0.480052\n",
      "50%      0.489901\n",
      "75%      0.499089\n",
      "max      0.502379\n",
      "dtype: float64\n",
      "Corriendo experimento: 15/20 (../instancias/complejidad temporal/n_75Links_5625)\n",
      "count    6.000000\n",
      "mean     0.753520\n",
      "std      0.017003\n",
      "min      0.729091\n",
      "25%      0.742163\n",
      "50%      0.755817\n",
      "75%      0.767985\n",
      "max      0.770743\n",
      "dtype: float64\n",
      "Corriendo experimento: 16/20 (../instancias/complejidad temporal/n_100Links_1)\n",
      "count    6.000000\n",
      "mean     0.009196\n",
      "std      0.002017\n",
      "min      0.007252\n",
      "25%      0.007615\n",
      "50%      0.008555\n",
      "75%      0.011060\n",
      "max      0.011617\n",
      "dtype: float64\n",
      "Corriendo experimento: 17/20 (../instancias/complejidad temporal/n_100Links_2500)\n",
      "count    6.000000\n",
      "mean     0.169409\n",
      "std      0.007811\n",
      "min      0.158856\n",
      "25%      0.164893\n",
      "50%      0.169375\n",
      "75%      0.173239\n",
      "max      0.180924\n",
      "dtype: float64\n",
      "Corriendo experimento: 18/20 (../instancias/complejidad temporal/n_100Links_5000)\n",
      "count    6.000000\n",
      "mean     0.699854\n",
      "std      0.020362\n",
      "min      0.681041\n",
      "25%      0.684701\n",
      "50%      0.693686\n",
      "75%      0.710212\n",
      "max      0.733283\n",
      "dtype: float64\n",
      "Corriendo experimento: 19/20 (../instancias/complejidad temporal/n_100Links_7500)\n",
      "count    6.000000\n",
      "mean     1.381642\n",
      "std      0.030450\n",
      "min      1.347675\n",
      "25%      1.360143\n",
      "50%      1.380569\n",
      "75%      1.391753\n",
      "max      1.432223\n",
      "dtype: float64\n",
      "Corriendo experimento: 20/20 (../instancias/complejidad temporal/n_100Links_10000)\n",
      "count    6.000000\n",
      "mean     2.048630\n",
      "std      0.025883\n",
      "min      2.027245\n",
      "25%      2.028040\n",
      "50%      2.042985\n",
      "75%      2.057756\n",
      "max      2.092829\n",
      "dtype: float64\n"
     ]
    }
   ],
   "source": [
    "numero_de_experimento = 1\n",
    "numero_de_repeticiones = 5 # Aumentar para mayor precisión con los tiempos\n",
    "\n",
    "\n",
    "tiemposTotales=[[0]*5]\n",
    "tiemposTotalesAct=[]\n",
    "for (archivo, p) in experimentos:\n",
    "    tiempos = []\n",
    "    \n",
    "    # Voy mostrando que experimento se esta ejecutando.\n",
    "    print('Corriendo experimento: %i/%i (%s)' % (numero_de_experimento, len(experimentos), archivo))\n",
    "\n",
    "    for repeticion in range(numero_de_repeticiones+1):\n",
    "        tiempo_de_ejecucion = correr_experimento(archivo, p);\n",
    "        tiempos.append(tiempo_de_ejecucion)\n",
    "\n",
    "    #print('Estadísticas de los tiempos de ejecución:')\n",
    "    print(pd.Series(tiempos).describe())\n",
    "    tiemposTotalesAct.append(pd.Series(tiempos).mean())\n",
    "    numero_de_experimento=numero_de_experimento+1\n",
    "    if(numero_de_experimento % 5 == 0):\n",
    "        tiemposTotales.append([0]+tiemposTotalesAct)\n",
    "        tiemposTotalesAct=[]"
   ]
  },
  {
   "cell_type": "code",
   "execution_count": 54,
   "metadata": {},
   "outputs": [
    {
     "name": "stdout",
     "output_type": "stream",
     "text": [
      "[[0, 0, 0, 0, 0], [0, 0.007793625195821126, 0.010764877001444498, 0.017032464345296223, 0.020200292269388836], [0, 0.023189703623453777, 0.007518410682678223, 0.02360665798187256, 0.06128708521525065, 0.11122266451517741], [0, 0.16596452395121256, 0.0089797576268514, 0.06784633795420329, 0.23627305030822754, 0.4897215763727824], [0, 0.7535201708475748, 0.009196043014526367, 0.16940927505493164, 0.6998540163040161, 1.3816420237223308]]\n"
     ]
    }
   ],
   "source": [
    "print(tiemposTotales)"
   ]
  },
  {
   "cell_type": "code",
   "execution_count": 64,
   "metadata": {},
   "outputs": [
    {
     "name": "stdout",
     "output_type": "stream",
     "text": [
      "[[0.         0.         0.         0.         0.        ]\n",
      " [0.         0.00779363 0.01076488 0.01703246 0.02020029]\n",
      " [0.         0.0231897  0.00751841 0.02360666 0.06128709]\n",
      " [0.11122266 0.         0.16596452 0.00897976 0.06784634]\n",
      " [0.23627305 0.48972158 0.         0.75352017 0.00919604]]\n"
     ]
    },
    {
     "ename": "TypeError",
     "evalue": "ufunc 'isnan' not supported for the input types, and the inputs could not be safely coerced to any supported types according to the casting rule ''safe''",
     "output_type": "error",
     "traceback": [
      "\u001b[0;31m---------------------------------------------------------------------------\u001b[0m",
      "\u001b[0;31mTypeError\u001b[0m                                 Traceback (most recent call last)",
      "\u001b[0;32m<ipython-input-64-121f2e6b57cd>\u001b[0m in \u001b[0;36m<module>\u001b[0;34m\u001b[0m\n\u001b[1;32m      4\u001b[0m \u001b[0mZ\u001b[0m\u001b[0;34m=\u001b[0m\u001b[0mnp\u001b[0m\u001b[0;34m.\u001b[0m\u001b[0mresize\u001b[0m\u001b[0;34m(\u001b[0m\u001b[0mnp\u001b[0m\u001b[0;34m.\u001b[0m\u001b[0mconcatenate\u001b[0m\u001b[0;34m(\u001b[0m\u001b[0mtiemposTotales\u001b[0m\u001b[0;34m)\u001b[0m\u001b[0;34m,\u001b[0m\u001b[0;34m(\u001b[0m\u001b[0;36m5\u001b[0m\u001b[0;34m,\u001b[0m\u001b[0;36m5\u001b[0m\u001b[0;34m)\u001b[0m\u001b[0;34m)\u001b[0m\u001b[0;34m\u001b[0m\u001b[0;34m\u001b[0m\u001b[0m\n\u001b[1;32m      5\u001b[0m \u001b[0mprint\u001b[0m\u001b[0;34m(\u001b[0m\u001b[0mZ\u001b[0m\u001b[0;34m)\u001b[0m\u001b[0;34m\u001b[0m\u001b[0;34m\u001b[0m\u001b[0m\n\u001b[0;32m----> 6\u001b[0;31m \u001b[0max\u001b[0m\u001b[0;34m.\u001b[0m\u001b[0mplot_surface\u001b[0m\u001b[0;34m(\u001b[0m\u001b[0mx\u001b[0m\u001b[0;34m,\u001b[0m \u001b[0my\u001b[0m\u001b[0;34m,\u001b[0m\u001b[0mZ\u001b[0m\u001b[0;34m,\u001b[0m \u001b[0mrstride\u001b[0m\u001b[0;34m=\u001b[0m\u001b[0;36m1\u001b[0m\u001b[0;34m,\u001b[0m \u001b[0mcstride\u001b[0m\u001b[0;34m=\u001b[0m\u001b[0;36m1\u001b[0m\u001b[0;34m)\u001b[0m\u001b[0;34m\u001b[0m\u001b[0;34m\u001b[0m\u001b[0m\n\u001b[0m\u001b[1;32m      7\u001b[0m \u001b[0max\u001b[0m\u001b[0;34m.\u001b[0m\u001b[0mset_title\u001b[0m\u001b[0;34m(\u001b[0m\u001b[0;34m'surface'\u001b[0m\u001b[0;34m)\u001b[0m\u001b[0;34m;\u001b[0m\u001b[0;34m\u001b[0m\u001b[0;34m\u001b[0m\u001b[0m\n\u001b[1;32m      8\u001b[0m \u001b[0;34m\u001b[0m\u001b[0m\n",
      "\u001b[0;32m~/.local/lib/python3.8/site-packages/matplotlib/_api/deprecation.py\u001b[0m in \u001b[0;36mwrapper\u001b[0;34m(*inner_args, **inner_kwargs)\u001b[0m\n\u001b[1;32m    413\u001b[0m                          \u001b[0;32melse\u001b[0m \u001b[0mdeprecation_addendum\u001b[0m\u001b[0;34m,\u001b[0m\u001b[0;34m\u001b[0m\u001b[0;34m\u001b[0m\u001b[0m\n\u001b[1;32m    414\u001b[0m                 **kwargs)\n\u001b[0;32m--> 415\u001b[0;31m         \u001b[0;32mreturn\u001b[0m \u001b[0mfunc\u001b[0m\u001b[0;34m(\u001b[0m\u001b[0;34m*\u001b[0m\u001b[0minner_args\u001b[0m\u001b[0;34m,\u001b[0m \u001b[0;34m**\u001b[0m\u001b[0minner_kwargs\u001b[0m\u001b[0;34m)\u001b[0m\u001b[0;34m\u001b[0m\u001b[0;34m\u001b[0m\u001b[0m\n\u001b[0m\u001b[1;32m    416\u001b[0m \u001b[0;34m\u001b[0m\u001b[0m\n\u001b[1;32m    417\u001b[0m     \u001b[0mDECORATORS\u001b[0m\u001b[0;34m[\u001b[0m\u001b[0mwrapper\u001b[0m\u001b[0;34m]\u001b[0m \u001b[0;34m=\u001b[0m \u001b[0mdecorator\u001b[0m\u001b[0;34m\u001b[0m\u001b[0;34m\u001b[0m\u001b[0m\n",
      "\u001b[0;32m~/.local/lib/python3.8/site-packages/mpl_toolkits/mplot3d/axes3d.py\u001b[0m in \u001b[0;36mplot_surface\u001b[0;34m(self, X, Y, Z, norm, vmin, vmax, lightsource, *args, **kwargs)\u001b[0m\n\u001b[1;32m   1660\u001b[0m         \u001b[0;31m# arrays), artifacts can be introduced. Here check whether NaNs exist\u001b[0m\u001b[0;34m\u001b[0m\u001b[0;34m\u001b[0m\u001b[0;34m\u001b[0m\u001b[0m\n\u001b[1;32m   1661\u001b[0m         \u001b[0;31m# and remove the entries if so\u001b[0m\u001b[0;34m\u001b[0m\u001b[0;34m\u001b[0m\u001b[0;34m\u001b[0m\u001b[0m\n\u001b[0;32m-> 1662\u001b[0;31m         \u001b[0;32mif\u001b[0m \u001b[0;32mnot\u001b[0m \u001b[0misinstance\u001b[0m\u001b[0;34m(\u001b[0m\u001b[0mpolys\u001b[0m\u001b[0;34m,\u001b[0m \u001b[0mnp\u001b[0m\u001b[0;34m.\u001b[0m\u001b[0mndarray\u001b[0m\u001b[0;34m)\u001b[0m \u001b[0;32mor\u001b[0m \u001b[0mnp\u001b[0m\u001b[0;34m.\u001b[0m\u001b[0misnan\u001b[0m\u001b[0;34m(\u001b[0m\u001b[0mpolys\u001b[0m\u001b[0;34m)\u001b[0m\u001b[0;34m.\u001b[0m\u001b[0many\u001b[0m\u001b[0;34m(\u001b[0m\u001b[0;34m)\u001b[0m\u001b[0;34m:\u001b[0m\u001b[0;34m\u001b[0m\u001b[0;34m\u001b[0m\u001b[0m\n\u001b[0m\u001b[1;32m   1663\u001b[0m             \u001b[0mnew_polys\u001b[0m \u001b[0;34m=\u001b[0m \u001b[0;34m[\u001b[0m\u001b[0;34m]\u001b[0m\u001b[0;34m\u001b[0m\u001b[0;34m\u001b[0m\u001b[0m\n\u001b[1;32m   1664\u001b[0m             \u001b[0mnew_colset\u001b[0m \u001b[0;34m=\u001b[0m \u001b[0;34m[\u001b[0m\u001b[0;34m]\u001b[0m\u001b[0;34m\u001b[0m\u001b[0;34m\u001b[0m\u001b[0m\n",
      "\u001b[0;31mTypeError\u001b[0m: ufunc 'isnan' not supported for the input types, and the inputs could not be safely coerced to any supported types according to the casting rule ''safe''"
     ]
    },
    {
     "data": {
      "image/png": "[encoded data removed]",
      "text/plain": [
       "<Figure size 432x288 with 1 Axes>"
      ]
     },
     "metadata": {
      "needs_background": "light"
     },
     "output_type": "display_data"
    }
   ],
   "source": [
    "x=[0,25,50,75,100]\n",
    "y=[\"0\",\"0.25*n²\",\"0.50*n²\",\"0.75*n²\",\"n²\"]\n",
    "ax = plt.axes(projection='3d')\n",
    "Z=np.resize(np.concatenate(tiemposTotales),(5,5))\n",
    "print(Z)\n",
    "ax.plot_surface(x, y,Z, rstride=1, cstride=1)\n",
    "ax.set_title('surface');\n",
    "\n",
    "ax.xlabel(\"Páginas\")\n",
    "ax.ylabel(\"Links\")\n",
    "ax.zlabel(\"Tiempo (seg)\")\n",
    "ax.title(\"Tiempos de ejecución\")\n",
    "ax.legend()\n",
    "#ax.savefig('./graficos/puntaje_123_apunta_A_4.png')\n",
    "ax.show()\n",
    "ax.close()"
   ]
  },
  {
   "cell_type": "code",
   "execution_count": null,
   "metadata": {},
   "outputs": [],
   "source": []
  }
 ],
 "metadata": {
  "kernelspec": {
   "display_name": "Python 3",
   "language": "python",
   "name": "python3"
  },
  "language_info": {
   "codemirror_mode": {
    "name": "ipython",
    "version": 3
   },
   "file_extension": ".py",
   "mimetype": "text/x-python",
   "name": "python",
   "nbconvert_exporter": "python",
   "pygments_lexer": "ipython3",
   "version": "3.8.10"
  }
 },
 "nbformat": 4,
 "nbformat_minor": 4
}
