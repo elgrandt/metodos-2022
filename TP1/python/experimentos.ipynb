{
 "cells": [
  {
   "cell_type": "markdown",
   "metadata": {},
   "source": [
    "# Correr experimentos\n",
    "En este archivo está el código para correr los experimentos y escribir los resultados en archivos CSV.\n",
    "> Los archivos se guardan en la carpeta _resultados_."
   ]
  },
  {
   "cell_type": "code",
   "execution_count": 106,
   "metadata": {},
   "outputs": [],
   "source": [
    "import math, subprocess\n",
    "import pandas as pd\n",
    "import time\n",
    "import filecmp\n",
    "\n",
    "from os import listdir, getcwd\n",
    "from os.path import isfile, join"
   ]
  },
  {
   "cell_type": "markdown",
   "metadata": {},
   "source": [
    "La siguiente función sirve para correr el código sobre una instancia particular.\n",
    "- TA: Test aleatorio"
   ]
  },
  {
   "cell_type": "code",
   "execution_count": 107,
   "metadata": {},
   "outputs": [],
   "source": [
    "def correr_experimento(archivo_instancia, p):\n",
    "    start = time.time()\n",
    "    \n",
    "    # Crear proceso para ejecutar el codigo.\n",
    "    output_dir = join(getcwd(), 'resultados')\n",
    "    process = subprocess.Popen([\"../src/tp1.exe\", archivo_instancia, str(p)], cwd=output_dir)\n",
    "\n",
    "    # Correr experimento.\n",
    "    exit_code = process.wait()\n",
    "\n",
    "    # Verificar que el proceso no fallo.\n",
    "    if exit_code != 0: raise(F\"Hubo un error en la experimentacion para el algoritmo con la instancia {archivo_instancia}.\")\n",
    "    \n",
    "    end = time.time()\n",
    "    return end-start;"
   ]
  },
  {
   "cell_type": "markdown",
   "metadata": {},
   "source": [
    "## Agregamos los experimentos\n",
    "el codigo de por si guarda el resultado de las ejecuciones en un txt."
   ]
  },
  {
   "cell_type": "code",
   "execution_count": 108,
   "metadata": {},
   "outputs": [],
   "source": [
    "experimentos = [];"
   ]
  },
  {
   "cell_type": "markdown",
   "metadata": {},
   "source": [
    "### Experimento 1"
   ]
  },
  {
   "cell_type": "code",
   "execution_count": 109,
   "metadata": {},
   "outputs": [],
   "source": [
    "experimentos.append((\"..\\\\..\\\\tests\\\\test_15_segundos.txt\", 0.9))\n",
    "experimentos.append((\"..\\\\..\\\\tests\\\\test_30_segundos.txt\", 0.8))\n",
    "experimentos.append((\"..\\\\..\\\\tests\\\\test_aleatorio_desordenado.txt\", 0.76))\n",
    "experimentos.append((\"..\\\\..\\\\tests\\\\test_completo.txt\", 0.5))\n",
    "experimentos.append((\"..\\\\..\\\\tests\\\\test_sin_links.txt\", 0.64))\n",
    "experimentos.append((\"..\\\\..\\\\tests\\\\test_trivial.txt\", 0.3))"
   ]
  },
  {
   "cell_type": "markdown",
   "metadata": {},
   "source": [
    "## Ejecutar los experimentos.\n",
    "Este paso puede tardar unos minutos hasta terminar de ejecutarse."
   ]
  },
  {
   "cell_type": "code",
   "execution_count": 110,
   "metadata": {},
   "outputs": [
    {
     "name": "stdout",
     "output_type": "stream",
     "text": [
      "Corriendo experimento: 1/6\n",
      "Estadísticas de los tiempos de ejecución:\n",
      "count      1.000000\n",
      "mean     135.279991\n",
      "std             NaN\n",
      "min      135.279991\n",
      "25%      135.279991\n",
      "50%      135.279991\n",
      "75%      135.279991\n",
      "max      135.279991\n",
      "dtype: float64\n",
      "Corriendo experimento: 2/6\n",
      "Estadísticas de los tiempos de ejecución:\n",
      "count      1.000000\n",
      "mean     148.464985\n",
      "std             NaN\n",
      "min      148.464985\n",
      "25%      148.464985\n",
      "50%      148.464985\n",
      "75%      148.464985\n",
      "max      148.464985\n",
      "dtype: float64\n",
      "Corriendo experimento: 3/6\n",
      "Estadísticas de los tiempos de ejecución:\n",
      "count    1.000000\n",
      "mean     0.012247\n",
      "std           NaN\n",
      "min      0.012247\n",
      "25%      0.012247\n",
      "50%      0.012247\n",
      "75%      0.012247\n",
      "max      0.012247\n",
      "dtype: float64\n",
      "Corriendo experimento: 4/6\n",
      "Estadísticas de los tiempos de ejecución:\n",
      "count    1.000000\n",
      "mean     0.014279\n",
      "std           NaN\n",
      "min      0.014279\n",
      "25%      0.014279\n",
      "50%      0.014279\n",
      "75%      0.014279\n",
      "max      0.014279\n",
      "dtype: float64\n",
      "Corriendo experimento: 5/6\n",
      "Estadísticas de los tiempos de ejecución:\n",
      "count    1.000000\n",
      "mean     0.013645\n",
      "std           NaN\n",
      "min      0.013645\n",
      "25%      0.013645\n",
      "50%      0.013645\n",
      "75%      0.013645\n",
      "max      0.013645\n",
      "dtype: float64\n",
      "Corriendo experimento: 6/6\n",
      "Estadísticas de los tiempos de ejecución:\n",
      "count    1.00000\n",
      "mean     0.01508\n",
      "std          NaN\n",
      "min      0.01508\n",
      "25%      0.01508\n",
      "50%      0.01508\n",
      "75%      0.01508\n",
      "max      0.01508\n",
      "dtype: float64\n"
     ]
    }
   ],
   "source": [
    "numero_de_experimento = 1\n",
    "numero_de_repeticiones = 5 # Aumentar para mayor precisión con los tiempos\n",
    "for (archivo, p) in experimentos:\n",
    "    \n",
    "    # Voy mostrando que experimento se esta ejecutando.\n",
    "    print('Corriendo experimento: %i/%i (%s)' % (numero_de_experimento, len(experimentos), archivo))\n",
    "    \n",
    "    tiempos = []\n",
    "    for repeticion in range(numero_de_repeticiones):\n",
    "        tiempo_de_ejecucion = correr_experimento(archivo, p);\n",
    "        tiempos.append(tiempo_de_ejecucion)\n",
    "    \n",
    "    print('Estadísticas de los tiempos de ejecución:')\n",
    "    print(pd.Series(tiempos).describe())\n",
    "    \n",
    "    numero_de_experimento += 1"
   ]
  },
  {
   "cell_type": "markdown",
   "metadata": {},
   "source": [
    "## Comparamos resultados\n",
    "Comparamos la carpeta \"resultados\" con la carpeta \"resultados esperados\"."
   ]
  },
  {
   "cell_type": "code",
   "execution_count": 115,
   "metadata": {},
   "outputs": [
    {
     "name": "stdout",
     "output_type": "stream",
     "text": [
      ">>>>>> Comparado el archivo test_sin_links.txt.out\n",
      "Estadísticas de las diferencias:\n",
      "count    6.0\n",
      "mean     0.0\n",
      "std      0.0\n",
      "min      0.0\n",
      "25%      0.0\n",
      "50%      0.0\n",
      "75%      0.0\n",
      "max      0.0\n",
      "dtype: float64\n",
      ">>>>>> Comparado el archivo test_15_segundos.txt.out\n",
      "Estadísticas de las diferencias:\n",
      "count    2001.000000\n",
      "mean        0.000034\n",
      "std         0.000028\n",
      "min         0.000000\n",
      "25%         0.000016\n",
      "50%         0.000029\n",
      "75%         0.000043\n",
      "max         0.000206\n",
      "dtype: float64\n",
      ">>>>>> Comparado el archivo test_aleatorio_desordenado.txt.out\n",
      "Estadísticas de las diferencias:\n",
      "count    6.0\n",
      "mean     0.0\n",
      "std      0.0\n",
      "min      0.0\n",
      "25%      0.0\n",
      "50%      0.0\n",
      "75%      0.0\n",
      "max      0.0\n",
      "dtype: float64\n",
      ">>>>>> Comparado el archivo test_30_segundos.txt.out\n",
      "Estadísticas de las diferencias:\n",
      "count    3001.000000\n",
      "mean        0.000015\n",
      "std         0.000012\n",
      "min         0.000000\n",
      "25%         0.000007\n",
      "50%         0.000013\n",
      "75%         0.000019\n",
      "max         0.000102\n",
      "dtype: float64\n",
      ">>>>>> Comparado el archivo test_trivial.txt.out\n",
      "Estadísticas de las diferencias:\n",
      "count    2.0\n",
      "mean     0.0\n",
      "std      0.0\n",
      "min      0.0\n",
      "25%      0.0\n",
      "50%      0.0\n",
      "75%      0.0\n",
      "max      0.0\n",
      "dtype: float64\n",
      ">>>>>> Comparado el archivo test_completo.txt.out\n",
      "Estadísticas de las diferencias:\n",
      "count    6.0\n",
      "mean     0.0\n",
      "std      0.0\n",
      "min      0.0\n",
      "25%      0.0\n",
      "50%      0.0\n",
      "75%      0.0\n",
      "max      0.0\n",
      "dtype: float64\n",
      ">>>>>> Terminado de comparar todos los archivos\n"
     ]
    }
   ],
   "source": [
    "resultados = [f for f in listdir(\"resultados\") if isfile(join(\"resultados\", f))]\n",
    "esperados = [f for f in listdir(\"resultados_esperados\") if isfile(join(\"resultados_esperados\", f))]\n",
    "common_elements = list(set(resultados).intersection(set(esperados)))\n",
    "for name in common_elements:\n",
    "    print(\">>>>>> Comparado el archivo %s\" % (name))\n",
    "    resultado = open(join(\"resultados\", name))\n",
    "    esperado = open(join(\"resultados_esperados\", name))\n",
    "    lineas_resultado = resultado.readlines()\n",
    "    lineas_esperado = esperado.readlines()\n",
    "    if len(lineas_resultado) != len(lineas_esperado):\n",
    "        print(\"No contienen la misma cantidad de lineas.\")\n",
    "        continue\n",
    "    if len(lineas_resultado) == 0:\n",
    "        print(\"Los archivos están vacíos.\")\n",
    "        continue\n",
    "    if lineas_resultado[0] != lineas_esperado[0]:\n",
    "        print(\"Los P utilizados son distintos por lo que no tiene sentido comparar.\")\n",
    "        continue\n",
    "    diferencias = []\n",
    "    for i in range(len(lineas_resultado)):\n",
    "        if abs(float(lineas_resultado[i]) - float(lineas_esperado[i])) > 10e-4:\n",
    "            print(\"En la linea %i el valor %s del resultado es distinto al valor %s del esperado.\" % (i, lineas_resultado[i], lineas_esperado[i]))\n",
    "        diferencias.append(abs(float(lineas_resultado[i]) - float(lineas_esperado[i])))\n",
    "    print(\"Estadísticas de las diferencias:\")\n",
    "    print(pd.Series(diferencias).describe())\n",
    "print(\">>>>>> Terminado de comparar todos los archivos\")"
   ]
  },
  {
   "cell_type": "code",
   "execution_count": null,
   "metadata": {},
   "outputs": [],
   "source": [
    "archivo = open(\"archivo\")\n",
    "lineas = archivo.readlines()\n",
    "p = lineas[0]\n",
    "resultado = lineas[1:]\n",
    "resultado[5]\n",
    "pd.Series(resultado)"
   ]
  }
 ],
 "metadata": {
  "kernelspec": {
   "display_name": "Python 3 (ipykernel)",
   "language": "python",
   "name": "python3"
  },
  "language_info": {
   "codemirror_mode": {
    "name": "ipython",
    "version": 3
   },
   "file_extension": ".py",
   "mimetype": "text/x-python",
   "name": "python",
   "nbconvert_exporter": "python",
   "pygments_lexer": "ipython3",
   "version": "3.9.5"
  }
 },
 "nbformat": 4,
 "nbformat_minor": 4
}
