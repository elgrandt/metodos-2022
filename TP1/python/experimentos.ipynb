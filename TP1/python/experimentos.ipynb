{
 "cells": [
  {
   "cell_type": "markdown",
   "metadata": {},
   "source": [
    "# Correr experimentos\n",
    "En este archivo está el código para correr los experimentos y escribir los resultados en archivos CSV.\n",
    "> Los archivos se guardan en la carpeta _resultados_."
   ]
  },
  {
   "cell_type": "code",
   "execution_count": 13,
   "metadata": {},
   "outputs": [],
   "source": [
    "import math, subprocess\n",
    "import pandas as pd\n",
    "import time\n",
    "import filecmp\n",
    "#from IPython.core.debugger import set_trace\n",
    "#set_trace()\n",
    "from os import listdir, getcwd\n",
    "from os.path import isfile, join\n",
    "import matplotlib.pyplot as plt"
   ]
  },
  {
   "cell_type": "markdown",
   "metadata": {},
   "source": [
    "La siguiente función sirve para correr el código sobre una instancia particular.\n",
    "- TA: Test aleatorio"
   ]
  },
  {
   "cell_type": "code",
   "execution_count": 14,
   "metadata": {},
   "outputs": [],
   "source": [
    "def correr_experimento(archivo_instancia, p):\n",
    "    start = time.time()\n",
    "    \n",
    "    # Crear proceso para ejecutar el codigo.\n",
    "    output_dir = join(getcwd(), 'resultados')\n",
    "    process = subprocess.Popen([\"../../src/tp1\", archivo_instancia, str(p)], cwd=output_dir)\n",
    "\n",
    "    # Correr experimento.\n",
    "    exit_code = process.wait()\n",
    "\n",
    "    # Verificar que el proceso no fallo.\n",
    "    if exit_code != 0: raise(Exception(F\"Hubo un error en la experimentacion para el algoritmo con la instancia {archivo_instancia}.\"))\n",
    "    \n",
    "    end = time.time()\n",
    "    return end-start;"
   ]
  },
  {
   "cell_type": "markdown",
   "metadata": {},
   "source": [
    "## Agregamos los experimentos\n",
    "el codigo de por si guarda el resultado de las ejecuciones en un txt."
   ]
  },
  {
   "cell_type": "markdown",
   "metadata": {},
   "source": [
    "### Experimento 1"
   ]
  },
  {
   "cell_type": "code",
   "execution_count": 18,
   "metadata": {},
   "outputs": [],
   "source": [
    "experimentos = [];\n",
    "#experimentos.append((\"../../tests/test_15_segundos.txt\", 0.9))\n",
    "#experimentos.append((\"../../tests/test_30_segundos.txt\", 0.8))\n",
    "#experimentos.append((\"../../tests/test_aleatorio_desordenado.txt\", 0.76))\n",
    "#experimentos.append((\"../../tests/test_completo.txt\", 0.5))\n",
    "#experimentos.append((\"../../tests/test_sin_links.txt\", 0.64))\n",
    "#experimentos.append((\"../../tests/test_trivial.txt\", 0.3))\n",
    "#######################################\n",
    "experimentos.append((\"../instancias/3 Principales/1000_paginas_200_links_P_0.7.txt\", 0.7))\n",
    "experimentos.append((\"../instancias/3 Principales/1000_paginas_400_links_P_0.7.txt\", 0.7))\n",
    "experimentos.append((\"../instancias/3 Principales/1000_paginas_600_links_P_0.7.txt\", 0.7))\n",
    "experimentos.append((\"../instancias/3 Principales/1000_paginas_800_links_P_0.7.txt\", 0.7))\n",
    "experimentos.append((\"../instancias/3 Principales/1000_paginas_1000_links_P_0.7.txt\", 0.7))\n",
    "#######################################\n",
    "experimentos.append((\"../instancias/3 Principales/1000_paginas_500_links_P_0.0.txt\", 0.0))\n",
    "experimentos.append((\"../instancias/3 Principales/1000_paginas_500_links_P_0.2.txt\", 0.2))\n",
    "experimentos.append((\"../instancias/3 Principales/1000_paginas_500_links_P_0.4.txt\", 0.4))\n",
    "experimentos.append((\"../instancias/3 Principales/1000_paginas_500_links_P_0.6.txt\", 0.6))\n",
    "experimentos.append((\"../instancias/3 Principales/1000_paginas_500_links_P_0.8.txt\", 0.8))\n",
    "experimentos.append((\"../instancias/3 Principales/1000_paginas_500_links_P_1.txt\", 1.0))\n",
    "#######################################\n",
    "experimentos.append((\"../instancias/3 Principales y Anillo/832_Inicio_1000_paginas_P_0.7.txt\", 0.7))\n",
    "experimentos.append((\"../instancias/3 Principales y Anillo/899_Inicio_1000_paginas_P_0.7.txt\", 0.7))\n",
    "experimentos.append((\"../instancias/3 Principales y Anillo/959_Inicio_1000_paginas_P_0.7.txt\", 0.7))\n",
    "experimentos.append((\"../instancias/3 Principales y Anillo/994_Inicio_1000_paginas_P_0.7.txt\", 0.7))\n",
    "#######################################\n",
    "experimentos.append((\"../instancias/3 Principales Apuntando a otra/1_apuntando_1000_paginas_500_links_P_0.7.txt\", 0.7))\n",
    "experimentos.append((\"../instancias/3 Principales Apuntando a otra/2_apuntando_1000_paginas_500_links_P_0.7.txt\", 0.7))\n",
    "experimentos.append((\"../instancias/3 Principales Apuntando a otra/3_apuntando_1000_paginas_500_links_P_0.7.txt\", 0.7))"
   ]
  },
  {
   "cell_type": "markdown",
   "metadata": {},
   "source": [
    "## Ejecutar los experimentos.\n",
    "Este paso puede tardar unos minutos hasta terminar de ejecutarse."
   ]
  },
  {
   "cell_type": "code",
   "execution_count": 19,
   "metadata": {},
   "outputs": [
    {
     "name": "stdout",
     "output_type": "stream",
     "text": [
      "Corriendo experimento: 1/18 (../instancias/3 Principales/1000_paginas_200_links_P_0.7.txt)\n",
      "Estadísticas de los tiempos de ejecución:\n",
      "count    5.000000\n",
      "mean     0.147871\n",
      "std      0.011484\n",
      "min      0.140562\n",
      "25%      0.141527\n",
      "50%      0.141871\n",
      "75%      0.147576\n",
      "max      0.167817\n",
      "dtype: float64\n",
      "Corriendo experimento: 2/18 (../instancias/3 Principales/1000_paginas_400_links_P_0.7.txt)\n",
      "Estadísticas de los tiempos de ejecución:\n",
      "count    5.000000\n",
      "mean     0.149843\n",
      "std      0.005069\n",
      "min      0.144265\n",
      "25%      0.144517\n",
      "50%      0.152245\n",
      "75%      0.153264\n",
      "max      0.154925\n",
      "dtype: float64\n",
      "Corriendo experimento: 3/18 (../instancias/3 Principales/1000_paginas_600_links_P_0.7.txt)\n",
      "Estadísticas de los tiempos de ejecución:\n",
      "count    5.000000\n",
      "mean     0.166509\n",
      "std      0.009472\n",
      "min      0.156858\n",
      "25%      0.158605\n",
      "50%      0.164214\n",
      "75%      0.175737\n",
      "max      0.177132\n",
      "dtype: float64\n",
      "Corriendo experimento: 4/18 (../instancias/3 Principales/1000_paginas_800_links_P_0.7.txt)\n",
      "Estadísticas de los tiempos de ejecución:\n",
      "count    5.000000\n",
      "mean     0.159184\n",
      "std      0.003902\n",
      "min      0.154447\n",
      "25%      0.156802\n",
      "50%      0.158368\n",
      "75%      0.162587\n",
      "max      0.163716\n",
      "dtype: float64\n",
      "Corriendo experimento: 5/18 (../instancias/3 Principales/1000_paginas_1000_links_P_0.7.txt)\n",
      "Estadísticas de los tiempos de ejecución:\n",
      "count    5.000000\n",
      "mean     0.163163\n",
      "std      0.003716\n",
      "min      0.161348\n",
      "25%      0.161477\n",
      "50%      0.161494\n",
      "75%      0.161692\n",
      "max      0.169807\n",
      "dtype: float64\n",
      "Corriendo experimento: 6/18 (../instancias/3 Principales/1000_paginas_500_links_P_0.0.txt)\n",
      "Estadísticas de los tiempos de ejecución:\n",
      "count    5.000000\n",
      "mean     0.153920\n",
      "std      0.007201\n",
      "min      0.146599\n",
      "25%      0.146978\n",
      "50%      0.154162\n",
      "75%      0.159022\n",
      "max      0.162838\n",
      "dtype: float64\n",
      "Corriendo experimento: 7/18 (../instancias/3 Principales/1000_paginas_500_links_P_0.2.txt)\n",
      "Estadísticas de los tiempos de ejecución:\n",
      "count    5.000000\n",
      "mean     0.158103\n",
      "std      0.006063\n",
      "min      0.151211\n",
      "25%      0.156297\n",
      "50%      0.157296\n",
      "75%      0.157834\n",
      "max      0.167879\n",
      "dtype: float64\n",
      "Corriendo experimento: 8/18 (../instancias/3 Principales/1000_paginas_500_links_P_0.4.txt)\n",
      "Estadísticas de los tiempos de ejecución:\n",
      "count    5.000000\n",
      "mean     0.161757\n",
      "std      0.013622\n",
      "min      0.147280\n",
      "25%      0.151094\n",
      "50%      0.158654\n",
      "75%      0.173585\n",
      "max      0.178171\n",
      "dtype: float64\n",
      "Corriendo experimento: 9/18 (../instancias/3 Principales/1000_paginas_500_links_P_0.6.txt)\n",
      "Estadísticas de los tiempos de ejecución:\n",
      "count    5.000000\n",
      "mean     0.152632\n",
      "std      0.007224\n",
      "min      0.146646\n",
      "25%      0.146906\n",
      "50%      0.148637\n",
      "75%      0.159834\n",
      "max      0.161136\n",
      "dtype: float64\n",
      "Corriendo experimento: 10/18 (../instancias/3 Principales/1000_paginas_500_links_P_0.8.txt)\n",
      "Estadísticas de los tiempos de ejecución:\n",
      "count    5.000000\n",
      "mean     0.150147\n",
      "std      0.004652\n",
      "min      0.147068\n",
      "25%      0.147392\n",
      "50%      0.147546\n",
      "75%      0.150682\n",
      "max      0.158049\n",
      "dtype: float64\n",
      "Corriendo experimento: 11/18 (../instancias/3 Principales/1000_paginas_500_links_P_1.txt)\n",
      "Estadísticas de los tiempos de ejecución:\n",
      "count    5.000000\n",
      "mean     0.148384\n",
      "std      0.002738\n",
      "min      0.146313\n",
      "25%      0.146364\n",
      "50%      0.146597\n",
      "75%      0.150567\n",
      "max      0.152079\n",
      "dtype: float64\n",
      "Corriendo experimento: 12/18 (../instancias/3 Principales y Anillo/832_Inicio_1000_paginas_P_0.7.txt)\n",
      "Estadísticas de los tiempos de ejecución:\n",
      "count    5.000000\n",
      "mean     0.182072\n",
      "std      0.002893\n",
      "min      0.179160\n",
      "25%      0.179993\n",
      "50%      0.182134\n",
      "75%      0.182474\n",
      "max      0.186600\n",
      "dtype: float64\n",
      "Corriendo experimento: 13/18 (../instancias/3 Principales y Anillo/899_Inicio_1000_paginas_P_0.7.txt)\n",
      "Estadísticas de los tiempos de ejecución:\n",
      "count    5.000000\n",
      "mean     0.176195\n",
      "std      0.005252\n",
      "min      0.169706\n",
      "25%      0.174101\n",
      "50%      0.175993\n",
      "75%      0.177035\n",
      "max      0.184139\n",
      "dtype: float64\n",
      "Corriendo experimento: 14/18 (../instancias/3 Principales y Anillo/959_Inicio_1000_paginas_P_0.7.txt)\n",
      "Estadísticas de los tiempos de ejecución:\n",
      "count    5.000000\n",
      "mean     0.160946\n",
      "std      0.006729\n",
      "min      0.155400\n",
      "25%      0.155727\n",
      "50%      0.157114\n",
      "75%      0.167261\n",
      "max      0.169227\n",
      "dtype: float64\n",
      "Corriendo experimento: 15/18 (../instancias/3 Principales y Anillo/994_Inicio_1000_paginas_P_0.7.txt)\n",
      "Estadísticas de los tiempos de ejecución:\n",
      "count    5.000000\n",
      "mean     0.158711\n",
      "std      0.005325\n",
      "min      0.151254\n",
      "25%      0.157225\n",
      "50%      0.159004\n",
      "75%      0.160024\n",
      "max      0.166046\n",
      "dtype: float64\n",
      "Corriendo experimento: 16/18 (../instancias/3 Principales Apuntando a otra/1_apuntando_1000_paginas_500_links_P_0.7.txt)\n",
      "Estadísticas de los tiempos de ejecución:\n",
      "count    5.000000\n",
      "mean     0.157166\n",
      "std      0.002925\n",
      "min      0.153060\n",
      "25%      0.156445\n",
      "50%      0.156563\n",
      "75%      0.158942\n",
      "max      0.160818\n",
      "dtype: float64\n",
      "Corriendo experimento: 17/18 (../instancias/3 Principales Apuntando a otra/2_apuntando_1000_paginas_500_links_P_0.7.txt)\n",
      "Estadísticas de los tiempos de ejecución:\n",
      "count    5.000000\n",
      "mean     0.157916\n",
      "std      0.003441\n",
      "min      0.155270\n",
      "25%      0.155779\n",
      "50%      0.155891\n",
      "75%      0.159256\n",
      "max      0.163384\n",
      "dtype: float64\n",
      "Corriendo experimento: 18/18 (../instancias/3 Principales Apuntando a otra/3_apuntando_1000_paginas_500_links_P_0.7.txt)\n",
      "Estadísticas de los tiempos de ejecución:\n",
      "count    5.000000\n",
      "mean     0.160124\n",
      "std      0.004154\n",
      "min      0.157395\n",
      "25%      0.157901\n",
      "50%      0.158120\n",
      "75%      0.159832\n",
      "max      0.167372\n",
      "dtype: float64\n"
     ]
    }
   ],
   "source": [
    "numero_de_experimento = 1\n",
    "numero_de_repeticiones = 5 # Aumentar para mayor precisión con los tiempos\n",
    "for (archivo, p) in experimentos:\n",
    "    \n",
    "    # Voy mostrando que experimento se esta ejecutando.\n",
    "    print('Corriendo experimento: %i/%i (%s)' % (numero_de_experimento, len(experimentos), archivo))\n",
    "    \n",
    "    tiempos = []\n",
    "    for repeticion in range(numero_de_repeticiones):\n",
    "        tiempo_de_ejecucion = correr_experimento(archivo, p);\n",
    "        tiempos.append(tiempo_de_ejecucion)\n",
    "    \n",
    "    print('Estadísticas de los tiempos de ejecución:')\n",
    "    print(pd.Series(tiempos).describe())\n",
    "    \n",
    "    numero_de_experimento += 1"
   ]
  },
  {
   "cell_type": "markdown",
   "metadata": {},
   "source": [
    "## Comparamos resultados\n",
    "Comparamos la carpeta \"resultados\" con la carpeta \"resultados esperados\"."
   ]
  },
  {
   "cell_type": "code",
   "execution_count": null,
   "metadata": {},
   "outputs": [],
   "source": [
    "resultados = [f for f in listdir(\"resultados\") if isfile(join(\"resultados\", f))]\n",
    "esperados = [f for f in listdir(\"resultados_esperados\") if isfile(join(\"resultados_esperados\", f))]\n",
    "common_elements = list(set(resultados).intersection(set(esperados)))\n",
    "for name in common_elements:\n",
    "    print(\">>>>>> Comparado el archivo %s\" % (name))\n",
    "    resultado = open(join(\"resultados\", name))\n",
    "    esperado = open(join(\"resultados_esperados\", name))\n",
    "    lineas_resultado = resultado.readlines()\n",
    "    lineas_esperado = esperado.readlines()\n",
    "    if len(lineas_resultado) != len(lineas_esperado):\n",
    "        print(\"No contienen la misma cantidad de lineas.\")\n",
    "        continue\n",
    "    if len(lineas_resultado) == 0:\n",
    "        print(\"Los archivos están vacíos.\")\n",
    "        continue\n",
    "    if lineas_resultado[0] != lineas_esperado[0]:\n",
    "        print(\"Los P utilizados son distintos por lo que no tiene sentido comparar.\")\n",
    "        continue\n",
    "    diferencias = []\n",
    "    for i in range(len(lineas_resultado)):\n",
    "        if abs(float(lineas_resultado[i]) - float(lineas_esperado[i])) > 10e-4:\n",
    "            print(\"En la linea %i el valor %s del resultado es distinto al valor %s del esperado.\" % (i, lineas_resultado[i], lineas_esperado[i]))\n",
    "        diferencias.append(abs(float(lineas_resultado[i]) - float(lineas_esperado[i])))\n",
    "    print(\"Estadísticas de las diferencias:\")\n",
    "    print(pd.Series(diferencias).describe())\n",
    "print(\">>>>>> Terminado de comparar todos los archivos\")"
   ]
  },
  {
   "cell_type": "code",
   "execution_count": 20,
   "metadata": {},
   "outputs": [],
   "source": [
    "experimentos = [];"
   ]
  },
  {
   "cell_type": "code",
   "execution_count": 21,
   "metadata": {},
   "outputs": [],
   "source": [
    "#archivo = open(\"archivo\")\n",
    "#lineas = archivo.readlines()\n",
    "#p = lineas[0]\n",
    "#resultado = lineas[1:]\n",
    "#resultado[5]\n",
    "#pd.Series(resultado)"
   ]
  },
  {
   "cell_type": "code",
   "execution_count": 22,
   "metadata": {},
   "outputs": [],
   "source": [
    "def sumar_arrays(ar1, ar2):\n",
    "    return [ar1[i]+ar2[i] for i in range(len(ar1))]"
   ]
  },
  {
   "cell_type": "code",
   "execution_count": 35,
   "metadata": {},
   "outputs": [
    {
     "data": {
      "image/png": "[encoded data removed]",
      "text/plain": [
       "<Figure size 432x288 with 1 Axes>"
      ]
     },
     "metadata": {
      "needs_background": "light"
     },
     "output_type": "display_data"
    }
   ],
   "source": [
    "# Grafico de cajas puntaje en función de P de links para las tres páginas principales y la suma del resto\n",
    "archivos_links = [\n",
    "    (\"./resultados/1000_paginas_200_links_P_0.7.txt.out\", 200),\n",
    "    (\"./resultados/1000_paginas_400_links_P_0.7.txt.out\", 400),\n",
    "    (\"./resultados/1000_paginas_600_links_P_0.7.txt.out\", 600),\n",
    "    (\"./resultados/1000_paginas_800_links_P_0.7.txt.out\", 800),\n",
    "    (\"./resultados/1000_paginas_1000_links_P_0.7.txt.out\", 1000),\n",
    "]\n",
    "\n",
    "links = [200, 400, 600, 800, 1000]\n",
    "pagina1 = []\n",
    "pagina2 = []\n",
    "pagina3 = []\n",
    "resto = []\n",
    "\n",
    "for (nombre_archivo, nro_links) in archivos_links:\n",
    "    archivo = open(nombre_archivo)\n",
    "    lineas = archivo.readlines()\n",
    "    p = lineas[0]\n",
    "    resultado = [float(linea) for linea in lineas[1:]]\n",
    "    pagina1.append(resultado[0])\n",
    "    pagina2.append(resultado[1])\n",
    "    pagina3.append(resultado[2])\n",
    "    resto.append(sum(resultado[3:]))\n",
    "\n",
    "# plt.plot(links, pagina1, label=\"Página 1\")\n",
    "# plt.plot(links, pagina2, label=\"Página 2\")\n",
    "# plt.plot(links, pagina3, label=\"Página 3\")\n",
    "# plt.plot(links, resto.values(), label=\"Suma del resto\")\n",
    "plt.bar(links, pagina1, width=100, label=\"Página 1\")\n",
    "plt.bar(links, pagina2, width=100, bottom=pagina1, label=\"Página 2\")\n",
    "plt.bar(links, pagina3, width=100, bottom=sumar_arrays(pagina1, pagina2), label=\"Página 3\")\n",
    "plt.bar(links, resto, width=100, bottom=sumar_arrays(pagina1, sumar_arrays(pagina2, pagina3)), label=\"Suma del resto\")\n",
    "plt.xlabel(\"Número de links\")\n",
    "plt.ylabel(\"Puntaje\")\n",
    "plt.title(\"Puntaje en función de los links\")\n",
    "plt.legend()\n",
    "plt.savefig('./graficos/puntaje_funcion_links.png')\n",
    "plt.show()\n",
    "plt.close()"
   ]
  },
  {
   "cell_type": "code",
   "execution_count": 36,
   "metadata": {},
   "outputs": [
    {
     "data": {
      "text/plain": [
       "<Figure size 432x288 with 0 Axes>"
      ]
     },
     "metadata": {},
     "output_type": "display_data"
    }
   ],
   "source": [
    "plt.clf()"
   ]
  },
  {
   "cell_type": "code",
   "execution_count": 37,
   "metadata": {},
   "outputs": [
    {
     "data": {
      "image/png": "[encoded data removed]",
      "text/plain": [
       "<Figure size 432x288 with 1 Axes>"
      ]
     },
     "metadata": {
      "needs_background": "light"
     },
     "output_type": "display_data"
    }
   ],
   "source": [
    "# Grafico de cajas puntaje en función de P para las tres páginas principales y la suma del resto\n",
    "archivos_links = [\n",
    "    (\"./resultados/1000_paginas_500_links_P_0.0.txt.out\", 500),\n",
    "    (\"./resultados/1000_paginas_500_links_P_0.2.txt.out\", 500),\n",
    "    (\"./resultados/1000_paginas_500_links_P_0.4.txt.out\", 500),\n",
    "    (\"./resultados/1000_paginas_500_links_P_0.6.txt.out\", 500),\n",
    "    (\"./resultados/1000_paginas_500_links_P_0.8.txt.out\", 500),\n",
    "    (\"./resultados/1000_paginas_500_links_P_1.txt.out\", 500),\n",
    "]\n",
    "\n",
    "Valores_de_P = [0, 0.2, 0.4, 0.6, 0.8, 1]\n",
    "pagina1 = []\n",
    "pagina2 = []\n",
    "pagina3 = []\n",
    "resto = []\n",
    "\n",
    "for (nombre_archivo, ValorP) in archivos_links:\n",
    "    archivo = open(nombre_archivo)\n",
    "    lineas = archivo.readlines()\n",
    "    p = lineas[0]\n",
    "    resultado = [float(linea) for linea in lineas[1:]]\n",
    "    pagina1.append(resultado[0])\n",
    "    pagina2.append(resultado[1])\n",
    "    pagina3.append(resultado[2])\n",
    "    resto.append(sum(resultado[3:]))\n",
    "\n",
    "# plt.plot(links, pagina1, label=\"Página 1\")\n",
    "# plt.plot(links, pagina2, label=\"Página 2\")\n",
    "# plt.plot(links, pagina3, label=\"Página 3\")\n",
    "# plt.plot(links, resto.values(), label=\"Suma del resto\")\n",
    "plt.bar(Valores_de_P, pagina1, width=0.15, label=\"Página 1\")\n",
    "plt.bar(Valores_de_P, pagina2, width=0.15, bottom=pagina1, label=\"Página 2\")\n",
    "plt.bar(Valores_de_P, pagina3, width=0.15, bottom=sumar_arrays(pagina1, pagina2), label=\"Página 3\")\n",
    "plt.bar(Valores_de_P, resto, width=0.15, bottom=sumar_arrays(pagina1, sumar_arrays(pagina2, pagina3)), label=\"Suma del resto\")\n",
    "plt.xlabel(\"Valores de P\")\n",
    "plt.ylabel(\"Puntaje\")\n",
    "plt.title(\"Puntaje en función de los distintos P\")\n",
    "plt.legend()\n",
    "plt.savefig('./graficos/puntaje_Variado_P.png')\n",
    "plt.show()\n",
    "plt.close()"
   ]
  },
  {
   "cell_type": "code",
   "execution_count": 45,
   "metadata": {},
   "outputs": [
    {
     "data": {
      "image/png": "[encoded data removed]",
      "text/plain": [
       "<Figure size 432x288 with 1 Axes>"
      ]
     },
     "metadata": {
      "needs_background": "light"
     },
     "output_type": "display_data"
    }
   ],
   "source": [
    "# Grafico de linea puntaje en función de tamaño del anillo para las tres páginas principales y la central\n",
    "archivos_links = [\n",
    "    (\"./resultados/994_Inicio_1000_paginas_P_0.7.txt.out\", 500),\n",
    "    (\"./resultados/959_Inicio_1000_paginas_P_0.7.txt.out\", 500),\n",
    "    (\"./resultados/899_Inicio_1000_paginas_P_0.7.txt.out\", 500),\n",
    "    (\"./resultados/832_Inicio_1000_paginas_P_0.7.txt.out\", 500),\n",
    "]\n",
    "\n",
    "tamañoAnillo = [5, 40, 100, 160]\n",
    "pagina1 = []\n",
    "pagina2 = []\n",
    "pagina3 = []\n",
    "central = []\n",
    "\n",
    "for (nombre_archivo, links) in archivos_links:\n",
    "    archivo = open(nombre_archivo)\n",
    "    lineas = archivo.readlines()\n",
    "    p = lineas[0]\n",
    "    resultado = [float(linea) for linea in lineas[1:]]\n",
    "    pagina1.append(resultado[0])\n",
    "    pagina2.append(resultado[1])\n",
    "    pagina3.append(resultado[2])\n",
    "    central.append(resultado[-1])\n",
    "\n",
    "plt.plot(tamañoAnillo, pagina1, label=\"Página 1\")\n",
    "plt.plot(tamañoAnillo, pagina2, label=\"Página 2\")\n",
    "plt.plot(tamañoAnillo, pagina3, label=\"Página 3\")\n",
    "plt.plot(tamañoAnillo, central, label=\"Página central del anillo\")\n",
    "# plt.bar(Valores_de_P, pagina1, width=0.15, label=\"Página 1\")\n",
    "# plt.bar(Valores_de_P, pagina2, width=0.15, bottom=pagina1, label=\"Página 2\")\n",
    "# plt.bar(Valores_de_P, pagina3, width=0.15, bottom=sumar_arrays(pagina1, pagina2), label=\"Página 3\")\n",
    "# plt.bar(Valores_de_P, resto, width=0.15, bottom=sumar_arrays(pagina1, sumar_arrays(pagina2, pagina3)), label=\"Suma del resto\")\n",
    "plt.xlabel(\"Tamaño del anillo\")\n",
    "plt.ylabel(\"Puntaje\")\n",
    "plt.title(\"Puntaje en función del tamaño del anillo\")\n",
    "plt.legend()\n",
    "plt.savefig('./graficos/puntaje_Variado_Anillo.png')\n",
    "plt.show()\n",
    "plt.close()"
   ]
  },
  {
   "cell_type": "code",
   "execution_count": 64,
   "metadata": {},
   "outputs": [
    {
     "data": {
      "image/png": "[encoded data removed]",
      "text/plain": [
       "<Figure size 432x288 with 1 Axes>"
      ]
     },
     "metadata": {
      "needs_background": "light"
     },
     "output_type": "display_data"
    }
   ],
   "source": [
    "# Grafico de cajas puntaje en función de P para las tres páginas principales y la suma del resto\n",
    "archivos_links = [\n",
    "    (\"./resultados/1_apuntando_1000_paginas_500_links_P_0.7.txt.out\", 500),\n",
    "]\n",
    "\n",
    "paginas = [1, 2, 3, 4]\n",
    "pagina1 = []\n",
    "pagina2 = []\n",
    "pagina3 = []\n",
    "pagina4 = []\n",
    "\n",
    "archivo = open(archivos_links[0][0])\n",
    "lineas = archivo.readlines()\n",
    "p = lineas[0]\n",
    "resultado = [float(linea) for linea in lineas[1:]]\n",
    "pagina1=(resultado[0])\n",
    "pagina2=(resultado[1])\n",
    "pagina3=(resultado[2])\n",
    "pagina4=(resultado[3])\n",
    "\n",
    "plt.bar(paginas, [pagina1,pagina2,pagina3,pagina4], width=0.4,  color=['blue', 'maroon', 'green', 'cyan'],label=\"Página 1\")\n",
    "plt.xticks([item for item in range (1 ,5)])\n",
    "\n",
    "plt.xlabel(\"Página\")\n",
    "plt.ylabel(\"Puntaje\")\n",
    "plt.title(\"Puntajes cuando página 1 apunta a la 4\")\n",
    "plt.legend()\n",
    "plt.savefig('./graficos/puntaje_1_apunta_A_4.png')\n",
    "plt.show()\n",
    "plt.close()"
   ]
  },
  {
   "cell_type": "code",
   "execution_count": 65,
   "metadata": {},
   "outputs": [
    {
     "data": {
      "image/png": "[encoded data removed]",
      "text/plain": [
       "<Figure size 432x288 with 1 Axes>"
      ]
     },
     "metadata": {
      "needs_background": "light"
     },
     "output_type": "display_data"
    }
   ],
   "source": [
    "# Grafico de cajas puntaje en función de P para las tres páginas principales y la suma del resto\n",
    "archivos_links = [\n",
    "    (\"./resultados/2_apuntando_1000_paginas_500_links_P_0.7.txt.out\", 500),\n",
    "]\n",
    "\n",
    "paginas = [1, 2, 3, 4]\n",
    "pagina1 = []\n",
    "pagina2 = []\n",
    "pagina3 = []\n",
    "pagina4 = []\n",
    "\n",
    "archivo = open(archivos_links[0][0])\n",
    "lineas = archivo.readlines()\n",
    "p = lineas[0]\n",
    "resultado = [float(linea) for linea in lineas[1:]]\n",
    "pagina1=(resultado[0])\n",
    "pagina2=(resultado[1])\n",
    "pagina3=(resultado[2])\n",
    "pagina4=(resultado[3])\n",
    "\n",
    "plt.bar(paginas, [pagina1,pagina2,pagina3,pagina4], width=0.4,  color=['blue', 'maroon', 'green', 'cyan'],label=\"Página 1\")\n",
    "plt.xticks([item for item in range (1 ,5)])\n",
    "\n",
    "plt.xlabel(\"Página\")\n",
    "plt.ylabel(\"Puntaje\")\n",
    "plt.title(\"Puntajes cuando página 1 y 2 apuntan a la 4\")\n",
    "plt.legend()\n",
    "plt.savefig('./graficos/puntaje_1y2_apunta_A_4.png')\n",
    "plt.show()\n",
    "plt.close()"
   ]
  },
  {
   "cell_type": "code",
   "execution_count": 66,
   "metadata": {},
   "outputs": [
    {
     "data": {
      "image/png": "[encoded data removed]",
      "text/plain": [
       "<Figure size 432x288 with 1 Axes>"
      ]
     },
     "metadata": {
      "needs_background": "light"
     },
     "output_type": "display_data"
    }
   ],
   "source": [
    "# Grafico de cajas puntaje en función de P para las tres páginas principales y la suma del resto\n",
    "archivos_links = [\n",
    "    (\"./resultados/3_apuntando_1000_paginas_500_links_P_0.7.txt.out\", 500),\n",
    "]\n",
    "\n",
    "paginas = [1, 2, 3, 4]\n",
    "pagina1 = []\n",
    "pagina2 = []\n",
    "pagina3 = []\n",
    "pagina4 = []\n",
    "\n",
    "archivo = open(archivos_links[0][0])\n",
    "lineas = archivo.readlines()\n",
    "p = lineas[0]\n",
    "resultado = [float(linea) for linea in lineas[1:]]\n",
    "pagina1=(resultado[0])\n",
    "pagina2=(resultado[1])\n",
    "pagina3=(resultado[2])\n",
    "pagina4=(resultado[3])\n",
    "\n",
    "plt.bar(paginas, [pagina1,pagina2,pagina3,pagina4], width=0.4,  color=['blue', 'maroon', 'green', 'cyan'],label=\"Página 1\")\n",
    "plt.xticks([item for item in range (1 ,5)])\n",
    "\n",
    "plt.xlabel(\"Página\")\n",
    "plt.ylabel(\"Puntaje\")\n",
    "plt.title(\"Puntajes cuando página 1, 2 y 3 apuntan a la 4\")\n",
    "plt.legend()\n",
    "plt.savefig('./graficos/puntaje_123_apunta_A_4.png')\n",
    "plt.show()\n",
    "plt.close()"
   ]
  },
  {
   "cell_type": "code",
   "execution_count": null,
   "metadata": {},
   "outputs": [],
   "source": []
  }
 ],
 "metadata": {
  "kernelspec": {
   "display_name": "Python 3",
   "language": "python",
   "name": "python3"
  },
  "language_info": {
   "codemirror_mode": {
    "name": "ipython",
    "version": 3
   },
   "file_extension": ".py",
   "mimetype": "text/x-python",
   "name": "python",
   "nbconvert_exporter": "python",
   "pygments_lexer": "ipython3",
   "version": "3.8.10"
  }
 },
 "nbformat": 4,
 "nbformat_minor": 4
}
