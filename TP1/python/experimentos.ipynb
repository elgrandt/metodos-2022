{
 "cells": [
  {
   "cell_type": "markdown",
   "metadata": {},
   "source": [
    "# Correr experimentos\n",
    "En este archivo está el código para correr los experimentos y escribir los resultados en archivos CSV.\n",
    "> Los archivos se guardan en la carpeta _resultados_."
   ]
  },
  {
   "cell_type": "code",
   "execution_count": 34,
   "metadata": {},
   "outputs": [],
   "source": [
    "import math, subprocess\n",
    "import pandas as pd\n",
    "import time\n",
    "import filecmp\n",
    "#from IPython.core.debugger import set_trace\n",
    "#set_trace()\n",
    "from os import listdir, getcwd\n",
    "from os.path import isfile, join"
   ]
  },
  {
   "cell_type": "markdown",
   "metadata": {},
   "source": [
    "La siguiente función sirve para correr el código sobre una instancia particular.\n",
    "- TA: Test aleatorio"
   ]
  },
  {
   "cell_type": "code",
   "execution_count": 35,
   "metadata": {},
   "outputs": [],
   "source": [
    "def correr_experimento(archivo_instancia, p):\n",
    "    start = time.time()\n",
    "    \n",
    "    # Crear proceso para ejecutar el codigo.\n",
    "    output_dir = join(getcwd(), 'resultados')\n",
    "    process = subprocess.Popen([\"../src/tp1.exe\", archivo_instancia, str(p)], cwd=output_dir)\n",
    "\n",
    "    # Correr experimento.\n",
    "    exit_code = process.wait()\n",
    "\n",
    "    # Verificar que el proceso no fallo.\n",
    "    if exit_code != 0: raise(Exception(F\"Hubo un error en la experimentacion para el algoritmo con la instancia {archivo_instancia}.\"))\n",
    "    \n",
    "    end = time.time()\n",
    "    return end-start;"
   ]
  },
  {
   "cell_type": "markdown",
   "metadata": {},
   "source": [
    "## Agregamos los experimentos\n",
    "el codigo de por si guarda el resultado de las ejecuciones en un txt."
   ]
  },
  {
   "cell_type": "code",
   "execution_count": 36,
   "metadata": {},
   "outputs": [],
   "source": [
    "experimentos = [];"
   ]
  },
  {
   "cell_type": "markdown",
   "metadata": {},
   "source": [
    "### Experimento 1"
   ]
  },
  {
   "cell_type": "code",
   "execution_count": 37,
   "metadata": {},
   "outputs": [],
   "source": [
    "# experimentos.append((\"..\\\\..\\\\tests\\\\test_15_segundos.txt\", 0.9))\n",
    "# experimentos.append((\"..\\\\..\\\\tests\\\\test_30_segundos.txt\", 0.8))\n",
    "# experimentos.append((\"..\\\\..\\\\tests\\\\test_aleatorio_desordenado.txt\", 0.76))\n",
    "# experimentos.append((\"..\\\\..\\\\tests\\\\test_completo.txt\", 0.5))\n",
    "# experimentos.append((\"..\\\\..\\\\tests\\\\test_sin_links.txt\", 0.64))\n",
    "# experimentos.append((\"..\\\\..\\\\tests\\\\test_trivial.txt\", 0.3))\n",
    "#######################################\n",
    "experimentos.append((\"..\\\\instancias\\\\3 Principales\\\\1000_paginas_200_links_P_0.7.txt\", 0.7))\n",
    "experimentos.append((\"..\\\\instancias\\\\3 Principales\\\\1000_paginas_400_links_P_0.7.txt\", 0.7))\n",
    "experimentos.append((\"..\\\\instancias\\\\3 Principales\\\\1000_paginas_600_links_P_0.7.txt\", 0.7))\n",
    "experimentos.append((\"..\\\\instancias\\\\3 Principales\\\\1000_paginas_800_links_P_0.7.txt\", 0.7))\n",
    "experimentos.append((\"..\\\\instancias\\\\3 Principales\\\\1000_paginas_1000_links_P_0.7.txt\", 0.7))"
   ]
  },
  {
   "cell_type": "markdown",
   "metadata": {},
   "source": [
    "## Ejecutar los experimentos.\n",
    "Este paso puede tardar unos minutos hasta terminar de ejecutarse."
   ]
  },
  {
   "cell_type": "code",
   "execution_count": 38,
   "metadata": {},
   "outputs": [
    {
     "name": "stdout",
     "output_type": "stream",
     "text": [
      "Corriendo experimento: 1/5 (..\\instancias\\3 Principales\\1000_paginas_200_links_P_0.7.txt)\n",
      "Estadísticas de los tiempos de ejecución:\n",
      "count    5.000000\n",
      "mean     0.337199\n",
      "std      0.009152\n",
      "min      0.323078\n",
      "25%      0.334630\n",
      "50%      0.338228\n",
      "75%      0.343389\n",
      "max      0.346669\n",
      "dtype: float64\n",
      "Corriendo experimento: 2/5 (..\\instancias\\3 Principales\\1000_paginas_400_links_P_0.7.txt)\n",
      "Estadísticas de los tiempos de ejecución:\n",
      "count    5.000000\n",
      "mean     0.335024\n",
      "std      0.002123\n",
      "min      0.332582\n",
      "25%      0.333619\n",
      "50%      0.334519\n",
      "75%      0.336772\n",
      "max      0.337629\n",
      "dtype: float64\n",
      "Corriendo experimento: 3/5 (..\\instancias\\3 Principales\\1000_paginas_600_links_P_0.7.txt)\n"
     ]
    },
    {
     "ename": "Exception",
     "evalue": "Hubo un error en la experimentacion para el algoritmo con la instancia ..\\instancias\\3 Principales\\1000_paginas_600_links_P_0.7.txt.",
     "output_type": "error",
     "traceback": [
      "\u001b[1;31m---------------------------------------------------------------------------\u001b[0m",
      "\u001b[1;31mException\u001b[0m                                 Traceback (most recent call last)",
      "Input \u001b[1;32mIn [38]\u001b[0m, in \u001b[0;36m<cell line: 3>\u001b[1;34m()\u001b[0m\n\u001b[0;32m      8\u001b[0m tiempos \u001b[38;5;241m=\u001b[39m []\n\u001b[0;32m      9\u001b[0m \u001b[38;5;28;01mfor\u001b[39;00m repeticion \u001b[38;5;129;01min\u001b[39;00m \u001b[38;5;28mrange\u001b[39m(numero_de_repeticiones):\n\u001b[1;32m---> 10\u001b[0m     tiempo_de_ejecucion \u001b[38;5;241m=\u001b[39m \u001b[43mcorrer_experimento\u001b[49m\u001b[43m(\u001b[49m\u001b[43marchivo\u001b[49m\u001b[43m,\u001b[49m\u001b[43m \u001b[49m\u001b[43mp\u001b[49m\u001b[43m)\u001b[49m;\n\u001b[0;32m     11\u001b[0m     tiempos\u001b[38;5;241m.\u001b[39mappend(tiempo_de_ejecucion)\n\u001b[0;32m     13\u001b[0m \u001b[38;5;28mprint\u001b[39m(\u001b[38;5;124m'\u001b[39m\u001b[38;5;124mEstadísticas de los tiempos de ejecución:\u001b[39m\u001b[38;5;124m'\u001b[39m)\n",
      "Input \u001b[1;32mIn [35]\u001b[0m, in \u001b[0;36mcorrer_experimento\u001b[1;34m(archivo_instancia, p)\u001b[0m\n\u001b[0;32m      9\u001b[0m exit_code \u001b[38;5;241m=\u001b[39m process\u001b[38;5;241m.\u001b[39mwait()\n\u001b[0;32m     11\u001b[0m \u001b[38;5;66;03m# Verificar que el proceso no fallo.\u001b[39;00m\n\u001b[1;32m---> 12\u001b[0m \u001b[38;5;28;01mif\u001b[39;00m exit_code \u001b[38;5;241m!=\u001b[39m \u001b[38;5;241m0\u001b[39m: \u001b[38;5;28;01mraise\u001b[39;00m(\u001b[38;5;167;01mException\u001b[39;00m(\u001b[38;5;124mF\u001b[39m\u001b[38;5;124m\"\u001b[39m\u001b[38;5;124mHubo un error en la experimentacion para el algoritmo con la instancia \u001b[39m\u001b[38;5;132;01m{\u001b[39;00marchivo_instancia\u001b[38;5;132;01m}\u001b[39;00m\u001b[38;5;124m.\u001b[39m\u001b[38;5;124m\"\u001b[39m))\n\u001b[0;32m     14\u001b[0m end \u001b[38;5;241m=\u001b[39m time\u001b[38;5;241m.\u001b[39mtime()\n\u001b[0;32m     15\u001b[0m \u001b[38;5;28;01mreturn\u001b[39;00m end\u001b[38;5;241m-\u001b[39mstart\n",
      "\u001b[1;31mException\u001b[0m: Hubo un error en la experimentacion para el algoritmo con la instancia ..\\instancias\\3 Principales\\1000_paginas_600_links_P_0.7.txt."
     ]
    }
   ],
   "source": [
    "numero_de_experimento = 1\n",
    "numero_de_repeticiones = 5 # Aumentar para mayor precisión con los tiempos\n",
    "for (archivo, p) in experimentos:\n",
    "    \n",
    "    # Voy mostrando que experimento se esta ejecutando.\n",
    "    print('Corriendo experimento: %i/%i (%s)' % (numero_de_experimento, len(experimentos), archivo))\n",
    "    \n",
    "    tiempos = []\n",
    "    for repeticion in range(numero_de_repeticiones):\n",
    "        tiempo_de_ejecucion = correr_experimento(archivo, p);\n",
    "        tiempos.append(tiempo_de_ejecucion)\n",
    "    \n",
    "    print('Estadísticas de los tiempos de ejecución:')\n",
    "    print(pd.Series(tiempos).describe())\n",
    "    \n",
    "    numero_de_experimento += 1"
   ]
  },
  {
   "cell_type": "markdown",
   "metadata": {},
   "source": [
    "## Comparamos resultados\n",
    "Comparamos la carpeta \"resultados\" con la carpeta \"resultados esperados\"."
   ]
  },
  {
   "cell_type": "code",
   "execution_count": null,
   "metadata": {},
   "outputs": [],
   "source": [
    "resultados = [f for f in listdir(\"resultados\") if isfile(join(\"resultados\", f))]\n",
    "esperados = [f for f in listdir(\"resultados_esperados\") if isfile(join(\"resultados_esperados\", f))]\n",
    "common_elements = list(set(resultados).intersection(set(esperados)))\n",
    "for name in common_elements:\n",
    "    print(\">>>>>> Comparado el archivo %s\" % (name))\n",
    "    resultado = open(join(\"resultados\", name))\n",
    "    esperado = open(join(\"resultados_esperados\", name))\n",
    "    lineas_resultado = resultado.readlines()\n",
    "    lineas_esperado = esperado.readlines()\n",
    "    if len(lineas_resultado) != len(lineas_esperado):\n",
    "        print(\"No contienen la misma cantidad de lineas.\")\n",
    "        continue\n",
    "    if len(lineas_resultado) == 0:\n",
    "        print(\"Los archivos están vacíos.\")\n",
    "        continue\n",
    "    if lineas_resultado[0] != lineas_esperado[0]:\n",
    "        print(\"Los P utilizados son distintos por lo que no tiene sentido comparar.\")\n",
    "        continue\n",
    "    diferencias = []\n",
    "    for i in range(len(lineas_resultado)):\n",
    "        if abs(float(lineas_resultado[i]) - float(lineas_esperado[i])) > 10e-4:\n",
    "            print(\"En la linea %i el valor %s del resultado es distinto al valor %s del esperado.\" % (i, lineas_resultado[i], lineas_esperado[i]))\n",
    "        diferencias.append(abs(float(lineas_resultado[i]) - float(lineas_esperado[i])))\n",
    "    print(\"Estadísticas de las diferencias:\")\n",
    "    print(pd.Series(diferencias).describe())\n",
    "print(\">>>>>> Terminado de comparar todos los archivos\")"
   ]
  },
  {
   "cell_type": "code",
   "execution_count": null,
   "metadata": {},
   "outputs": [],
   "source": [
    "experimentos = [];"
   ]
  },
  {
   "cell_type": "code",
   "execution_count": null,
   "metadata": {},
   "outputs": [],
   "source": []
  },
  {
   "cell_type": "code",
   "execution_count": null,
   "metadata": {},
   "outputs": [],
   "source": [
    "archivo = open(\"archivo\")\n",
    "lineas = archivo.readlines()\n",
    "p = lineas[0]\n",
    "resultado = lineas[1:]\n",
    "resultado[5]\n",
    "pd.Series(resultado)"
   ]
  }
 ],
 "metadata": {
  "kernelspec": {
   "display_name": "Python 3 (ipykernel)",
   "language": "python",
   "name": "python3"
  },
  "language_info": {
   "codemirror_mode": {
    "name": "ipython",
    "version": 3
   },
   "file_extension": ".py",
   "mimetype": "text/x-python",
   "name": "python",
   "nbconvert_exporter": "python",
   "pygments_lexer": "ipython3",
   "version": "3.9.5"
  }
 },
 "nbformat": 4,
 "nbformat_minor": 4
}
