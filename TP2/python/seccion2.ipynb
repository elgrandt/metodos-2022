{
 "cells": [
  {
   "cell_type": "markdown",
   "metadata": {},
   "source": [
    "# Club de karate"
   ]
  },
  {
   "cell_type": "code",
   "execution_count": 2,
   "metadata": {},
   "outputs": [],
   "source": [
    "import math, subprocess\n",
    "import numpy as np\n",
    "import pandas as pd\n",
    "import time\n",
    "import matplotlib.pyplot as plt\n",
    "import os"
   ]
  },
  {
   "cell_type": "markdown",
   "metadata": {},
   "source": [
    "# Item 2.1\n",
    "## Centralidad de autovectores"
   ]
  },
  {
   "cell_type": "code",
   "execution_count": 3,
   "metadata": {},
   "outputs": [],
   "source": [
    "def calcular_centralidad(matriz):\n",
    "    # Calcular autovectores y autovalores\n",
    "    autovalores, autovectores = np.linalg.eig(matriz)\n",
    "    # Obtenemos el autovector más grande que define la centralidad\n",
    "    autovalor_mas_grande_index = 0\n",
    "    for i in range(len(autovalores)):\n",
    "        if autovalores[i] > autovalores[autovalor_mas_grande_index]:\n",
    "            autovalor_mas_grande_index = i\n",
    "    autovector_mas_grande = autovectores[autovalor_mas_grande_index]\n",
    "    return autovector_mas_grande"
   ]
  },
  {
   "cell_type": "code",
   "execution_count": 6,
   "metadata": {},
   "outputs": [],
   "source": [
    "# Levantamos la matriz\n",
    "f = open(\"../tests/karateclub_matriz.txt\", \"r\")\n",
    "i = 0\n",
    "matriz_karate=0\n",
    "for line in f:\n",
    "    if (i == 0):\n",
    "        size = len(line.split(\" \"))\n",
    "        matriz_karate = np.zeros((size, size))\n",
    "    matriz_karate[i, :] = [float(current) for current in line.split(\" \")]\n",
    "    i += 1\n"
   ]
  },
  {
   "cell_type": "code",
   "execution_count": 81,
   "metadata": {},
   "outputs": [
    {
     "data": {
      "text/plain": [
       "0.9999996521224396"
      ]
     },
     "execution_count": 81,
     "metadata": {},
     "output_type": "execute_result"
    }
   ],
   "source": []
  },
  {
   "cell_type": "markdown",
   "metadata": {},
   "source": [
    "# Item 2.2\n",
    "## Computar todos los autovectores de la matriz Laplaciana de la red del Club de Karate."
   ]
  },
  {
   "cell_type": "code",
   "execution_count": 1,
   "metadata": {},
   "outputs": [],
   "source": [
    "from scipy.sparse.csgraph import laplacian"
   ]
  },
  {
   "cell_type": "code",
   "execution_count": 14,
   "metadata": {},
   "outputs": [
    {
     "data": {
      "text/plain": [
       "0.017607705070921506"
      ]
     },
     "execution_count": 14,
     "metadata": {},
     "output_type": "execute_result"
    }
   ],
   "source": [
    "matrizLaplaciana=laplacian(matriz_karate)\n",
    "autovectores_Laplaciana = np.linalg.eig(matrizLaplaciana)[1]\n",
    "\n",
    "# calcular la correlacion entre 2 vectores, [0,1] es pqwreaa que devuelva el coeficiente de correlacion unicamente y no la matriz de correlaciones\n",
    "np.corrcoef (autovectores_Laplaciana[1], autovectores_Laplaciana[2]) [0,1]\n",
    "\n",
    "for autoVector in autovectores_Laplaciana:\n",
    "    coeficienteDecorrelacion=np.corrcoef (autoVector, autovectores_Laplaciana[2]) [0,1]\n",
    "    coeficienteDecorrelacion= abs(coeficienteDecorrelacion)\n",
    "    print(coeficienteDecorrelacion)"
   ]
  },
  {
   "cell_type": "code",
   "execution_count": null,
   "metadata": {},
   "outputs": [],
   "source": []
  }
 ],
 "metadata": {
  "kernelspec": {
   "display_name": "Python 3",
   "language": "python",
   "name": "python3"
  },
  "language_info": {
   "codemirror_mode": {
    "name": "ipython",
    "version": 3
   },
   "file_extension": ".py",
   "mimetype": "text/x-python",
   "name": "python",
   "nbconvert_exporter": "python",
   "pygments_lexer": "ipython3",
   "version": "3.8.10"
  }
 },
 "nbformat": 4,
 "nbformat_minor": 5
}
