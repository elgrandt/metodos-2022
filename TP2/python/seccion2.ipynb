{
 "cells": [
  {
   "cell_type": "markdown",
   "metadata": {},
   "source": [
    "# Club de karate"
   ]
  },
  {
   "cell_type": "code",
   "execution_count": 2,
   "metadata": {},
   "outputs": [],
   "source": [
    "import math, subprocess\n",
    "import numpy as np\n",
    "import pandas as pd\n",
    "import time\n",
    "import matplotlib.pyplot as plt\n",
    "import os"
   ]
  },
  {
   "cell_type": "markdown",
   "metadata": {},
   "source": [
    "# Item 2.1\n",
    "## Centralidad de autovectores"
   ]
  },
  {
   "cell_type": "code",
   "execution_count": 3,
   "metadata": {},
   "outputs": [],
   "source": [
    "def calcular_centralidad(matriz):\n",
    "    # Calcular autovectores y autovalores\n",
    "    autovalores, autovectores = np.linalg.eig(matriz)\n",
    "    # Obtenemos el autovector más grande que define la centralidad\n",
    "    autovalor_mas_grande_index = 0\n",
    "    for i in range(len(autovalores)):\n",
    "        if autovalores[i] > autovalores[autovalor_mas_grande_index]:\n",
    "            autovalor_mas_grande_index = i\n",
    "    autovector_mas_grande = autovectores[autovalor_mas_grande_index]\n",
    "    return autovector_mas_grande"
   ]
  },
  {
   "cell_type": "code",
   "execution_count": 6,
   "metadata": {},
   "outputs": [],
   "source": [
    "# Levantamos la matriz\n",
    "f = open(\"../tests/karateclub_matriz.txt\", \"r\")\n",
    "i = 0\n",
    "matriz_karate=0\n",
    "for line in f:\n",
    "    if (i == 0):\n",
    "        size = len(line.split(\" \"))\n",
    "        matriz_karate = np.zeros((size, size))\n",
    "    matriz_karate[i, :] = [float(current) for current in line.split(\" \")]\n",
    "    i += 1\n"
   ]
  },
  {
   "cell_type": "code",
   "execution_count": 81,
   "metadata": {},
   "outputs": [
    {
     "data": {
      "text/plain": [
       "0.9999996521224396"
      ]
     },
     "execution_count": 81,
     "metadata": {},
     "output_type": "execute_result"
    }
   ],
   "source": []
  },
  {
   "cell_type": "markdown",
   "metadata": {},
   "source": [
    "# Item 2.2\n",
    "## Computar todos los autovectores de la matriz Laplaciana de la red del Club de Karate."
   ]
  },
  {
   "cell_type": "code",
   "execution_count": 15,
   "metadata": {},
   "outputs": [],
   "source": [
    "from scipy.sparse.csgraph import laplacian"
   ]
  },
  {
   "cell_type": "code",
   "execution_count": 18,
   "metadata": {},
   "outputs": [
    {
     "name": "stdout",
     "output_type": "stream",
     "text": [
      "0.015465900747336832\n",
      "0.017607705070921506\n",
      "1.0\n",
      "0.03358433886225902\n",
      "0.015745375692399578\n",
      "0.0007950325806941835\n",
      "0.04405787492769325\n",
      "0.002381582184857357\n",
      "0.02863032569626035\n",
      "0.013901232751749586\n",
      "0.005616859736485169\n",
      "0.004059202552548531\n",
      "0.038695675895672535\n",
      "0.012103032714243534\n",
      "0.013955643472724101\n",
      "0.0019000207583871503\n",
      "0.002994337107350354\n",
      "0.01883162873459634\n",
      "0.01633844509129138\n",
      "0.0213511776792821\n",
      "0.0008969227613991693\n",
      "0.03304100658951955\n",
      "0.010935388822815046\n",
      "0.026507141085170494\n",
      "0.0038562003012695234\n",
      "0.05271201768211938\n",
      "0.009013776461907964\n",
      "0.0014995658710530311\n",
      "0.03991778042363989\n",
      "0.028002569660505426\n",
      "0.009666958413058393\n",
      "0.0015522528222150118\n",
      "0.024405276632693002\n",
      "0.029565862119462046\n"
     ]
    }
   ],
   "source": [
    "matrizLaplaciana=laplacian(matriz_karate)\n",
    "autovectores_Laplaciana = np.linalg.eig(matrizLaplaciana)[1]\n",
    "\n",
    "# calcular la correlacion entre 2 vectores, [0,1] es pqwreaa que devuelva el coeficiente de correlacion unicamente y no la matriz de correlaciones\n",
    "np.corrcoef (autovectores_Laplaciana[1], autovectores_Laplaciana[2]) [0,1]\n",
    "\n",
    "for autoVector in autovectores_Laplaciana:\n",
    "    coeficienteDecorrelacion=np.corrcoef (autoVector, autovectores_Laplaciana[2]) [0,1]\n",
    "    coeficienteDecorrelacion= abs(coeficienteDecorrelacion)\n",
    "    print(coeficienteDecorrelacion)"
   ]
  }
 ],
 "metadata": {
  "kernelspec": {
   "display_name": "Python 3",
   "language": "python",
   "name": "python3"
  },
  "language_info": {
   "codemirror_mode": {
    "name": "ipython",
    "version": 3
   },
   "file_extension": ".py",
   "mimetype": "text/x-python",
   "name": "python",
   "nbconvert_exporter": "python",
   "pygments_lexer": "ipython3",
   "version": "3.8.10"
  }
 },
 "nbformat": 4,
 "nbformat_minor": 5
}
