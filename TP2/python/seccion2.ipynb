{
 "cells": [
  {
   "cell_type": "markdown",
   "id": "31fdebff",
   "metadata": {},
   "source": [
    "# Club de karate"
   ]
  },
  {
   "cell_type": "code",
   "execution_count": 2,
   "id": "5d2ebace",
   "metadata": {},
   "outputs": [],
   "source": [
    "import math, subprocess\n",
    "import numpy as np\n",
    "import pandas as pd\n",
    "import time\n",
    "import matplotlib.pyplot as plt\n",
    "import os"
   ]
  },
  {
   "cell_type": "markdown",
   "id": "e8b6cb50",
   "metadata": {},
   "source": [
    "# Item 2.1\n",
    "## Centralidad de autovectores"
   ]
  },
  {
   "cell_type": "code",
   "execution_count": null,
   "id": "658d8baf",
   "metadata": {},
   "outputs": [],
   "source": [
    "def calcular_centralidad(matriz):\n",
    "    # Calcular autovectores y autovalores\n",
    "    autovalores, autovectores = np.linalg.eig(matriz)\n",
    "    # Obtenemos el autovector más grande que define la centralidad\n",
    "    autovalor_mas_grande_index = 0\n",
    "    for i in range(len(autovalores)):\n",
    "        if autovalores[i] > autovalores[autovalor_mas_grande_index]:\n",
    "            autovalor_mas_grande_index = i\n",
    "    autovector_mas_grande = autovectores[autovalor_mas_grande_index]\n",
    "    return autovector_mas_grande"
   ]
  },
  {
   "cell_type": "code",
   "execution_count": 5,
   "id": "a30c349c",
   "metadata": {},
   "outputs": [
    {
     "name": "stdout",
     "output_type": "stream",
     "text": [
      "[-3.55491445e-01+0.00000000e+00j -3.86861073e-01+0.00000000e+00j\n",
      " -3.17169916e-01+0.00000000e+00j -2.77301589e-01+0.00000000e+00j\n",
      " -5.54684531e-01+0.00000000e+00j  1.97857579e-01+0.00000000e+00j\n",
      "  1.71391475e-01+0.00000000e+00j  1.42280887e-02+0.00000000e+00j\n",
      " -1.87519478e-03+0.00000000e+00j  6.71078011e-02+0.00000000e+00j\n",
      " -5.93336726e-02+0.00000000e+00j -3.80037278e-02+0.00000000e+00j\n",
      "  1.51425768e-01+0.00000000e+00j -6.33227671e-02+0.00000000e+00j\n",
      "  1.64565066e-01+0.00000000e+00j -1.43009729e-01+0.00000000e+00j\n",
      " -7.32966647e-02+0.00000000e+00j -5.91985700e-02+0.00000000e+00j\n",
      " -1.31441171e-01+0.00000000e+00j -1.35951323e-01+0.00000000e+00j\n",
      "  1.86534978e-01+0.00000000e+00j -7.84950455e-02+0.00000000e+00j\n",
      "  2.30972542e-02+0.00000000e+00j  1.72196610e-16+0.00000000e+00j\n",
      "  3.12368271e-17+0.00000000e+00j -1.56322809e-17+0.00000000e+00j\n",
      " -2.55256614e-17+0.00000000e+00j  5.46194607e-17-7.23014804e-18j\n",
      "  5.46194607e-17+7.23014804e-18j  2.47409388e-17+9.46756539e-19j\n",
      "  2.47409388e-17-9.46756539e-19j  4.95319396e-17-9.99487632e-18j\n",
      "  4.95319396e-17+9.99487632e-18j  2.21399373e-17+0.00000000e+00j]\n"
     ]
    }
   ],
   "source": [
    "# Levantamos la matriz\n",
    "f = open(\"../tests/karateclub_matriz.txt\", \"r\")\n",
    "i = 0\n",
    "for line in f:\n",
    "    if (i == 0):\n",
    "        size = len(line.split(\" \"))\n",
    "        matriz_karate = np.zeros((size, size))\n",
    "    matriz_karate[i, :] = [float(current) for current in line.split(\" \")]\n",
    "    i += 1\n"
   ]
  },
  {
   "cell_type": "code",
   "execution_count": 81,
   "id": "66c92472",
   "metadata": {},
   "outputs": [
    {
     "data": {
      "text/plain": [
       "0.9999996521224396"
      ]
     },
     "execution_count": 81,
     "metadata": {},
     "output_type": "execute_result"
    }
   ],
   "source": []
  },
  {
   "cell_type": "code",
   "execution_count": null,
   "id": "b8b0fa42",
   "metadata": {},
   "outputs": [],
   "source": []
  }
 ],
 "metadata": {
  "kernelspec": {
   "display_name": "Python 3 (ipykernel)",
   "language": "python",
   "name": "python3"
  },
  "language_info": {
   "codemirror_mode": {
    "name": "ipython",
    "version": 3
   },
   "file_extension": ".py",
   "mimetype": "text/x-python",
   "name": "python",
   "nbconvert_exporter": "python",
   "pygments_lexer": "ipython3",
   "version": "3.9.5"
  }
 },
 "nbformat": 4,
 "nbformat_minor": 5
}
