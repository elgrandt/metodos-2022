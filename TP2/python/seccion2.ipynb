{
 "cells": [
  {
   "cell_type": "markdown",
   "id": "e2d536ad",
   "metadata": {},
   "source": [
    "# Club de karate"
   ]
  },
  {
   "cell_type": "code",
   "execution_count": 2,
   "id": "3125bc70",
   "metadata": {},
   "outputs": [],
   "source": [
    "import math, subprocess\n",
    "import numpy as np\n",
    "import pandas as pd\n",
    "import time\n",
    "import matplotlib.pyplot as plt\n",
    "import os"
   ]
  },
  {
   "cell_type": "markdown",
   "id": "c26e25e8",
   "metadata": {},
   "source": [
    "# Item 2.1\n",
    "## Centralidad de autovectores"
   ]
  },
  {
   "cell_type": "code",
   "execution_count": 3,
   "id": "dbe49c46",
   "metadata": {},
   "outputs": [],
   "source": [
    "def calcular_centralidad(matriz):\n",
    "    # Calcular autovectores y autovalores\n",
    "    autovalores, autovectores = np.linalg.eig(matriz)\n",
    "    # Obtenemos el autovector más grande que define la centralidad\n",
    "    autovalor_mas_grande_index = 0\n",
    "    for i in range(len(autovalores)):\n",
    "        if autovalores[i] > autovalores[autovalor_mas_grande_index]:\n",
    "            autovalor_mas_grande_index = i\n",
    "    autovector_mas_grande = autovectores[autovalor_mas_grande_index]\n",
    "    return autovector_mas_grande"
   ]
  },
  {
   "cell_type": "code",
   "execution_count": 15,
   "id": "e45b0d2f",
   "metadata": {},
   "outputs": [
    {
     "name": "stdout",
     "output_type": "stream",
     "text": [
      "[ 3.55491445e-01+0.00000000e+00j  3.86861073e-01+0.00000000e+00j\n",
      "  3.17169916e-01+0.00000000e+00j  2.77301589e-01+0.00000000e+00j\n",
      "  5.54684531e-01+0.00000000e+00j -1.97857579e-01+0.00000000e+00j\n",
      " -1.71391475e-01+0.00000000e+00j  1.42280887e-02+0.00000000e+00j\n",
      " -1.87519478e-03+0.00000000e+00j  6.71078011e-02+0.00000000e+00j\n",
      " -5.93336726e-02+0.00000000e+00j -3.80037278e-02+0.00000000e+00j\n",
      "  1.51425768e-01+0.00000000e+00j -6.33227671e-02+0.00000000e+00j\n",
      "  1.64565066e-01+0.00000000e+00j -1.43009729e-01+0.00000000e+00j\n",
      " -7.32966647e-02+0.00000000e+00j -5.91985700e-02+0.00000000e+00j\n",
      " -1.31441171e-01+0.00000000e+00j -1.35951323e-01+0.00000000e+00j\n",
      "  1.86534978e-01+0.00000000e+00j -7.84950455e-02+0.00000000e+00j\n",
      "  2.30972542e-02+0.00000000e+00j  1.50802961e-16+0.00000000e+00j\n",
      " -5.93050852e-17+0.00000000e+00j -1.38909115e-17+0.00000000e+00j\n",
      "  2.47491127e-18-1.04494305e-17j  2.47491127e-18+1.04494305e-17j\n",
      " -2.67104795e-17-9.51760806e-18j -2.67104795e-17+9.51760806e-18j\n",
      " -4.62017149e-17+2.22920915e-18j -4.62017149e-17-2.22920915e-18j\n",
      "  2.73834690e-17+0.00000000e+00j -2.52520351e-17+0.00000000e+00j]\n",
      "Indice del max: 4\n",
      "Max: (0.5546845306082508+0j)\n"
     ]
    }
   ],
   "source": [
    "# Levantamos la matriz\n",
    "f = open(\"../tests/karateclub_matriz.txt\", \"r\")\n",
    "i = 0\n",
    "matriz_karate=0\n",
    "for line in f:\n",
    "    if (i == 0):\n",
    "        size = len(line.split(\" \"))\n",
    "        matriz_karate = np.zeros((size, size))\n",
    "    matriz_karate[i, :] = [float(current) for current in line.split(\" \")]\n",
    "    i += 1\n",
    "centralidad = calcular_centralidad(matriz_karate)\n",
    "print(centralidad)\n",
    "print(\"Indice del max:\", np.argmax(centralidad))\n",
    "print(\"Max:\", np.max(centralidad))"
   ]
  },
  {
   "cell_type": "markdown",
   "id": "e105a817",
   "metadata": {},
   "source": [
    "# Item 2.2\n",
    "## Computar todos los autovectores de la matriz Laplaciana de la red del Club de Karate."
   ]
  },
  {
   "cell_type": "code",
   "execution_count": 6,
   "id": "08b09e31",
   "metadata": {},
   "outputs": [],
   "source": [
    "from scipy.sparse.csgraph import laplacian"
   ]
  },
  {
   "cell_type": "code",
   "execution_count": 17,
   "id": "7c471820",
   "metadata": {},
   "outputs": [],
   "source": [
    "def metodo_de_la_potencia(matriz):\n",
    "    return np.linalg.eig(matriz)"
   ]
  },
  {
   "cell_type": "code",
   "execution_count": 30,
   "id": "1987f633",
   "metadata": {},
   "outputs": [
    {
     "data": {
      "image/png": "[encoded data removed]",
      "text/plain": [
       "<Figure size 432x288 with 1 Axes>"
      ]
     },
     "metadata": {
      "needs_background": "light"
     },
     "output_type": "display_data"
    }
   ],
   "source": [
    "#tengo que leer el vector que representa los grupos despues del conflicto\n",
    "f = open(\"../tests/karateclub_labels.txt\", \"r\")\n",
    "vector_que_representa_al_grupo = np.zeros((size))\n",
    "i=0\n",
    "for line in f:\n",
    "    vector_que_representa_al_grupo[i]=(int(line))\n",
    "    i=i+1\n",
    "\n",
    "matriz_laplaciana=laplacian(matriz_karate)\n",
    "\n",
    "autovalores_laplaciana, autovectores_laplaciana = metodo_de_la_potencia(matriz_laplaciana)\n",
    "autovectores_laplaciana = autovectores_laplaciana.transpose()\n",
    "tmp = sorted(zip(autovalores_laplaciana, autovectores_laplaciana), key=lambda x: x[0])\n",
    "autovalores_laplaciana = [x[0] for x in tmp]\n",
    "autovectores_laplaciana = [x[1] for x in tmp]\n",
    "correlaciones = []\n",
    "for autovector in autovectores_laplaciana:\n",
    "    correlaciones.append(abs(np.corrcoef(autovector, vector_que_representa_al_grupo)[0,1]))\n",
    "plt.bar(np.arange(len(autovalores_laplaciana)), correlaciones, color=\"r\", width=.1)\n",
    "plt.xlabel(\"Indice del autovalor (ordenados)\")\n",
    "plt.ylabel(\"Correlacion\")\n",
    "plt.title(\"Correlacion del autovector en funcion del autovalor\")\n",
    "# plt.savefig('./graficos/correlacion_autovalor.png')\n",
    "plt.show()\n",
    "plt.close()"
   ]
  }
 ],
 "metadata": {
  "kernelspec": {
   "display_name": "Python 3 (ipykernel)",
   "language": "python",
   "name": "python3"
  },
  "language_info": {
   "codemirror_mode": {
    "name": "ipython",
    "version": 3
   },
   "file_extension": ".py",
   "mimetype": "text/x-python",
   "name": "python",
   "nbconvert_exporter": "python",
   "pygments_lexer": "ipython3",
   "version": "3.9.13"
  }
 },
 "nbformat": 4,
 "nbformat_minor": 5
}
