{
 "cells": [
  {
   "cell_type": "markdown",
   "id": "31fdebff",
   "metadata": {},
   "source": [
    "# Correr experimentos\n",
    "En este archivo está el código para correr los experimentos"
   ]
  },
  {
   "cell_type": "code",
   "execution_count": 50,
   "id": "5d2ebace",
   "metadata": {},
   "outputs": [],
   "source": [
    "import math, subprocess\n",
    "import numpy as np\n",
    "import pandas as pd\n",
    "import time\n",
    "import matplotlib.pyplot as plt\n",
    "import os"
   ]
  },
  {
   "cell_type": "code",
   "execution_count": 4,
   "id": "fe8f9304",
   "metadata": {},
   "outputs": [],
   "source": [
    "def almost_equals(a, b, tolerance = 1e-4):\n",
    "    return abs(a - b) < tolerance"
   ]
  },
  {
   "cell_type": "code",
   "execution_count": 44,
   "id": "2f9275cc",
   "metadata": {},
   "outputs": [],
   "source": [
    "ruta_del_ejecutable = \"../src/tp2.exe\""
   ]
  },
  {
   "cell_type": "markdown",
   "id": "e8b6cb50",
   "metadata": {},
   "source": [
    "# Item 1.2\n",
    "## Comprobar correctitud del codigo en c++"
   ]
  },
  {
   "cell_type": "code",
   "execution_count": 57,
   "id": "448c32e3",
   "metadata": {},
   "outputs": [],
   "source": [
    "def ejecutar_algoritmo_cpp(matrix, iteraciones=100000, tolerancia= 1e-4):\n",
    "    # Generamos la input\n",
    "    archivo_instancia = \"input.txt\"\n",
    "    with open(archivo_instancia, \"w+\") as f:\n",
    "        for i in range(matrix.shape[0]):\n",
    "            f.write(\" \".join(matrix[i,:].astype(\"str\")))\n",
    "            f.write(\"\\n\")\n",
    "    \n",
    "    # Crear proceso para ejecutar el codigo.\n",
    "    output_dir = os.getcwd()\n",
    "    \n",
    "    process = subprocess.Popen([ruta_del_ejecutable, archivo_instancia, str(iteraciones), str(tolerancia)], cwd=output_dir)\n",
    "\n",
    "    # Correr experimento.\n",
    "    exit_code = process.wait()\n",
    "\n",
    "    # Verificar que el proceso no fallo.\n",
    "    if exit_code != 0: raise(Exception(F\"Hubo un error en la ejecución del el algoritmo.\"))\n",
    "    \n",
    "    # Leemos los archivos de salida\n",
    "    with open(archivo_instancia + \".autovalores.out\", \"r\") as f:\n",
    "        autovalores = []\n",
    "        for line in f:\n",
    "            autovalores.append(float(line))\n",
    "        print(autovalores)"
   ]
  },
  {
   "cell_type": "code",
   "execution_count": 58,
   "id": "a30c349c",
   "metadata": {},
   "outputs": [
    {
     "name": "stdout",
     "output_type": "stream",
     "text": [
      "[[77 46]\n",
      " [70 71]]\n"
     ]
    },
    {
     "ename": "AttributeError",
     "evalue": "'_io.TextIOWrapper' object has no attribute 'empty'",
     "output_type": "error",
     "traceback": [
      "\u001b[1;31m---------------------------------------------------------------------------\u001b[0m",
      "\u001b[1;31mAttributeError\u001b[0m                            Traceback (most recent call last)",
      "Input \u001b[1;32mIn [58]\u001b[0m, in \u001b[0;36m<cell line: 1>\u001b[1;34m()\u001b[0m\n\u001b[0;32m      3\u001b[0m \u001b[38;5;28mprint\u001b[39m(matrix)\n\u001b[0;32m      4\u001b[0m \u001b[38;5;66;03m#autovalores, autovectores = np.linalg.eig(matrix)\u001b[39;00m\n\u001b[1;32m----> 5\u001b[0m \u001b[43mejecutar_algoritmo_cpp\u001b[49m\u001b[43m(\u001b[49m\u001b[43mmatrix\u001b[49m\u001b[43m)\u001b[49m\n",
      "Input \u001b[1;32mIn [57]\u001b[0m, in \u001b[0;36mejecutar_algoritmo_cpp\u001b[1;34m(matrix, iteraciones, tolerancia)\u001b[0m\n\u001b[0;32m     21\u001b[0m \u001b[38;5;28;01mwith\u001b[39;00m \u001b[38;5;28mopen\u001b[39m(archivo_instancia \u001b[38;5;241m+\u001b[39m \u001b[38;5;124m\"\u001b[39m\u001b[38;5;124m.autovalores.out\u001b[39m\u001b[38;5;124m\"\u001b[39m, \u001b[38;5;124m\"\u001b[39m\u001b[38;5;124mr\u001b[39m\u001b[38;5;124m\"\u001b[39m) \u001b[38;5;28;01mas\u001b[39;00m f:\n\u001b[0;32m     22\u001b[0m     autovalores \u001b[38;5;241m=\u001b[39m []\n\u001b[1;32m---> 23\u001b[0m     \u001b[38;5;28;01mwhile\u001b[39;00m \u001b[38;5;129;01mnot\u001b[39;00m \u001b[43mf\u001b[49m\u001b[38;5;241;43m.\u001b[39;49m\u001b[43mempty\u001b[49m():\n\u001b[0;32m     24\u001b[0m         autovalores\u001b[38;5;241m.\u001b[39mappend(\u001b[38;5;28mfloat\u001b[39m(f\u001b[38;5;241m.\u001b[39mreadline()))\n\u001b[0;32m     25\u001b[0m     \u001b[38;5;28mprint\u001b[39m(autovalores)\n",
      "\u001b[1;31mAttributeError\u001b[0m: '_io.TextIOWrapper' object has no attribute 'empty'"
     ]
    }
   ],
   "source": [
    "for i in range(2,3):\n",
    "    matrix = np.random.randint(100, size=(i,i))\n",
    "    print(matrix)\n",
    "    #autovalores, autovectores = np.linalg.eig(matrix)\n",
    "    ejecutar_algoritmo_cpp(matrix)\n",
    "    \n",
    "#     for x in range(len(autovalores)):\n",
    "#         if not almost_equals(autovalores[x], nuestros_autovalores[x]):\n",
    "#             print(f\"Los autovalores no son iguales {autovalores[x]} y {nuestros_autovalores[x]}\")\n",
    "#         if not np.all(almost_equals(autovectores[x], nuestros_autovectores[x])):\n",
    "#             print(f\"Los autovectores no son iguales {autovectores[x]} y {nuestros_autovectores[x]}\")\n",
    "        "
   ]
  },
  {
   "cell_type": "code",
   "execution_count": null,
   "id": "f067df5a",
   "metadata": {},
   "outputs": [],
   "source": []
  },
  {
   "cell_type": "code",
   "execution_count": null,
   "id": "809523f4",
   "metadata": {},
   "outputs": [],
   "source": []
  }
 ],
 "metadata": {
  "kernelspec": {
   "display_name": "Python 3 (ipykernel)",
   "language": "python",
   "name": "python3"
  },
  "language_info": {
   "codemirror_mode": {
    "name": "ipython",
    "version": 3
   },
   "file_extension": ".py",
   "mimetype": "text/x-python",
   "name": "python",
   "nbconvert_exporter": "python",
   "pygments_lexer": "ipython3",
   "version": "3.9.5"
  }
 },
 "nbformat": 4,
 "nbformat_minor": 5
}
