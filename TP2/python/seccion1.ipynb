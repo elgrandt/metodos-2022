{
 "cells": [
  {
   "cell_type": "markdown",
   "id": "31fdebff",
   "metadata": {},
   "source": [
    "# Correr experimentos\n",
    "En este archivo está el código para correr los experimentos"
   ]
  },
  {
   "cell_type": "code",
   "execution_count": null,
   "id": "5d2ebace",
   "metadata": {},
   "outputs": [
    {
     "ename": "",
     "evalue": "",
     "output_type": "error",
     "traceback": [
      "\u001b[1;31mNo se pudo conectar con el servidor remoto de Jupyter Server 'http://127.0.0.1:8888/'. Compruebe que el servidor se está ejecutando y es accesible. (request to http://127.0.0.1:8888/api/kernels?1666893413679 failed, reason: connect ECONNREFUSED 127.0.0.1:8888)."
     ]
    }
   ],
   "source": [
    "import math, subprocess\n",
    "import numpy as np\n",
    "import pandas as pd\n",
    "import time\n",
    "import matplotlib.pyplot as plt\n",
    "import os"
   ]
  },
  {
   "cell_type": "code",
   "execution_count": null,
   "id": "850e15df",
   "metadata": {},
   "outputs": [],
   "source": [
    "def almost_equals(a, b, tolerance = 1e-4):\n",
    "    return abs(a - b) < tolerance"
   ]
  },
  {
   "cell_type": "code",
   "execution_count": null,
   "id": "3dc8245c",
   "metadata": {},
   "outputs": [],
   "source": [
    "ruta_del_ejecutable = \"../src/tp2.exe\"\n",
    "np.random.seed(10)"
   ]
  },
  {
   "cell_type": "markdown",
   "id": "e8b6cb50",
   "metadata": {},
   "source": [
    "# Item 1.2\n",
    "## Comprobar correctitud del codigo en c++"
   ]
  },
  {
   "cell_type": "code",
   "execution_count": null,
   "id": "448c32e3",
   "metadata": {},
   "outputs": [],
   "source": [
    "def ejecutar_algoritmo_cpp(matrix, cantidad, iteraciones=100000, tolerancia= 1e-4):\n",
    "    # Generamos la input\n",
    "    archivo_instancia = \"input.txt\"\n",
    "    with open(archivo_instancia, \"w+\") as f:\n",
    "        for i in range(matrix.shape[0]):\n",
    "            f.write(\" \".join(matrix[i,:].astype(\"str\")))\n",
    "            f.write(\"\\n\")\n",
    "    \n",
    "    # Crear proceso para ejecutar el codigo.\n",
    "    output_dir = os.getcwd()\n",
    "    \n",
    "    process = subprocess.Popen([ruta_del_ejecutable, archivo_instancia, str(cantidad), str(iteraciones), str(tolerancia)], cwd=output_dir)\n",
    "\n",
    "    # Correr experimento.\n",
    "    exit_code = process.wait()\n",
    "\n",
    "    # Verificar que el proceso no fallo.\n",
    "    if exit_code != 0: raise(Exception(F\"Hubo un error en , cantidadla ejecución del el algoritmo.\"))\n",
    "    \n",
    "    # Leemos los archivos de salida\n",
    "    f = open(archivo_instancia + \".autovalores.out\", \"r\")\n",
    "    autovalores = []\n",
    "    for line in f:\n",
    "        autovalores.append(float(line))\n",
    "    f2 = open(archivo_instancia + \".autovectores.out\", \"r\")\n",
    "    autovectores = np.zeros((matrix.shape[0], cantidad))\n",
    "    i = 0\n",
    "    for line in f2:\n",
    "        autovectores[i, :] = [float(current) for current in line.split(\" \")]\n",
    "        i += 1\n",
    "    f3 = open(\"iteraciones.out\", \"r\")\n",
    "    iteraciones = []\n",
    "    for line in f3:\n",
    "        iteraciones.append(int(line))\n",
    "    return autovalores, autovectores, iteraciones"
   ]
  },
  {
   "cell_type": "markdown",
   "id": "83b9aff2",
   "metadata": {},
   "source": [
    "### Checkeo de correctitud"
   ]
  },
  {
   "cell_type": "code",
   "execution_count": null,
   "id": "a30c349c",
   "metadata": {},
   "outputs": [],
   "source": [
    "matriz = np.random.randint(0, 100, size=(3, 3))\n",
    "matriz = (matriz + matriz.T) / 2\n",
    "print(matriz)\n",
    "autovalores, autovectores, iteraciones = ejecutar_algoritmo_cpp(matriz, matriz.shape[0], 100000, 1e-7)\n",
    "\n",
    "for i in range(len(autovalores)):\n",
    "    print(np.dot(matriz, autovectores[:, i]), autovalores[i] * autovectores[:, i])"
   ]
  },
  {
   "cell_type": "markdown",
   "id": "4c31a377",
   "metadata": {},
   "source": [
    "### Análisis de tiempo de convergencia"
   ]
  },
  {
   "cell_type": "code",
   "execution_count": null,
   "id": "66c92472",
   "metadata": {},
   "outputs": [],
   "source": [
    "matriz = np.random.randint(0, 100, size=(20, 20))\n",
    "matriz = (matriz + matriz.T) / 2\n",
    "autovalores, autovectores, iteraciones = ejecutar_algoritmo_cpp(matriz, 20, 100000, 0.0000001)\n"
   ]
  },
  {
   "cell_type": "code",
   "execution_count": null,
   "id": "b8b0fa42",
   "metadata": {},
   "outputs": [],
   "source": [
    "cociente_de_autovalores = []\n",
    "for i in range(len(autovalores) - 1):\n",
    "    cociente_de_autovalores.append(abs(autovalores[i] / autovalores[i+1]))\n",
    "cociente_de_autovalores, iteraciones = zip(*[i for i in zip(cociente_de_autovalores, iteraciones) if True])\n",
    "print(cociente_de_autovalores)\n",
    "plt.plot(cociente_de_autovalores, iteraciones, marker='.', linestyle='')\n",
    "plt.xlabel(\"autovalor[i] / autovalor[i+1]\")\n",
    "plt.ylabel(\"#Iteraciones\")\n",
    "plt.title(\"Análisis de convergencia\")\n",
    "plt.savefig('./graficos/analisis-convergencia.png')\n",
    "plt.show()\n",
    "plt.close()\n",
    "# No pudimos obtener un resultado satisfactorio con respecto a la teoría\n"
   ]
  }
 ],
 "metadata": {
  "kernelspec": {
   "display_name": "Python 3 (ipykernel)",
   "language": "python",
   "name": "python3"
  },
  "language_info": {
   "name": "python",
   "version": "3.6.8"
  },
  "vscode": {
   "interpreter": {
    "hash": "f4e9cda46bb2d9d7fe6ecdff0f8336a934348bf06cb492f2f42f60739b3403b4"
   }
  }
 },
 "nbformat": 4,
 "nbformat_minor": 5
}
