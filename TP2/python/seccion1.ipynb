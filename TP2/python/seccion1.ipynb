{
 "cells": [
  {
   "cell_type": "markdown",
   "id": "31fdebff",
   "metadata": {},
   "source": [
    "# Correr experimentos\n",
    "En este archivo está el código para correr los experimentos"
   ]
  },
  {
   "cell_type": "code",
   "execution_count": 2,
   "id": "5d2ebace",
   "metadata": {},
   "outputs": [],
   "source": [
    "import math, subprocess\n",
    "import numpy as np\n",
    "import pandas as pd\n",
    "import time\n",
    "import matplotlib.pyplot as plt\n",
    "import os"
   ]
  },
  {
   "cell_type": "code",
   "execution_count": 3,
   "id": "850e15df",
   "metadata": {},
   "outputs": [],
   "source": [
    "def almost_equals(a, b, tolerance = 1e-4):\n",
    "    return abs(a - b) < tolerance"
   ]
  },
  {
   "cell_type": "code",
   "execution_count": 60,
   "id": "3dc8245c",
   "metadata": {},
   "outputs": [],
   "source": [
    "ruta_del_ejecutable = \"../src/tp2.exe\"\n",
    "np.random.seed(10)"
   ]
  },
  {
   "cell_type": "markdown",
   "id": "e8b6cb50",
   "metadata": {},
   "source": [
    "# Item 1.2\n",
    "## Comprobar correctitud del codigo en c++"
   ]
  },
  {
   "cell_type": "code",
   "execution_count": 5,
   "id": "448c32e3",
   "metadata": {},
   "outputs": [],
   "source": [
    "def ejecutar_algoritmo_cpp(matrix, cantidad, iteraciones=100000, tolerancia= 1e-4):\n",
    "    # Generamos la input\n",
    "    archivo_instancia = \"input.txt\"\n",
    "    with open(archivo_instancia, \"w+\") as f:\n",
    "        for i in range(matrix.shape[0]):\n",
    "            f.write(\" \".join(matrix[i,:].astype(\"str\")))\n",
    "            f.write(\"\\n\")\n",
    "    \n",
    "    # Crear proceso para ejecutar el codigo.\n",
    "    output_dir = os.getcwd()\n",
    "    \n",
    "    process = subprocess.Popen([ruta_del_ejecutable, archivo_instancia, str(cantidad), str(iteraciones), str(tolerancia)], cwd=output_dir)\n",
    "\n",
    "    # Correr experimento.\n",
    "    exit_code = process.wait()\n",
    "\n",
    "    # Verificar que el proceso no fallo.\n",
    "    if exit_code != 0: raise(Exception(F\"Hubo un error en , cantidadla ejecución del el algoritmo.\"))\n",
    "    \n",
    "    # Leemos los archivos de salida\n",
    "    f = open(archivo_instancia + \".autovalores.out\", \"r\")\n",
    "    autovalores = []\n",
    "    for line in f:\n",
    "        autovalores.append(float(line))\n",
    "    f2 = open(archivo_instancia + \".autovectores.out\", \"r\")\n",
    "    autovectores = np.zeros((matrix.shape[0], cantidad))\n",
    "    i = 0\n",
    "    for line in f2:\n",
    "        autovectores[i, :] = [float(current) for current in line.split(\" \")]\n",
    "        i += 1\n",
    "    f3 = open(\"iteraciones.out\", \"r\")\n",
    "    iteraciones = []\n",
    "    for line in f3:\n",
    "        iteraciones.append(int(line))\n",
    "    return autovalores, autovectores, iteraciones"
   ]
  },
  {
   "cell_type": "markdown",
   "id": "83b9aff2",
   "metadata": {},
   "source": [
    "### Checkeo de correctitud"
   ]
  },
  {
   "cell_type": "code",
   "execution_count": 6,
   "id": "a30c349c",
   "metadata": {},
   "outputs": [
    {
     "name": "stdout",
     "output_type": "stream",
     "text": [
      "[[ 9.  21.5 46.5]\n",
      " [21.5 89.  50.5]\n",
      " [46.5 50.5 73. ]]\n",
      "[ 48.120141  100.6843945  97.4398355] [ 48.12199742 100.68055305  97.4435411 ]\n",
      "[-14.2453335  28.2168655 -22.077456 ] [-14.24972565  28.20222618 -22.09328413]\n",
      "[-13.6723726  -0.8936541   7.6698173] [-13.66826263  -0.89641661   7.67685269]\n"
     ]
    }
   ],
   "source": [
    "matriz = np.random.randint(0, 100, size=(3, 3))\n",
    "matriz = (matriz + matriz.T) / 2\n",
    "print(matriz)\n",
    "autovalores, autovectores, iteraciones = ejecutar_algoritmo_cpp(matriz, matriz.shape[0], 100000, 1e-7)\n",
    "\n",
    "for i in range(len(autovalores)):\n",
    "    print(np.dot(matriz, autovectores[:, i]), autovalores[i] * autovectores[:, i])"
   ]
  },
  {
   "cell_type": "markdown",
   "id": "4c31a377",
   "metadata": {},
   "source": [
    "### Análisis de tiempo de convergencia"
   ]
  },
  {
   "cell_type": "code",
   "execution_count": 57,
   "id": "66c92472",
   "metadata": {},
   "outputs": [],
   "source": [
    "matriz = np.random.randint(0, 100, size=(20, 20))\n",
    "matriz = (matriz + matriz.T) / 2\n",
    "autovalores, autovectores, iteraciones = ejecutar_algoritmo_cpp(matriz, 20, 100000, 0.0000001)\n"
   ]
  },
  {
   "cell_type": "code",
   "execution_count": 61,
   "id": "b8b0fa42",
   "metadata": {},
   "outputs": [
    {
     "name": "stdout",
     "output_type": "stream",
     "text": [
      "(6.593505750778419, 1.0527266402654394, 1.129225493084355, 1.018362385956275, 1.0224396536129179, 1.067308580207013, 1.3025968175098195, 1.0141908467042546, 1.078792939873111, 1.105649620360327, 1.2618404998088828, 1.021934328358209, 1.1211834342159366, 1.2417328238655119, 1.1332285575114305, 1.987861636565951)\n"
     ]
    },
    {
     "data": {
      "image/png": "[encoded data removed]",
      "text/plain": [
       "<Figure size 432x288 with 1 Axes>"
      ]
     },
     "metadata": {
      "needs_background": "light"
     },
     "output_type": "display_data"
    }
   ],
   "source": [
    "cociente_de_autovalores = []\n",
    "for i in range(len(autovalores) - 1):\n",
    "    cociente_de_autovalores.append(abs(autovalores[i] / autovalores[i+1]))\n",
    "cociente_de_autovalores, iteraciones = zip(*[i for i in zip(cociente_de_autovalores, iteraciones) if True])\n",
    "print(cociente_de_autovalores)\n",
    "plt.plot(cociente_de_autovalores, iteraciones, marker='.', linestyle='')\n",
    "plt.xlabel(\"autovalor[i] / autovalor[i+1]\")\n",
    "plt.ylabel(\"#Iteraciones\")\n",
    "plt.title(\"Análisis de convergencia\")\n",
    "# plt.savefig('./graficos/analisis-convergencia.png')\n",
    "plt.show()\n",
    "plt.close()\n",
    "# No pudimos obtener un resultado satisfactorio con respecto a la teoría así que no va a ir al informe\n"
   ]
  }
 ],
 "metadata": {
  "kernelspec": {
   "display_name": "Python 3 (ipykernel)",
   "language": "python",
   "name": "python3"
  },
  "language_info": {
   "codemirror_mode": {
    "name": "ipython",
    "version": 3
   },
   "file_extension": ".py",
   "mimetype": "text/x-python",
   "name": "python",
   "nbconvert_exporter": "python",
   "pygments_lexer": "ipython3",
   "version": "3.9.5"
  },
  "vscode": {
   "interpreter": {
    "hash": "f4e9cda46bb2d9d7fe6ecdff0f8336a934348bf06cb492f2f42f60739b3403b4"
   }
  }
 },
 "nbformat": 4,
 "nbformat_minor": 5
}
