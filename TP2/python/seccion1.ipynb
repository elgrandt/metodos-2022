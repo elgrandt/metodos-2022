{
 "cells": [
  {
   "cell_type": "markdown",
   "id": "31fdebff",
   "metadata": {},
   "source": [
    "# Correr experimentos\n",
    "En este archivo está el código para correr los experimentos"
   ]
  },
  {
   "cell_type": "code",
   "execution_count": 50,
   "id": "5d2ebace",
   "metadata": {},
   "outputs": [],
   "source": [
    "import math, subprocess\n",
    "import numpy as np\n",
    "import pandas as pd\n",
    "import time\n",
    "import matplotlib.pyplot as plt\n",
    "import os"
   ]
  },
  {
   "cell_type": "code",
   "execution_count": 4,
   "id": "850e15df",
   "metadata": {},
   "outputs": [],
   "source": [
    "def almost_equals(a, b, tolerance = 1e-4):\n",
    "    return abs(a - b) < tolerance"
   ]
  },
  {
   "cell_type": "code",
   "execution_count": 72,
   "id": "3dc8245c",
   "metadata": {},
   "outputs": [],
   "source": [
    "ruta_del_ejecutable = \"../src/tp2.exe\"\n",
    "np.random.seed(10)"
   ]
  },
  {
   "cell_type": "markdown",
   "id": "e8b6cb50",
   "metadata": {},
   "source": [
    "# Item 1.2\n",
    "## Comprobar correctitud del codigo en c++"
   ]
  },
  {
   "cell_type": "code",
   "execution_count": 73,
   "id": "448c32e3",
   "metadata": {},
   "outputs": [],
   "source": [
    "def ejecutar_algoritmo_cpp(matrix, cantidad, iteraciones=100000, tolerancia= 1e-4):\n",
    "    # Generamos la input\n",
    "    archivo_instancia = \"input.txt\"\n",
    "    with open(archivo_instancia, \"w+\") as f:\n",
    "        for i in range(matrix.shape[0]):\n",
    "            f.write(\" \".join(matrix[i,:].astype(\"str\")))\n",
    "            f.write(\"\\n\")\n",
    "    \n",
    "    # Crear proceso para ejecutar el codigo.\n",
    "    output_dir = os.getcwd()\n",
    "    \n",
    "    process = subprocess.Popen([ruta_del_ejecutable, archivo_instancia, str(cantidad), str(iteraciones), str(tolerancia)], cwd=output_dir)\n",
    "\n",
    "    # Correr experimento.\n",
    "    exit_code = process.wait()\n",
    "\n",
    "    # Verificar que el proceso no fallo.\n",
    "    if exit_code != 0: raise(Exception(F\"Hubo un error en , cantidadla ejecución del el algoritmo.\"))\n",
    "    \n",
    "    # Leemos los archivos de salida\n",
    "    f = open(archivo_instancia + \".autovalores.out\", \"r\")\n",
    "    autovalores = []\n",
    "    for line in f:\n",
    "        autovalores.append(float(line))\n",
    "    f2 = open(archivo_instancia + \".autovectores.out\", \"r\")\n",
    "    autovectores = np.zeros((matrix.shape[0], cantidad))\n",
    "    i = 0\n",
    "    for line in f2:\n",
    "        autovectores[i, :] = [float(current) for current in line.split(\" \")]\n",
    "        i += 1\n",
    "    return autovalores, autovectores"
   ]
  },
  {
   "cell_type": "code",
   "execution_count": 74,
   "id": "a30c349c",
   "metadata": {},
   "outputs": [
    {
     "name": "stdout",
     "output_type": "stream",
     "text": [
      "[[ 9 15]\n",
      " [64 28]]\n",
      "Los autovalores no son iguales -13.907560846197605 y 50.9587\n",
      "Los autovectores no son iguales [-0.54781155 -0.33699411] y [0.337977 0.335788]\n",
      "Los autovalores no son iguales 50.907560846197605 y 49.8447\n",
      "Los autovectores no son iguales [ 0.83660176 -0.94150675] y [0.941154 0.941938]\n"
     ]
    }
   ],
   "source": [
    "for i in range(2,3):\n",
    "    matrix = np.random.randint(100, size=(i,i))\n",
    "    print(matrix)\n",
    "    autovalores, autovectores = np.linalg.eig(matrix)\n",
    "    nuestros_autovalores, nuestros_autovectores = ejecutar_algoritmo_cpp(matrix)\n",
    "    \n",
    "    for x in range(len(autovalores)):\n",
    "        if not almost_equals(autovalores[x], nuestros_autovalores[x]):\n",
    "            print(f\"Los autovalores no son iguales {autovalores[x]} y {nuestros_autovalores[x]}\")\n",
    "        if not np.all(almost_equals(autovectores[x], nuestros_autovectores[x])):\n",
    "            print(f\"Los autovectores no son iguales {autovectores[x]} y {nuestros_autovectores[x]}\")"
   ]
  },
  {
   "cell_type": "code",
   "execution_count": 81,
   "id": "66c92472",
   "metadata": {},
   "outputs": [
    {
     "data": {
      "text/plain": [
       "0.9999996521224396"
      ]
     },
     "execution_count": 81,
     "metadata": {},
     "output_type": "execute_result"
    }
   ],
   "source": []
  },
  {
   "cell_type": "code",
   "execution_count": null,
   "id": "b8b0fa42",
   "metadata": {},
   "outputs": [],
   "source": []
  }
 ],
 "metadata": {
  "kernelspec": {
   "display_name": "Python 3.8.10 64-bit",
   "language": "python",
   "name": "python3"
  },
  "language_info": {
   "name": "python",
   "version": "3.8.10"
  },
  "vscode": {
   "interpreter": {
    "hash": "916dbcbb3f70747c44a77c7bcd40155683ae19c65e1c03b4aa3499c5328201f1"
   }
  }
 },
 "nbformat": 4,
 "nbformat_minor": 5
}
