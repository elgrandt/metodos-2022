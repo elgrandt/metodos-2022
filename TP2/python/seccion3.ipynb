{
 "cells": [
  {
   "cell_type": "markdown",
   "metadata": {},
   "source": [
    "# EGO Facebook"
   ]
  },
  {
   "cell_type": "code",
   "execution_count": 2,
   "metadata": {},
   "outputs": [],
   "source": [
    "import math, subprocess\n",
    "import numpy as np\n",
    "import pandas as pd\n",
    "import time\n",
    "import matplotlib.pyplot as plt\n",
    "import os"
   ]
  },
  {
   "cell_type": "markdown",
   "id": "a539f179",
   "metadata": {},
   "source": [
    "# Item 3.1\n",
    "## Con los datos de Facebook, computar la matriz de similaridad con producto interno de la matriz de atributos"
   ]
  },
  {
   "cell_type": "code",
   "execution_count": 14,
   "id": "c132d01a",
   "metadata": {},
   "outputs": [],
   "source": [
    "def calcular_matriz_similaridad(mat1):\n",
    "    return np.dot(mat1, np.transpose(mat1))"
   ]
  },
  {
   "cell_type": "code",
   "execution_count": 32,
   "metadata": {},
   "outputs": [
    {
     "name": "stdout",
     "output_type": "stream",
     "text": [
      "[[0 0 0 ... 0 0 0]\n",
      " [0 0 0 ... 0 0 0]\n",
      " [0 0 0 ... 0 0 0]\n",
      " ...\n",
      " [0 0 0 ... 0 0 0]\n",
      " [0 0 0 ... 0 0 0]\n",
      " [0 0 0 ... 0 0 0]]\n"
     ]
    }
   ],
   "source": [
    "# Levantamos la matriz\n",
    "f = open(\"../tests/ego-facebook.feat\", \"r\")\n",
    "lineas = []\n",
    "for linea in f:\n",
    "    lineas.append([int(i) for i in linea.split(\" \")])\n",
    "nodes = [linea[0] for linea in lineas]\n",
    "attributes = np.matrix([linea[1:] for linea in lineas])\n",
    "\n",
    "matriz_similaridad = calcular_matriz_similaridad(attributes)\n",
    "matriz_similaridad = matriz_similaridad / np.max(matriz_similaridad)\n",
    "umbral = 0.5\n",
    "conexiones_calculadas = (matriz_similaridad > umbral).astype(int)"
   ]
  }
 ],
 "metadata": {
  "kernelspec": {
   "display_name": "Python 3 (ipykernel)",
   "language": "python",
   "name": "python3"
  },
  "language_info": {
   "codemirror_mode": {
    "name": "ipython",
    "version": 3
   },
   "file_extension": ".py",
   "mimetype": "text/x-python",
   "name": "python",
   "nbconvert_exporter": "python",
   "pygments_lexer": "ipython3",
   "version": "3.9.13"
  }
 },
 "nbformat": 4,
 "nbformat_minor": 5
}
